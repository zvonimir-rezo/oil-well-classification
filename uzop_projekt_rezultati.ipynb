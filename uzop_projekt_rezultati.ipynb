{
  "cells": [
    {
      "cell_type": "code",
      "execution_count": 3,
      "metadata": {
        "colab": {
          "base_uri": "https://localhost:8080/"
        },
        "id": "3OrcGLUXuEcN",
        "outputId": "429c624c-b0bd-48c9-a84c-75abb1c84bc7"
      },
      "outputs": [
        {
          "output_type": "stream",
          "name": "stdout",
          "text": [
            "Mounted at /content/drive\n"
          ]
        }
      ],
      "source": [
        "from google.colab import drive\n",
        "drive.mount('/content/drive')"
      ]
    },
    {
      "cell_type": "code",
      "execution_count": null,
      "metadata": {
        "id": "gesuy4xSvIm0"
      },
      "outputs": [],
      "source": [
        "%cd drive/MyDrive/data/"
      ]
    },
    {
      "cell_type": "code",
      "execution_count": null,
      "metadata": {
        "id": "ey1Fku0FnXMQ"
      },
      "outputs": [],
      "source": [
        "!pip install tsfresh"
      ]
    },
    {
      "cell_type": "code",
      "execution_count": 112,
      "metadata": {
        "id": "l5qqowT8oHMk",
        "variables": {
          "import datetime;import locale;locale.setlocale(locale.LC_ALL, 'portuguese_brazil');datetime.date.today().strftime('%d de %B de %Y')": "05 de agosto de 2018"
        }
      },
      "outputs": [],
      "source": [
        "import numpy as np\n",
        "import pandas as pd\n",
        "import matplotlib.pyplot as plt\n",
        "import seaborn as sb\n",
        "import os\n",
        "import random\n",
        "import math\n",
        "from tsfresh.feature_extraction import extract_features, ComprehensiveFCParameters\n",
        "from tsfresh import select_features\n",
        "from tsfresh.utilities.dataframe_functions import impute\n",
        "\n",
        "from sklearn import preprocessing\n",
        "from sklearn.linear_model import LogisticRegression, SGDClassifier\n",
        "from sklearn.svm import SVC\n",
        "from sklearn.discriminant_analysis import LinearDiscriminantAnalysis, QuadraticDiscriminantAnalysis\n",
        "from sklearn.tree import DecisionTreeClassifier\n",
        "from sklearn.ensemble import RandomForestClassifier, AdaBoostClassifier\n",
        "from sklearn.model_selection import GridSearchCV, train_test_split, RandomizedSearchCV, cross_val_score\n",
        "from sklearn.metrics import accuracy_score, f1_score, make_scorer, confusion_matrix\n",
        "from sklearn.discriminant_analysis  import LinearDiscriminantAnalysis, QuadraticDiscriminantAnalysis"
      ]
    },
    {
      "cell_type": "code",
      "execution_count": 113,
      "metadata": {
        "id": "iLaXSRg3oHMl"
      },
      "outputs": [],
      "source": [
        "\n",
        "event_names = {0: 'Normal',\n",
        "                1: 'Abrupt Increase of BSW',\n",
        "                2: 'Spurious Closure of DHSV',\n",
        "                3: 'Severe Slugging',\n",
        "                4: 'Flow Instability',\n",
        "                5: 'Rapid Productivity Loss',\n",
        "                6: 'Quick Restriction in PCK',\n",
        "                7: 'Hydrate in Production Line'\n",
        "               }\n",
        "\n",
        "fc_parameters = {\n",
        "    \"mean\": None,\n",
        "    \"median\": None,\n",
        "    \"variance\": None,\n",
        "    \"skewness\": None,\n",
        "    \"kurtosis\": None,\n",
        "    \"fft_aggregated\": [{'aggtype': 'centroid'}, {'aggtype': 'variance'}, {'aggtype': 'skew'}, {'aggtype': 'kurtosis'}],\n",
        "    \"maximum\": None,\n",
        "    \"minimum\": None,\n",
        "    \"quantile\": [{'q': 0.1}, {'q': 0.2}, {'q': 0.3}, {'q': 0.4}, {'q': 0.6}, {'q': 0.7}, {'q': 0.8}, {'q': 0.9}],\n",
        "    \"variation_coefficient\": None,\n",
        "    \"mean_change\": None,\n",
        "    \"mean_second_derivative_central\": None,\n",
        "    \"friedrich_coefficients\": [{'coeff': 1, 'm': 1, 'r': 30}, {'coeff': 1, 'm': 3, 'r': 30}],\n",
        "}\n",
        "\n",
        "standard_scaler = preprocessing.StandardScaler()\n",
        "minmax_scaler = preprocessing.MinMaxScaler()\n"
      ]
    },
    {
      "cell_type": "markdown",
      "metadata": {
        "id": "id9vzkV2oHMq"
      },
      "source": [
        "Delete rows without a class"
      ]
    },
    {
      "cell_type": "code",
      "execution_count": null,
      "metadata": {
        "id": "elJDtBn3pas-"
      },
      "outputs": [],
      "source": [
        "for f in range(0, 9):\n",
        "  path_dir = str(f)\n",
        "  os.mkdir(path_dir + path_dir)\n",
        "  for file in os.listdir(path_dir):\n",
        "    df = pd.read_csv(path_dir + \"/\" + file)\n",
        "    df = df[df['class'].notna()]\n",
        "    df.to_csv(path_dir + path_dir + \"/\" + file, index=False)"
      ]
    },
    {
      "cell_type": "markdown",
      "metadata": {
        "id": "YjHE7fNbXp7H"
      },
      "source": [
        "### Downsampling"
      ]
    },
    {
      "cell_type": "markdown",
      "metadata": {
        "id": "o2AwGyIzDeuf"
      },
      "source": [
        "10 sec"
      ]
    },
    {
      "cell_type": "code",
      "execution_count": null,
      "metadata": {
        "id": "orcskpJRXpRA"
      },
      "outputs": [],
      "source": [
        "for f in range(0, 9):\n",
        "  str_f = str(f)\n",
        "  path_dir = str_f + str_f\n",
        "  os.mkdir(f\"downsampled/{str_f}\")\n",
        "  for file in os.listdir(path_dir):\n",
        "    df = pd.read_csv(path_dir + \"/\" + file)\n",
        "    df['timestamp'] = pd.to_datetime(df['timestamp'])\n",
        "    df = df.resample('10S', on='timestamp').mean()\n",
        "    df.to_csv(f\"downsampled/{str_f}/{file}\", index=False)"
      ]
    },
    {
      "cell_type": "markdown",
      "metadata": {
        "id": "zEFy-s6wDg6v"
      },
      "source": [
        "20 sec\\\n",
        "Pošto sam ja već u prvom dijelu radio 10s downsamplanje, možemo sad na 20"
      ]
    },
    {
      "cell_type": "code",
      "execution_count": null,
      "metadata": {
        "id": "fsoxt9cMDg6w"
      },
      "outputs": [],
      "source": [
        "for f in range(0, 9):\n",
        "  str_f = str(f)\n",
        "  path_dir = str_f + str_f\n",
        "  os.mkdir(f\"downsampled20/{str_f}\")\n",
        "  for file in os.listdir(path_dir):\n",
        "    df = pd.read_csv(path_dir + \"/\" + file)\n",
        "    df['timestamp'] = pd.to_datetime(df['timestamp'])\n",
        "    df = df.resample('20S', on='timestamp').mean()\n",
        "    df.to_csv(f\"downsampled20/{str_f}/{file}\", index=False)"
      ]
    },
    {
      "cell_type": "markdown",
      "metadata": {
        "id": "XZO4RwsTXfUy"
      },
      "source": [
        "### Time window division"
      ]
    },
    {
      "cell_type": "code",
      "execution_count": null,
      "metadata": {
        "id": "d6QYY-MgoHMm"
      },
      "outputs": [],
      "source": [
        "os.mkdir(\"divided300\")\n",
        "\n",
        "### hiperparameter\n",
        "time_window_size = 30\n",
        "\n",
        "for f in range(0, 9):\n",
        "  if f == 7:\n",
        "    continue\n",
        "  path_dir = str(f)\n",
        "  os.mkdir(f\"divided300/{f}\")\n",
        "  for file in os.listdir(f\"downsampled/{f}\"):\n",
        "    if file.startswith('DRAWN'):\n",
        "      continue\n",
        "    df = pd.read_csv(f\"downsampled/{path_dir}/{file}\")\n",
        "    df.drop(columns=['P-JUS-CKGL', 'T-JUS-CKGL', 'QGL'], inplace=True)\n",
        "    df['id'] = 0\n",
        "    row_count = len(df.index)\n",
        "    ts_count = 1\n",
        "    i = 0\n",
        "    while i < row_count:\n",
        "      if i + time_window_size < row_count:\n",
        "        if df['class'].iloc[i] != df['class'].iloc[i+time_window_size]:\n",
        "          tmp = df.loc[i:(i+time_window_size)]\n",
        "          maxi = tmp[['class']].value_counts().index[0]\n",
        "          tmp.loc[df['class'] == maxi, 'id'] = ts_count\n",
        "          df.loc[i:(i+time_window_size), :] = tmp[:]\n",
        "        else:\n",
        "          df.loc[i:(i+time_window_size), 'id'] = ts_count\n",
        "      elif row_count - i >= time_window_size / 2:\n",
        "        df.loc[i:(row_count-1), 'id'] = ts_count\n",
        "      else:\n",
        "        break\n",
        "      i += time_window_size\n",
        "      ts_count += 1\n",
        "\n",
        "    df.to_csv(f\"divided300/{path_dir}/{file}\", index=False)\n"
      ]
    },
    {
      "cell_type": "code",
      "execution_count": null,
      "metadata": {
        "id": "7V5pu9KeOllE"
      },
      "outputs": [],
      "source": [
        "os.mkdir(\"divided600\")\n",
        "\n",
        "### hiperparameter\n",
        "time_window_size = 60\n",
        "\n",
        "for f in range(0, 9):\n",
        "  if f == 7:\n",
        "    continue\n",
        "  path_dir = str(f)\n",
        "  os.mkdir(f\"divided600/{f}\")\n",
        "  for file in os.listdir(f\"downsampled/{f}\"):\n",
        "    if file.startswith('DRAWN'):\n",
        "      continue\n",
        "    df = pd.read_csv(f\"downsampled/{path_dir}/{file}\")\n",
        "    df.drop(columns=['P-JUS-CKGL', 'T-JUS-CKGL', 'QGL'], inplace=True)\n",
        "    df['id'] = 0\n",
        "    row_count = len(df.index)\n",
        "    ts_count = 1\n",
        "    i = 0\n",
        "    while i < row_count:\n",
        "      if i + time_window_size < row_count:\n",
        "        if df['class'].iloc[i] != df['class'].iloc[i+time_window_size]:\n",
        "          tmp = df.loc[i:(i+time_window_size)]\n",
        "          maxi = tmp[['class']].value_counts().index[0]\n",
        "          tmp.loc[df['class'] == maxi, 'id'] = ts_count\n",
        "          df.loc[i:(i+time_window_size), :] = tmp[:]\n",
        "        else:\n",
        "          df.loc[i:(i+time_window_size), 'id'] = ts_count\n",
        "      elif row_count - i >= time_window_size / 2:\n",
        "        df.loc[i:(row_count-1), 'id'] = ts_count\n",
        "      else:\n",
        "        break\n",
        "      i += time_window_size\n",
        "      ts_count += 1\n",
        "\n",
        "    df.to_csv(f\"divided600/{path_dir}/{file}\", index=False)"
      ]
    },
    {
      "cell_type": "code",
      "execution_count": null,
      "metadata": {
        "id": "fIzBYDDnO9UV"
      },
      "outputs": [],
      "source": [
        "os.mkdir(\"divided900\")\n",
        "\n",
        "### hiperparameter\n",
        "time_window_size = 90\n",
        "\n",
        "for f in range(0, 9):\n",
        "  if f == 7:\n",
        "    continue\n",
        "  path_dir = str(f)\n",
        "  os.mkdir(f\"divided900/{f}\")\n",
        "  for file in os.listdir(f\"downsampled/{f}\"):\n",
        "    if file.startswith('DRAWN'):\n",
        "      continue\n",
        "    df = pd.read_csv(f\"downsampled/{path_dir}/{file}\")\n",
        "    df.drop(columns=['P-JUS-CKGL', 'T-JUS-CKGL', 'QGL'], inplace=True)\n",
        "    df['id'] = 0\n",
        "    row_count = len(df.index)\n",
        "    ts_count = 1\n",
        "    i = 0\n",
        "    while i < row_count:\n",
        "      if i + time_window_size < row_count:\n",
        "        if df['class'].iloc[i] != df['class'].iloc[i+time_window_size]:\n",
        "          tmp = df.loc[i:(i+time_window_size)]\n",
        "          maxi = tmp[['class']].value_counts().index[0]\n",
        "          tmp.loc[df['class'] == maxi, 'id'] = ts_count\n",
        "          df.loc[i:(i+time_window_size), :] = tmp[:]\n",
        "        else:\n",
        "          df.loc[i:(i+time_window_size), 'id'] = ts_count\n",
        "      elif row_count - i >= time_window_size / 2:\n",
        "        df.loc[i:(row_count-1), 'id'] = ts_count\n",
        "      else:\n",
        "        break\n",
        "      i += time_window_size\n",
        "      ts_count += 1\n",
        "\n",
        "    df.to_csv(f\"divided900/{path_dir}/{file}\", index=False)"
      ]
    },
    {
      "cell_type": "markdown",
      "metadata": {
        "id": "2q7xokOL66Sl"
      },
      "source": [
        "delete rows with id 0"
      ]
    },
    {
      "cell_type": "code",
      "execution_count": null,
      "metadata": {
        "id": "lUHxALNZ65w9"
      },
      "outputs": [],
      "source": [
        "l = [30, 60, 90]\n",
        "\n",
        "for s in l:\n",
        "  os.mkdir(f\"final{s}0\")\n",
        "\n",
        "  for f in range(0, 9):\n",
        "    if f == 7:\n",
        "      continue\n",
        "    path_dir = str(f)\n",
        "    os.mkdir(f\"final{s}0/{path_dir}\")\n",
        "    for file in os.listdir(f\"divided{s}0/{path_dir}\"):\n",
        "        df = pd.read_csv(f\"divided{s}0/{path_dir}/{file}\")\n",
        "        df = df[df.id != 0]\n",
        "        df.to_csv(f\"final{s}0/{path_dir}/{file}\", index=False)"
      ]
    },
    {
      "cell_type": "markdown",
      "metadata": {
        "id": "RzpF0oz-9Ip2"
      },
      "source": [
        "### Feature extraction"
      ]
    },
    {
      "cell_type": "code",
      "execution_count": null,
      "metadata": {
        "id": "wXHq_099XczX"
      },
      "outputs": [],
      "source": [
        "l = [30, 60, 90]\n",
        "\n",
        "\n",
        "for s in l:\n",
        "  os.mkdir(f\"features{s}0\")\n",
        "\n",
        "  for f in range(0, 9):\n",
        "    if f == 7:\n",
        "      continue\n",
        "    path_dir = str(f)\n",
        "    os.mkdir(f\"features{s}0/{path_dir}\")\n",
        "    for file in os.listdir(f\"final{s}0/{path_dir}\"):\n",
        "        df = pd.read_csv(f\"final{s}0/{path_dir}/{file}\")\n",
        "        try:\n",
        "          df = impute(df)\n",
        "          new_df = extract_features(df, column_id=\"id\", default_fc_parameters=fc_parameters, disable_progressbar=True)\n",
        "          new_df.to_csv(f\"features{s}0/{path_dir}/{file}\", index=False)\n",
        "        except ZeroDivisionError:\n",
        "          print(file)"
      ]
    },
    {
      "cell_type": "markdown",
      "metadata": {
        "id": "bIMPRP-CQZeq"
      },
      "source": [
        "### Feature extraction finalization\n",
        "** everything from now on was done only for 300 seconds time window due to lack of time to execute complex functions, but the procedure is completely same for 600 and 900 seconds time windows"
      ]
    },
    {
      "cell_type": "code",
      "execution_count": null,
      "metadata": {
        "colab": {
          "base_uri": "https://localhost:8080/",
          "height": 273
        },
        "id": "DkL4SV6foHMm",
        "outputId": "56f68b7c-938a-49bb-9453-08c2cd187fcd"
      },
      "outputs": [
        {
          "data": {
            "text/html": [
              "<div>\n",
              "<style scoped>\n",
              "    .dataframe tbody tr th:only-of-type {\n",
              "        vertical-align: middle;\n",
              "    }\n",
              "\n",
              "    .dataframe tbody tr th {\n",
              "        vertical-align: top;\n",
              "    }\n",
              "\n",
              "    .dataframe thead th {\n",
              "        text-align: right;\n",
              "    }\n",
              "</style>\n",
              "<table border=\"1\" class=\"dataframe\">\n",
              "  <thead>\n",
              "    <tr style=\"text-align: right;\">\n",
              "      <th></th>\n",
              "      <th>P-PDG__mean</th>\n",
              "      <th>P-PDG__median</th>\n",
              "      <th>P-PDG__variance</th>\n",
              "      <th>P-PDG__skewness</th>\n",
              "      <th>P-PDG__kurtosis</th>\n",
              "      <th>P-PDG__fft_aggregated__aggtype_\"centroid\"</th>\n",
              "      <th>P-PDG__fft_aggregated__aggtype_\"variance\"</th>\n",
              "      <th>P-PDG__fft_aggregated__aggtype_\"skew\"</th>\n",
              "      <th>P-PDG__fft_aggregated__aggtype_\"kurtosis\"</th>\n",
              "      <th>P-PDG__maximum</th>\n",
              "      <th>P-PDG__minimum</th>\n",
              "      <th>P-PDG__quantile__q_0.1</th>\n",
              "      <th>P-PDG__quantile__q_0.2</th>\n",
              "      <th>P-PDG__quantile__q_0.3</th>\n",
              "      <th>P-PDG__quantile__q_0.4</th>\n",
              "      <th>P-PDG__quantile__q_0.6</th>\n",
              "      <th>P-PDG__quantile__q_0.7</th>\n",
              "      <th>P-PDG__quantile__q_0.8</th>\n",
              "      <th>P-PDG__quantile__q_0.9</th>\n",
              "      <th>P-PDG__variation_coefficient</th>\n",
              "      <th>P-PDG__mean_change</th>\n",
              "      <th>P-PDG__mean_second_derivative_central</th>\n",
              "      <th>P-PDG__friedrich_coefficients__coeff_1__m_1__r_30</th>\n",
              "      <th>P-PDG__friedrich_coefficients__coeff_1__m_3__r_30</th>\n",
              "      <th>P-TPT__mean</th>\n",
              "      <th>P-TPT__median</th>\n",
              "      <th>P-TPT__variance</th>\n",
              "      <th>P-TPT__skewness</th>\n",
              "      <th>P-TPT__kurtosis</th>\n",
              "      <th>P-TPT__fft_aggregated__aggtype_\"centroid\"</th>\n",
              "      <th>P-TPT__fft_aggregated__aggtype_\"variance\"</th>\n",
              "      <th>P-TPT__fft_aggregated__aggtype_\"skew\"</th>\n",
              "      <th>P-TPT__fft_aggregated__aggtype_\"kurtosis\"</th>\n",
              "      <th>P-TPT__maximum</th>\n",
              "      <th>P-TPT__minimum</th>\n",
              "      <th>P-TPT__quantile__q_0.1</th>\n",
              "      <th>P-TPT__quantile__q_0.2</th>\n",
              "      <th>P-TPT__quantile__q_0.3</th>\n",
              "      <th>P-TPT__quantile__q_0.4</th>\n",
              "      <th>P-TPT__quantile__q_0.6</th>\n",
              "      <th>...</th>\n",
              "      <th>P-MON-CKP__minimum</th>\n",
              "      <th>P-MON-CKP__quantile__q_0.1</th>\n",
              "      <th>P-MON-CKP__quantile__q_0.2</th>\n",
              "      <th>P-MON-CKP__quantile__q_0.3</th>\n",
              "      <th>P-MON-CKP__quantile__q_0.4</th>\n",
              "      <th>P-MON-CKP__quantile__q_0.6</th>\n",
              "      <th>P-MON-CKP__quantile__q_0.7</th>\n",
              "      <th>P-MON-CKP__quantile__q_0.8</th>\n",
              "      <th>P-MON-CKP__quantile__q_0.9</th>\n",
              "      <th>P-MON-CKP__variation_coefficient</th>\n",
              "      <th>P-MON-CKP__mean_change</th>\n",
              "      <th>P-MON-CKP__mean_second_derivative_central</th>\n",
              "      <th>P-MON-CKP__friedrich_coefficients__coeff_1__m_1__r_30</th>\n",
              "      <th>P-MON-CKP__friedrich_coefficients__coeff_1__m_3__r_30</th>\n",
              "      <th>T-JUS-CKP__mean</th>\n",
              "      <th>T-JUS-CKP__median</th>\n",
              "      <th>T-JUS-CKP__variance</th>\n",
              "      <th>T-JUS-CKP__skewness</th>\n",
              "      <th>T-JUS-CKP__kurtosis</th>\n",
              "      <th>T-JUS-CKP__fft_aggregated__aggtype_\"centroid\"</th>\n",
              "      <th>T-JUS-CKP__fft_aggregated__aggtype_\"variance\"</th>\n",
              "      <th>T-JUS-CKP__fft_aggregated__aggtype_\"skew\"</th>\n",
              "      <th>T-JUS-CKP__fft_aggregated__aggtype_\"kurtosis\"</th>\n",
              "      <th>T-JUS-CKP__maximum</th>\n",
              "      <th>T-JUS-CKP__minimum</th>\n",
              "      <th>T-JUS-CKP__quantile__q_0.1</th>\n",
              "      <th>T-JUS-CKP__quantile__q_0.2</th>\n",
              "      <th>T-JUS-CKP__quantile__q_0.3</th>\n",
              "      <th>T-JUS-CKP__quantile__q_0.4</th>\n",
              "      <th>T-JUS-CKP__quantile__q_0.6</th>\n",
              "      <th>T-JUS-CKP__quantile__q_0.7</th>\n",
              "      <th>T-JUS-CKP__quantile__q_0.8</th>\n",
              "      <th>T-JUS-CKP__quantile__q_0.9</th>\n",
              "      <th>T-JUS-CKP__variation_coefficient</th>\n",
              "      <th>T-JUS-CKP__mean_change</th>\n",
              "      <th>T-JUS-CKP__mean_second_derivative_central</th>\n",
              "      <th>T-JUS-CKP__friedrich_coefficients__coeff_1__m_1__r_30</th>\n",
              "      <th>T-JUS-CKP__friedrich_coefficients__coeff_1__m_3__r_30</th>\n",
              "      <th>table_class</th>\n",
              "      <th>class</th>\n",
              "    </tr>\n",
              "  </thead>\n",
              "  <tbody>\n",
              "    <tr>\n",
              "      <th>291</th>\n",
              "      <td>26905750.0</td>\n",
              "      <td>26905750.0</td>\n",
              "      <td>0.0</td>\n",
              "      <td>0.0</td>\n",
              "      <td>0.0</td>\n",
              "      <td>0.000000e+00</td>\n",
              "      <td>0.000000e+00</td>\n",
              "      <td>NaN</td>\n",
              "      <td>NaN</td>\n",
              "      <td>26905750.0</td>\n",
              "      <td>26905750.0</td>\n",
              "      <td>26905750.0</td>\n",
              "      <td>26905750.0</td>\n",
              "      <td>26905750.0</td>\n",
              "      <td>26905750.0</td>\n",
              "      <td>26905750.0</td>\n",
              "      <td>26905750.0</td>\n",
              "      <td>26905750.0</td>\n",
              "      <td>26905750.0</td>\n",
              "      <td>0.0</td>\n",
              "      <td>0.0</td>\n",
              "      <td>0.0</td>\n",
              "      <td>NaN</td>\n",
              "      <td>NaN</td>\n",
              "      <td>15709760.0</td>\n",
              "      <td>15709760.0</td>\n",
              "      <td>0.0</td>\n",
              "      <td>0.0</td>\n",
              "      <td>0.0</td>\n",
              "      <td>0.000000e+00</td>\n",
              "      <td>0.000000e+00</td>\n",
              "      <td>NaN</td>\n",
              "      <td>NaN</td>\n",
              "      <td>15709760.0</td>\n",
              "      <td>15709760.0</td>\n",
              "      <td>15709760.0</td>\n",
              "      <td>15709760.0</td>\n",
              "      <td>15709760.0</td>\n",
              "      <td>15709760.0</td>\n",
              "      <td>15709760.0</td>\n",
              "      <td>...</td>\n",
              "      <td>1151445.0</td>\n",
              "      <td>1151445.0</td>\n",
              "      <td>1151445.0</td>\n",
              "      <td>1151445.0</td>\n",
              "      <td>1151445.0</td>\n",
              "      <td>1151445.0</td>\n",
              "      <td>1151445.0</td>\n",
              "      <td>1151445.0</td>\n",
              "      <td>1151445.0</td>\n",
              "      <td>0.0</td>\n",
              "      <td>0.0</td>\n",
              "      <td>0.0</td>\n",
              "      <td>NaN</td>\n",
              "      <td>NaN</td>\n",
              "      <td>84.858910</td>\n",
              "      <td>84.85891</td>\n",
              "      <td>8.077936e-28</td>\n",
              "      <td>0.0</td>\n",
              "      <td>0.0</td>\n",
              "      <td>1.764215e-16</td>\n",
              "      <td>1.411911e-15</td>\n",
              "      <td>NaN</td>\n",
              "      <td>NaN</td>\n",
              "      <td>84.85891</td>\n",
              "      <td>84.858910</td>\n",
              "      <td>84.85891</td>\n",
              "      <td>84.85891</td>\n",
              "      <td>84.85891</td>\n",
              "      <td>84.85891</td>\n",
              "      <td>84.85891</td>\n",
              "      <td>84.85891</td>\n",
              "      <td>84.85891</td>\n",
              "      <td>84.85891</td>\n",
              "      <td>3.349290e-16</td>\n",
              "      <td>0.000000e+00</td>\n",
              "      <td>0.000000e+00</td>\n",
              "      <td>NaN</td>\n",
              "      <td>NaN</td>\n",
              "      <td>1.0</td>\n",
              "      <td>1</td>\n",
              "    </tr>\n",
              "    <tr>\n",
              "      <th>292</th>\n",
              "      <td>26905750.0</td>\n",
              "      <td>26905750.0</td>\n",
              "      <td>0.0</td>\n",
              "      <td>0.0</td>\n",
              "      <td>0.0</td>\n",
              "      <td>0.000000e+00</td>\n",
              "      <td>0.000000e+00</td>\n",
              "      <td>NaN</td>\n",
              "      <td>NaN</td>\n",
              "      <td>26905750.0</td>\n",
              "      <td>26905750.0</td>\n",
              "      <td>26905750.0</td>\n",
              "      <td>26905750.0</td>\n",
              "      <td>26905750.0</td>\n",
              "      <td>26905750.0</td>\n",
              "      <td>26905750.0</td>\n",
              "      <td>26905750.0</td>\n",
              "      <td>26905750.0</td>\n",
              "      <td>26905750.0</td>\n",
              "      <td>0.0</td>\n",
              "      <td>0.0</td>\n",
              "      <td>0.0</td>\n",
              "      <td>NaN</td>\n",
              "      <td>NaN</td>\n",
              "      <td>15709760.0</td>\n",
              "      <td>15709760.0</td>\n",
              "      <td>0.0</td>\n",
              "      <td>0.0</td>\n",
              "      <td>0.0</td>\n",
              "      <td>0.000000e+00</td>\n",
              "      <td>0.000000e+00</td>\n",
              "      <td>NaN</td>\n",
              "      <td>NaN</td>\n",
              "      <td>15709760.0</td>\n",
              "      <td>15709760.0</td>\n",
              "      <td>15709760.0</td>\n",
              "      <td>15709760.0</td>\n",
              "      <td>15709760.0</td>\n",
              "      <td>15709760.0</td>\n",
              "      <td>15709760.0</td>\n",
              "      <td>...</td>\n",
              "      <td>1151445.0</td>\n",
              "      <td>1151445.0</td>\n",
              "      <td>1151445.0</td>\n",
              "      <td>1151445.0</td>\n",
              "      <td>1151445.0</td>\n",
              "      <td>1151445.0</td>\n",
              "      <td>1151445.0</td>\n",
              "      <td>1151445.0</td>\n",
              "      <td>1151445.0</td>\n",
              "      <td>0.0</td>\n",
              "      <td>0.0</td>\n",
              "      <td>0.0</td>\n",
              "      <td>NaN</td>\n",
              "      <td>NaN</td>\n",
              "      <td>84.858917</td>\n",
              "      <td>84.85892</td>\n",
              "      <td>1.941000e-11</td>\n",
              "      <td>0.0</td>\n",
              "      <td>0.0</td>\n",
              "      <td>3.998487e-07</td>\n",
              "      <td>3.188985e-06</td>\n",
              "      <td>NaN</td>\n",
              "      <td>NaN</td>\n",
              "      <td>84.85892</td>\n",
              "      <td>84.858910</td>\n",
              "      <td>84.85891</td>\n",
              "      <td>84.85891</td>\n",
              "      <td>84.85892</td>\n",
              "      <td>84.85892</td>\n",
              "      <td>84.85892</td>\n",
              "      <td>84.85892</td>\n",
              "      <td>84.85892</td>\n",
              "      <td>84.85892</td>\n",
              "      <td>5.191768e-08</td>\n",
              "      <td>3.448276e-07</td>\n",
              "      <td>0.000000e+00</td>\n",
              "      <td>NaN</td>\n",
              "      <td>NaN</td>\n",
              "      <td>1.0</td>\n",
              "      <td>1</td>\n",
              "    </tr>\n",
              "    <tr>\n",
              "      <th>293</th>\n",
              "      <td>26905750.0</td>\n",
              "      <td>26905750.0</td>\n",
              "      <td>0.0</td>\n",
              "      <td>0.0</td>\n",
              "      <td>0.0</td>\n",
              "      <td>0.000000e+00</td>\n",
              "      <td>0.000000e+00</td>\n",
              "      <td>NaN</td>\n",
              "      <td>NaN</td>\n",
              "      <td>26905750.0</td>\n",
              "      <td>26905750.0</td>\n",
              "      <td>26905750.0</td>\n",
              "      <td>26905750.0</td>\n",
              "      <td>26905750.0</td>\n",
              "      <td>26905750.0</td>\n",
              "      <td>26905750.0</td>\n",
              "      <td>26905750.0</td>\n",
              "      <td>26905750.0</td>\n",
              "      <td>26905750.0</td>\n",
              "      <td>0.0</td>\n",
              "      <td>0.0</td>\n",
              "      <td>0.0</td>\n",
              "      <td>NaN</td>\n",
              "      <td>NaN</td>\n",
              "      <td>15709760.0</td>\n",
              "      <td>15709760.0</td>\n",
              "      <td>0.0</td>\n",
              "      <td>0.0</td>\n",
              "      <td>0.0</td>\n",
              "      <td>0.000000e+00</td>\n",
              "      <td>0.000000e+00</td>\n",
              "      <td>NaN</td>\n",
              "      <td>NaN</td>\n",
              "      <td>15709760.0</td>\n",
              "      <td>15709760.0</td>\n",
              "      <td>15709760.0</td>\n",
              "      <td>15709760.0</td>\n",
              "      <td>15709760.0</td>\n",
              "      <td>15709760.0</td>\n",
              "      <td>15709760.0</td>\n",
              "      <td>...</td>\n",
              "      <td>1151445.0</td>\n",
              "      <td>1151445.0</td>\n",
              "      <td>1151445.0</td>\n",
              "      <td>1151445.0</td>\n",
              "      <td>1151445.0</td>\n",
              "      <td>1151445.0</td>\n",
              "      <td>1151445.0</td>\n",
              "      <td>1151445.0</td>\n",
              "      <td>1151445.0</td>\n",
              "      <td>0.0</td>\n",
              "      <td>0.0</td>\n",
              "      <td>0.0</td>\n",
              "      <td>NaN</td>\n",
              "      <td>NaN</td>\n",
              "      <td>84.858920</td>\n",
              "      <td>84.85892</td>\n",
              "      <td>8.077936e-28</td>\n",
              "      <td>0.0</td>\n",
              "      <td>0.0</td>\n",
              "      <td>3.528430e-16</td>\n",
              "      <td>2.823822e-15</td>\n",
              "      <td>NaN</td>\n",
              "      <td>NaN</td>\n",
              "      <td>84.85892</td>\n",
              "      <td>84.858920</td>\n",
              "      <td>84.85892</td>\n",
              "      <td>84.85892</td>\n",
              "      <td>84.85892</td>\n",
              "      <td>84.85892</td>\n",
              "      <td>84.85892</td>\n",
              "      <td>84.85892</td>\n",
              "      <td>84.85892</td>\n",
              "      <td>84.85892</td>\n",
              "      <td>3.349290e-16</td>\n",
              "      <td>0.000000e+00</td>\n",
              "      <td>0.000000e+00</td>\n",
              "      <td>NaN</td>\n",
              "      <td>NaN</td>\n",
              "      <td>1.0</td>\n",
              "      <td>1</td>\n",
              "    </tr>\n",
              "    <tr>\n",
              "      <th>294</th>\n",
              "      <td>26905750.0</td>\n",
              "      <td>26905750.0</td>\n",
              "      <td>0.0</td>\n",
              "      <td>0.0</td>\n",
              "      <td>0.0</td>\n",
              "      <td>0.000000e+00</td>\n",
              "      <td>0.000000e+00</td>\n",
              "      <td>NaN</td>\n",
              "      <td>NaN</td>\n",
              "      <td>26905750.0</td>\n",
              "      <td>26905750.0</td>\n",
              "      <td>26905750.0</td>\n",
              "      <td>26905750.0</td>\n",
              "      <td>26905750.0</td>\n",
              "      <td>26905750.0</td>\n",
              "      <td>26905750.0</td>\n",
              "      <td>26905750.0</td>\n",
              "      <td>26905750.0</td>\n",
              "      <td>26905750.0</td>\n",
              "      <td>0.0</td>\n",
              "      <td>0.0</td>\n",
              "      <td>0.0</td>\n",
              "      <td>NaN</td>\n",
              "      <td>NaN</td>\n",
              "      <td>15709760.0</td>\n",
              "      <td>15709760.0</td>\n",
              "      <td>0.0</td>\n",
              "      <td>0.0</td>\n",
              "      <td>0.0</td>\n",
              "      <td>0.000000e+00</td>\n",
              "      <td>0.000000e+00</td>\n",
              "      <td>NaN</td>\n",
              "      <td>NaN</td>\n",
              "      <td>15709760.0</td>\n",
              "      <td>15709760.0</td>\n",
              "      <td>15709760.0</td>\n",
              "      <td>15709760.0</td>\n",
              "      <td>15709760.0</td>\n",
              "      <td>15709760.0</td>\n",
              "      <td>15709760.0</td>\n",
              "      <td>...</td>\n",
              "      <td>1151445.0</td>\n",
              "      <td>1151445.0</td>\n",
              "      <td>1151445.0</td>\n",
              "      <td>1151445.0</td>\n",
              "      <td>1151445.0</td>\n",
              "      <td>1151445.0</td>\n",
              "      <td>1151445.0</td>\n",
              "      <td>1151445.0</td>\n",
              "      <td>1151445.0</td>\n",
              "      <td>0.0</td>\n",
              "      <td>0.0</td>\n",
              "      <td>0.0</td>\n",
              "      <td>NaN</td>\n",
              "      <td>NaN</td>\n",
              "      <td>84.858930</td>\n",
              "      <td>84.85893</td>\n",
              "      <td>2.610000e-12</td>\n",
              "      <td>0.0</td>\n",
              "      <td>0.0</td>\n",
              "      <td>4.242335e-07</td>\n",
              "      <td>4.383746e-06</td>\n",
              "      <td>NaN</td>\n",
              "      <td>NaN</td>\n",
              "      <td>84.85893</td>\n",
              "      <td>84.858921</td>\n",
              "      <td>84.85893</td>\n",
              "      <td>84.85893</td>\n",
              "      <td>84.85893</td>\n",
              "      <td>84.85893</td>\n",
              "      <td>84.85893</td>\n",
              "      <td>84.85893</td>\n",
              "      <td>84.85893</td>\n",
              "      <td>84.85893</td>\n",
              "      <td>1.903806e-08</td>\n",
              "      <td>3.103448e-07</td>\n",
              "      <td>-1.607143e-07</td>\n",
              "      <td>NaN</td>\n",
              "      <td>NaN</td>\n",
              "      <td>1.0</td>\n",
              "      <td>1</td>\n",
              "    </tr>\n",
              "    <tr>\n",
              "      <th>295</th>\n",
              "      <td>26905750.0</td>\n",
              "      <td>26905750.0</td>\n",
              "      <td>0.0</td>\n",
              "      <td>0.0</td>\n",
              "      <td>0.0</td>\n",
              "      <td>1.451007e-15</td>\n",
              "      <td>1.396462e-14</td>\n",
              "      <td>NaN</td>\n",
              "      <td>NaN</td>\n",
              "      <td>26905750.0</td>\n",
              "      <td>26905750.0</td>\n",
              "      <td>26905750.0</td>\n",
              "      <td>26905750.0</td>\n",
              "      <td>26905750.0</td>\n",
              "      <td>26905750.0</td>\n",
              "      <td>26905750.0</td>\n",
              "      <td>26905750.0</td>\n",
              "      <td>26905750.0</td>\n",
              "      <td>26905750.0</td>\n",
              "      <td>0.0</td>\n",
              "      <td>0.0</td>\n",
              "      <td>0.0</td>\n",
              "      <td>NaN</td>\n",
              "      <td>NaN</td>\n",
              "      <td>15709760.0</td>\n",
              "      <td>15709760.0</td>\n",
              "      <td>0.0</td>\n",
              "      <td>0.0</td>\n",
              "      <td>0.0</td>\n",
              "      <td>8.787279e-16</td>\n",
              "      <td>8.197317e-15</td>\n",
              "      <td>NaN</td>\n",
              "      <td>NaN</td>\n",
              "      <td>15709760.0</td>\n",
              "      <td>15709760.0</td>\n",
              "      <td>15709760.0</td>\n",
              "      <td>15709760.0</td>\n",
              "      <td>15709760.0</td>\n",
              "      <td>15709760.0</td>\n",
              "      <td>15709760.0</td>\n",
              "      <td>...</td>\n",
              "      <td>1151445.0</td>\n",
              "      <td>1151445.0</td>\n",
              "      <td>1151445.0</td>\n",
              "      <td>1151445.0</td>\n",
              "      <td>1151445.0</td>\n",
              "      <td>1151445.0</td>\n",
              "      <td>1151445.0</td>\n",
              "      <td>1151445.0</td>\n",
              "      <td>1151445.0</td>\n",
              "      <td>0.0</td>\n",
              "      <td>0.0</td>\n",
              "      <td>0.0</td>\n",
              "      <td>NaN</td>\n",
              "      <td>NaN</td>\n",
              "      <td>84.858931</td>\n",
              "      <td>84.85893</td>\n",
              "      <td>6.035380e-12</td>\n",
              "      <td>0.0</td>\n",
              "      <td>0.0</td>\n",
              "      <td>4.224114e-07</td>\n",
              "      <td>3.421964e-06</td>\n",
              "      <td>NaN</td>\n",
              "      <td>NaN</td>\n",
              "      <td>84.85894</td>\n",
              "      <td>84.858930</td>\n",
              "      <td>84.85893</td>\n",
              "      <td>84.85893</td>\n",
              "      <td>84.85893</td>\n",
              "      <td>84.85893</td>\n",
              "      <td>84.85893</td>\n",
              "      <td>84.85893</td>\n",
              "      <td>84.85893</td>\n",
              "      <td>84.85893</td>\n",
              "      <td>2.895041e-08</td>\n",
              "      <td>3.333333e-07</td>\n",
              "      <td>4.900295e-16</td>\n",
              "      <td>NaN</td>\n",
              "      <td>NaN</td>\n",
              "      <td>1.0</td>\n",
              "      <td>1</td>\n",
              "    </tr>\n",
              "  </tbody>\n",
              "</table>\n",
              "<p>5 rows × 122 columns</p>\n",
              "</div>"
            ],
            "text/plain": [
              "     P-PDG__mean  P-PDG__median  ...  table_class  class\n",
              "291   26905750.0     26905750.0  ...          1.0      1\n",
              "292   26905750.0     26905750.0  ...          1.0      1\n",
              "293   26905750.0     26905750.0  ...          1.0      1\n",
              "294   26905750.0     26905750.0  ...          1.0      1\n",
              "295   26905750.0     26905750.0  ...          1.0      1\n",
              "\n",
              "[5 rows x 122 columns]"
            ]
          },
          "execution_count": 10,
          "metadata": {},
          "output_type": "execute_result"
        }
      ],
      "source": [
        "l = [300]\n",
        "\n",
        "for s in l:\n",
        "  os.mkdir(f\"final_features{s}\")\n",
        "\n",
        "  for f in range(0, 9):\n",
        "    if f == 7:\n",
        "      continue\n",
        "    path_dir = str(f)\n",
        "    os.mkdir(f\"final_features{s}/{path_dir}\")\n",
        "    for file in os.listdir(f\"features{s}/{path_dir}\"):\n",
        "        df = pd.read_csv(f\"features{s}/{path_dir}/{file}\")\n",
        "        df = df.rename(columns={'class__mean': 'table_class'})\n",
        "        cols = [c for c in df.columns if not c.lower().startswith('class')]\n",
        "        df=df[cols]\n",
        "        df['class'] = f\n",
        "        df.to_csv(f\"final_features{s}/{path_dir}/{file}\", index=False)\n",
        "\n",
        "# random file just to make sure it looks right\n",
        "df = pd.read_csv(\"final_features300/1/SIMULATED_00009.csv\")\n",
        "df.tail()"
      ]
    },
    {
      "cell_type": "markdown",
      "metadata": {
        "id": "ayMh5qUVgjNe"
      },
      "source": [
        "All time windows put into one file (dataframe)"
      ]
    },
    {
      "cell_type": "code",
      "execution_count": 3,
      "metadata": {
        "colab": {
          "base_uri": "https://localhost:8080/",
          "height": 234
        },
        "id": "VCtOi7VB60nT",
        "outputId": "dd9ee23a-7c30-47b8-87b6-6efc40030885"
      },
      "outputs": [
        {
          "output_type": "error",
          "ename": "FileNotFoundError",
          "evalue": "ignored",
          "traceback": [
            "\u001b[0;31m---------------------------------------------------------------------------\u001b[0m",
            "\u001b[0;31mFileNotFoundError\u001b[0m                         Traceback (most recent call last)",
            "\u001b[0;32m<ipython-input-3-4e33a6471224>\u001b[0m in \u001b[0;36m<module>\u001b[0;34m()\u001b[0m\n\u001b[1;32m      6\u001b[0m     \u001b[0;32mcontinue\u001b[0m\u001b[0;34m\u001b[0m\u001b[0;34m\u001b[0m\u001b[0m\n\u001b[1;32m      7\u001b[0m   \u001b[0mpath_dir\u001b[0m \u001b[0;34m=\u001b[0m \u001b[0mstr\u001b[0m\u001b[0;34m(\u001b[0m\u001b[0mf\u001b[0m\u001b[0;34m)\u001b[0m\u001b[0;34m\u001b[0m\u001b[0;34m\u001b[0m\u001b[0m\n\u001b[0;32m----> 8\u001b[0;31m   \u001b[0;32mfor\u001b[0m \u001b[0mfile\u001b[0m \u001b[0;32min\u001b[0m \u001b[0mos\u001b[0m\u001b[0;34m.\u001b[0m\u001b[0mlistdir\u001b[0m\u001b[0;34m(\u001b[0m\u001b[0;34mf\"final_features300/{path_dir}\"\u001b[0m\u001b[0;34m)\u001b[0m\u001b[0;34m:\u001b[0m\u001b[0;34m\u001b[0m\u001b[0;34m\u001b[0m\u001b[0m\n\u001b[0m\u001b[1;32m      9\u001b[0m       \u001b[0mtmp_df\u001b[0m \u001b[0;34m=\u001b[0m \u001b[0mpd\u001b[0m\u001b[0;34m.\u001b[0m\u001b[0mread_csv\u001b[0m\u001b[0;34m(\u001b[0m\u001b[0;34mf\"final_features300/{path_dir}/{file}\"\u001b[0m\u001b[0;34m)\u001b[0m\u001b[0;34m\u001b[0m\u001b[0;34m\u001b[0m\u001b[0m\n\u001b[1;32m     10\u001b[0m       \u001b[0mdf\u001b[0m \u001b[0;34m=\u001b[0m \u001b[0mdf\u001b[0m\u001b[0;34m.\u001b[0m\u001b[0mappend\u001b[0m\u001b[0;34m(\u001b[0m\u001b[0mtmp_df\u001b[0m\u001b[0;34m)\u001b[0m\u001b[0;34m\u001b[0m\u001b[0;34m\u001b[0m\u001b[0m\n",
            "\u001b[0;31mFileNotFoundError\u001b[0m: [Errno 2] No such file or directory: 'final_features300/0'"
          ]
        }
      ],
      "source": [
        "os.mkdir(\"one_csv300\")\n",
        "\n",
        "df = pd.DataFrame()\n",
        "for f in range(0, 9):\n",
        "  if f == 7:\n",
        "    continue\n",
        "  path_dir = str(f)\n",
        "  for file in os.listdir(f\"final_features300/{path_dir}\"):\n",
        "      tmp_df = pd.read_csv(f\"final_features300/{path_dir}/{file}\")\n",
        "      df = df.append(tmp_df)\n",
        "df.to_csv(\"one_csv300/all.csv\", index=False)\n",
        "\n",
        "print(len(df.index))"
      ]
    },
    {
      "cell_type": "markdown",
      "metadata": {
        "id": "L9Ca8yhORRfg"
      },
      "source": [
        "Remove features with more than 10% NaN values and correct left over NaN values"
      ]
    },
    {
      "cell_type": "code",
      "execution_count": 59,
      "metadata": {
        "id": "GLShH52qI-b3",
        "colab": {
          "base_uri": "https://localhost:8080/"
        },
        "outputId": "fa478d6a-3e93-4fec-e29b-9eeb826fde47"
      },
      "outputs": [
        {
          "output_type": "stream",
          "name": "stderr",
          "text": [
            "/usr/local/lib/python3.7/dist-packages/pandas/core/generic.py:9011: SettingWithCopyWarning: \n",
            "A value is trying to be set on a copy of a slice from a DataFrame\n",
            "\n",
            "See the caveats in the documentation: https://pandas.pydata.org/pandas-docs/stable/user_guide/indexing.html#returning-a-view-versus-a-copy\n",
            "  cond, other, inplace, axis, level, errors=errors, try_cast=try_cast\n"
          ]
        }
      ],
      "source": [
        "ndf = pd.read_csv(\"one_csv300/all.csv\")\n",
        "\n",
        "limitPer = len(ndf.index) * .90\n",
        "df = ndf.dropna(thresh=limitPer, axis=1)\n",
        "\n",
        "df = impute(df)\n",
        "\n",
        "\n",
        "y_col = df.loc[:,'class']\n",
        "y = y_col.values\n",
        "\n",
        "X = df.drop(columns=['class', 'table_class'])\n",
        "\n",
        "X_train, X_test, y_train, y_test = train_test_split(X, y, test_size=0.3, random_state=42)\n",
        "\n",
        "# Needed for later\n",
        "n_of_features = len(X_train.columns)"
      ]
    },
    {
      "cell_type": "markdown",
      "metadata": {
        "id": "m2HeqEf3jqCe"
      },
      "source": [
        "### Feature selection"
      ]
    },
    {
      "cell_type": "markdown",
      "metadata": {
        "id": "CLkkiPIBCnfK"
      },
      "source": [
        "Trenutno se podaci dobiveni iz ovog ni ne koriste dalje u radu jer je skoro isto kao i dataset u kojem se izbace stupci sa >= 90% NaN vrijednosti. Možemo probati pokrenuti select_features na datasetu prije izbacivanja stupaca pa usporediti rezultate.\n",
        "---todo---"
      ]
    },
    {
      "cell_type": "code",
      "execution_count": 6,
      "metadata": {
        "colab": {
          "base_uri": "https://localhost:8080/",
          "height": 317
        },
        "id": "bF9kqjBOjJwe",
        "outputId": "eef420d4-a488-4ee3-9e99-fec7058d4bd7"
      },
      "outputs": [
        {
          "output_type": "execute_result",
          "data": {
            "text/html": [
              "\n",
              "  <div id=\"df-03b4d9db-bdf2-4b3b-b50f-ab652ae8a65a\">\n",
              "    <div class=\"colab-df-container\">\n",
              "      <div>\n",
              "<style scoped>\n",
              "    .dataframe tbody tr th:only-of-type {\n",
              "        vertical-align: middle;\n",
              "    }\n",
              "\n",
              "    .dataframe tbody tr th {\n",
              "        vertical-align: top;\n",
              "    }\n",
              "\n",
              "    .dataframe thead th {\n",
              "        text-align: right;\n",
              "    }\n",
              "</style>\n",
              "<table border=\"1\" class=\"dataframe\">\n",
              "  <thead>\n",
              "    <tr style=\"text-align: right;\">\n",
              "      <th></th>\n",
              "      <th>P-PDG__mean</th>\n",
              "      <th>P-TPT__quantile__q_0.8</th>\n",
              "      <th>P-MON-CKP__quantile__q_0.4</th>\n",
              "      <th>T-JUS-CKP__quantile__q_0.7</th>\n",
              "      <th>T-JUS-CKP__quantile__q_0.6</th>\n",
              "      <th>T-JUS-CKP__quantile__q_0.4</th>\n",
              "      <th>T-JUS-CKP__quantile__q_0.3</th>\n",
              "      <th>T-JUS-CKP__quantile__q_0.2</th>\n",
              "      <th>T-JUS-CKP__quantile__q_0.1</th>\n",
              "      <th>T-JUS-CKP__minimum</th>\n",
              "      <th>T-JUS-CKP__maximum</th>\n",
              "      <th>T-JUS-CKP__fft_aggregated__aggtype_\"centroid\"</th>\n",
              "      <th>T-JUS-CKP__kurtosis</th>\n",
              "      <th>P-TPT__quantile__q_0.7</th>\n",
              "      <th>T-JUS-CKP__median</th>\n",
              "      <th>P-MON-CKP__variation_coefficient</th>\n",
              "      <th>P-MON-CKP__quantile__q_0.9</th>\n",
              "      <th>P-MON-CKP__mean</th>\n",
              "      <th>P-MON-CKP__median</th>\n",
              "      <th>P-MON-CKP__variance</th>\n",
              "      <th>P-MON-CKP__quantile__q_0.8</th>\n",
              "      <th>P-MON-CKP__fft_aggregated__aggtype_\"centroid\"</th>\n",
              "      <th>P-MON-CKP__fft_aggregated__aggtype_\"variance\"</th>\n",
              "      <th>P-MON-CKP__maximum</th>\n",
              "      <th>P-MON-CKP__quantile__q_0.7</th>\n",
              "      <th>P-MON-CKP__quantile__q_0.2</th>\n",
              "      <th>P-MON-CKP__quantile__q_0.3</th>\n",
              "      <th>T-JUS-CKP__mean</th>\n",
              "      <th>P-TPT__quantile__q_0.6</th>\n",
              "      <th>P-TPT__quantile__q_0.9</th>\n",
              "      <th>T-JUS-CKP__quantile__q_0.9</th>\n",
              "      <th>P-PDG__quantile__q_0.9</th>\n",
              "      <th>P-PDG__quantile__q_0.8</th>\n",
              "      <th>P-PDG__quantile__q_0.7</th>\n",
              "      <th>P-PDG__quantile__q_0.6</th>\n",
              "      <th>P-PDG__quantile__q_0.4</th>\n",
              "      <th>P-PDG__quantile__q_0.3</th>\n",
              "      <th>P-PDG__mean_change</th>\n",
              "      <th>P-PDG__quantile__q_0.2</th>\n",
              "      <th>P-PDG__minimum</th>\n",
              "      <th>...</th>\n",
              "      <th>P-TPT__quantile__q_0.3</th>\n",
              "      <th>P-TPT__quantile__q_0.2</th>\n",
              "      <th>P-TPT__quantile__q_0.1</th>\n",
              "      <th>T-JUS-CKP__mean_change</th>\n",
              "      <th>P-TPT__minimum</th>\n",
              "      <th>P-MON-CKP__quantile__q_0.1</th>\n",
              "      <th>T-TPT__variance</th>\n",
              "      <th>T-JUS-CKP__fft_aggregated__aggtype_\"variance\"</th>\n",
              "      <th>P-TPT__fft_aggregated__aggtype_\"variance\"</th>\n",
              "      <th>T-TPT__minimum</th>\n",
              "      <th>T-TPT__quantile__q_0.1</th>\n",
              "      <th>P-TPT__fft_aggregated__aggtype_\"centroid\"</th>\n",
              "      <th>T-TPT__quantile__q_0.2</th>\n",
              "      <th>P-TPT__variance</th>\n",
              "      <th>T-TPT__quantile__q_0.3</th>\n",
              "      <th>T-TPT__quantile__q_0.4</th>\n",
              "      <th>T-TPT__mean</th>\n",
              "      <th>T-TPT__median</th>\n",
              "      <th>T-TPT__quantile__q_0.6</th>\n",
              "      <th>T-TPT__quantile__q_0.7</th>\n",
              "      <th>T-TPT__quantile__q_0.8</th>\n",
              "      <th>T-TPT__quantile__q_0.9</th>\n",
              "      <th>T-TPT__maximum</th>\n",
              "      <th>T-TPT__kurtosis</th>\n",
              "      <th>P-MON-CKP__minimum</th>\n",
              "      <th>P-TPT__variation_coefficient</th>\n",
              "      <th>P-TPT__mean_change</th>\n",
              "      <th>T-JUS-CKP__variance</th>\n",
              "      <th>P-PDG__mean_second_derivative_central</th>\n",
              "      <th>P-PDG__skewness</th>\n",
              "      <th>P-MON-CKP__skewness</th>\n",
              "      <th>T-TPT__mean_change</th>\n",
              "      <th>P-TPT__mean_second_derivative_central</th>\n",
              "      <th>T-JUS-CKP__mean_second_derivative_central</th>\n",
              "      <th>P-TPT__skewness</th>\n",
              "      <th>P-MON-CKP__mean_change</th>\n",
              "      <th>P-MON-CKP__mean_second_derivative_central</th>\n",
              "      <th>T-TPT__mean_second_derivative_central</th>\n",
              "      <th>T-JUS-CKP__skewness</th>\n",
              "      <th>T-TPT__skewness</th>\n",
              "    </tr>\n",
              "  </thead>\n",
              "  <tbody>\n",
              "    <tr>\n",
              "      <th>17406</th>\n",
              "      <td>0.000000e+00</td>\n",
              "      <td>8450720.76</td>\n",
              "      <td>1486365.00</td>\n",
              "      <td>76.595661</td>\n",
              "      <td>76.425254</td>\n",
              "      <td>76.032046</td>\n",
              "      <td>75.983854</td>\n",
              "      <td>75.965904</td>\n",
              "      <td>75.754311</td>\n",
              "      <td>75.418893</td>\n",
              "      <td>77.037954</td>\n",
              "      <td>0.038310</td>\n",
              "      <td>-1.061431</td>\n",
              "      <td>8449157.23</td>\n",
              "      <td>76.212441</td>\n",
              "      <td>0.167693</td>\n",
              "      <td>1910759.08</td>\n",
              "      <td>1.559960e+06</td>\n",
              "      <td>1510773.55</td>\n",
              "      <td>6.843130e+10</td>\n",
              "      <td>1789322.60</td>\n",
              "      <td>1.223463</td>\n",
              "      <td>8.004750</td>\n",
              "      <td>2070159.8</td>\n",
              "      <td>1723183.35</td>\n",
              "      <td>1386606.38</td>\n",
              "      <td>1441544.30</td>\n",
              "      <td>76.298379</td>\n",
              "      <td>8447593.62</td>\n",
              "      <td>8452284.52</td>\n",
              "      <td>76.946960</td>\n",
              "      <td>0.0</td>\n",
              "      <td>0.0</td>\n",
              "      <td>0.0</td>\n",
              "      <td>0.0</td>\n",
              "      <td>0.0</td>\n",
              "      <td>0.0</td>\n",
              "      <td>0.000000</td>\n",
              "      <td>0.0</td>\n",
              "      <td>0.0</td>\n",
              "      <td>...</td>\n",
              "      <td>8442902.87</td>\n",
              "      <td>8441339.32</td>\n",
              "      <td>8440058.10</td>\n",
              "      <td>-0.033675</td>\n",
              "      <td>8438883.4</td>\n",
              "      <td>1186896.34</td>\n",
              "      <td>1.817536e-27</td>\n",
              "      <td>0.288286</td>\n",
              "      <td>0.038795</td>\n",
              "      <td>117.418700</td>\n",
              "      <td>117.418700</td>\n",
              "      <td>0.004713</td>\n",
              "      <td>117.418700</td>\n",
              "      <td>2.085221e+07</td>\n",
              "      <td>117.418700</td>\n",
              "      <td>117.418700</td>\n",
              "      <td>117.418700</td>\n",
              "      <td>117.418700</td>\n",
              "      <td>117.418700</td>\n",
              "      <td>117.418700</td>\n",
              "      <td>117.418700</td>\n",
              "      <td>117.418700</td>\n",
              "      <td>117.41870</td>\n",
              "      <td>0.000000</td>\n",
              "      <td>1044483.6</td>\n",
              "      <td>0.000541</td>\n",
              "      <td>-474.641379</td>\n",
              "      <td>0.210461</td>\n",
              "      <td>0.000000</td>\n",
              "      <td>0.000000</td>\n",
              "      <td>-0.140843</td>\n",
              "      <td>0.000000</td>\n",
              "      <td>31.060714</td>\n",
              "      <td>0.002811</td>\n",
              "      <td>0.060054</td>\n",
              "      <td>21021.503448</td>\n",
              "      <td>4851.892857</td>\n",
              "      <td>0.000000</td>\n",
              "      <td>0.081218</td>\n",
              "      <td>0.000000</td>\n",
              "    </tr>\n",
              "    <tr>\n",
              "      <th>61303</th>\n",
              "      <td>2.533910e+07</td>\n",
              "      <td>14705776.60</td>\n",
              "      <td>1150536.60</td>\n",
              "      <td>84.550734</td>\n",
              "      <td>84.547923</td>\n",
              "      <td>84.542914</td>\n",
              "      <td>84.540731</td>\n",
              "      <td>84.538770</td>\n",
              "      <td>84.537020</td>\n",
              "      <td>84.535475</td>\n",
              "      <td>84.560172</td>\n",
              "      <td>0.000856</td>\n",
              "      <td>-1.138874</td>\n",
              "      <td>14701653.10</td>\n",
              "      <td>84.545312</td>\n",
              "      <td>0.001249</td>\n",
              "      <td>1153101.82</td>\n",
              "      <td>1.151106e+06</td>\n",
              "      <td>1151014.30</td>\n",
              "      <td>2.067932e+06</td>\n",
              "      <td>1152560.08</td>\n",
              "      <td>0.012105</td>\n",
              "      <td>0.103935</td>\n",
              "      <td>1153654.0</td>\n",
              "      <td>1152029.27</td>\n",
              "      <td>1149654.60</td>\n",
              "      <td>1150082.62</td>\n",
              "      <td>84.546224</td>\n",
              "      <td>14697374.60</td>\n",
              "      <td>14709713.30</td>\n",
              "      <td>84.556885</td>\n",
              "      <td>25345148.2</td>\n",
              "      <td>25343620.8</td>\n",
              "      <td>25342109.4</td>\n",
              "      <td>25340606.2</td>\n",
              "      <td>25337602.0</td>\n",
              "      <td>25336090.1</td>\n",
              "      <td>-524.896552</td>\n",
              "      <td>25334567.4</td>\n",
              "      <td>25331479.0</td>\n",
              "      <td>...</td>\n",
              "      <td>14683989.60</td>\n",
              "      <td>14679488.20</td>\n",
              "      <td>14675056.80</td>\n",
              "      <td>0.000852</td>\n",
              "      <td>14670751.0</td>\n",
              "      <td>1149254.58</td>\n",
              "      <td>1.535651e-07</td>\n",
              "      <td>0.007356</td>\n",
              "      <td>0.072890</td>\n",
              "      <td>97.998103</td>\n",
              "      <td>97.998465</td>\n",
              "      <td>0.008491</td>\n",
              "      <td>97.998771</td>\n",
              "      <td>1.672978e+08</td>\n",
              "      <td>97.999017</td>\n",
              "      <td>97.999202</td>\n",
              "      <td>97.999100</td>\n",
              "      <td>97.999328</td>\n",
              "      <td>97.999359</td>\n",
              "      <td>97.999376</td>\n",
              "      <td>97.999395</td>\n",
              "      <td>97.999413</td>\n",
              "      <td>97.99942</td>\n",
              "      <td>0.393255</td>\n",
              "      <td>1148884.0</td>\n",
              "      <td>0.000880</td>\n",
              "      <td>1472.172414</td>\n",
              "      <td>0.000056</td>\n",
              "      <td>0.053571</td>\n",
              "      <td>-0.003655</td>\n",
              "      <td>0.156876</td>\n",
              "      <td>0.000044</td>\n",
              "      <td>-3.625000</td>\n",
              "      <td>0.000011</td>\n",
              "      <td>-0.060737</td>\n",
              "      <td>164.482759</td>\n",
              "      <td>1.200000</td>\n",
              "      <td>-0.000002</td>\n",
              "      <td>0.299220</td>\n",
              "      <td>-1.258982</td>\n",
              "    </tr>\n",
              "    <tr>\n",
              "      <th>71781</th>\n",
              "      <td>1.724138e+07</td>\n",
              "      <td>9988361.10</td>\n",
              "      <td>4072994.58</td>\n",
              "      <td>82.518932</td>\n",
              "      <td>82.302582</td>\n",
              "      <td>81.939266</td>\n",
              "      <td>81.762797</td>\n",
              "      <td>81.586157</td>\n",
              "      <td>81.411432</td>\n",
              "      <td>81.239859</td>\n",
              "      <td>83.343335</td>\n",
              "      <td>0.073964</td>\n",
              "      <td>-1.007254</td>\n",
              "      <td>9982512.19</td>\n",
              "      <td>82.116802</td>\n",
              "      <td>0.000782</td>\n",
              "      <td>4077904.21</td>\n",
              "      <td>4.073798e+06</td>\n",
              "      <td>4074002.35</td>\n",
              "      <td>1.014293e+07</td>\n",
              "      <td>4076943.78</td>\n",
              "      <td>0.007839</td>\n",
              "      <td>0.067556</td>\n",
              "      <td>4078831.8</td>\n",
              "      <td>4075961.32</td>\n",
              "      <td>4070678.20</td>\n",
              "      <td>4071891.91</td>\n",
              "      <td>82.177172</td>\n",
              "      <td>9973937.68</td>\n",
              "      <td>9993623.39</td>\n",
              "      <td>83.044790</td>\n",
              "      <td>17261308.1</td>\n",
              "      <td>17259036.6</td>\n",
              "      <td>17255662.2</td>\n",
              "      <td>17252306.4</td>\n",
              "      <td>17242415.0</td>\n",
              "      <td>17236238.3</td>\n",
              "      <td>-1792.310345</td>\n",
              "      <td>17230240.2</td>\n",
              "      <td>17175492.0</td>\n",
              "      <td>...</td>\n",
              "      <td>9940018.52</td>\n",
              "      <td>9920555.98</td>\n",
              "      <td>9899295.16</td>\n",
              "      <td>0.072534</td>\n",
              "      <td>9876270.9</td>\n",
              "      <td>4069352.15</td>\n",
              "      <td>2.715386e-02</td>\n",
              "      <td>0.632980</td>\n",
              "      <td>0.193219</td>\n",
              "      <td>116.217450</td>\n",
              "      <td>116.226286</td>\n",
              "      <td>0.023704</td>\n",
              "      <td>116.244514</td>\n",
              "      <td>1.286890e+09</td>\n",
              "      <td>116.275134</td>\n",
              "      <td>116.295926</td>\n",
              "      <td>116.375962</td>\n",
              "      <td>116.325650</td>\n",
              "      <td>116.347688</td>\n",
              "      <td>116.378496</td>\n",
              "      <td>116.470724</td>\n",
              "      <td>116.642135</td>\n",
              "      <td>116.82944</td>\n",
              "      <td>1.266330</td>\n",
              "      <td>4067920.1</td>\n",
              "      <td>0.003604</td>\n",
              "      <td>2721.796552</td>\n",
              "      <td>0.370414</td>\n",
              "      <td>-311.053571</td>\n",
              "      <td>-1.537458</td>\n",
              "      <td>-0.182713</td>\n",
              "      <td>0.015277</td>\n",
              "      <td>-300.267857</td>\n",
              "      <td>0.000826</td>\n",
              "      <td>-0.763057</td>\n",
              "      <td>376.265517</td>\n",
              "      <td>-3.394643</td>\n",
              "      <td>0.001412</td>\n",
              "      <td>0.278001</td>\n",
              "      <td>1.448639</td>\n",
              "    </tr>\n",
              "    <tr>\n",
              "      <th>67014</th>\n",
              "      <td>1.766002e+07</td>\n",
              "      <td>10251243.40</td>\n",
              "      <td>4080986.50</td>\n",
              "      <td>81.150253</td>\n",
              "      <td>81.125552</td>\n",
              "      <td>81.073011</td>\n",
              "      <td>81.044834</td>\n",
              "      <td>81.015071</td>\n",
              "      <td>80.984992</td>\n",
              "      <td>80.954754</td>\n",
              "      <td>81.214122</td>\n",
              "      <td>0.009350</td>\n",
              "      <td>-1.194009</td>\n",
              "      <td>10248694.30</td>\n",
              "      <td>81.099835</td>\n",
              "      <td>0.000107</td>\n",
              "      <td>4081510.19</td>\n",
              "      <td>4.081030e+06</td>\n",
              "      <td>4081140.70</td>\n",
              "      <td>1.891861e+05</td>\n",
              "      <td>4081440.60</td>\n",
              "      <td>0.001052</td>\n",
              "      <td>0.009049</td>\n",
              "      <td>4081565.7</td>\n",
              "      <td>4081356.87</td>\n",
              "      <td>4080617.10</td>\n",
              "      <td>4080821.04</td>\n",
              "      <td>81.094266</td>\n",
              "      <td>10246671.40</td>\n",
              "      <td>10256388.90</td>\n",
              "      <td>81.194083</td>\n",
              "      <td>17671779.2</td>\n",
              "      <td>17670667.2</td>\n",
              "      <td>17666907.6</td>\n",
              "      <td>17662427.0</td>\n",
              "      <td>17658451.4</td>\n",
              "      <td>17653156.0</td>\n",
              "      <td>1059.827586</td>\n",
              "      <td>17648790.4</td>\n",
              "      <td>17644691.0</td>\n",
              "      <td>...</td>\n",
              "      <td>10234971.50</td>\n",
              "      <td>10231461.80</td>\n",
              "      <td>10226157.40</td>\n",
              "      <td>-0.008944</td>\n",
              "      <td>10223049.0</td>\n",
              "      <td>4080369.99</td>\n",
              "      <td>5.573198e-02</td>\n",
              "      <td>0.080323</td>\n",
              "      <td>0.090252</td>\n",
              "      <td>103.259190</td>\n",
              "      <td>103.355824</td>\n",
              "      <td>0.010615</td>\n",
              "      <td>103.393666</td>\n",
              "      <td>1.211413e+08</td>\n",
              "      <td>103.446261</td>\n",
              "      <td>103.600796</td>\n",
              "      <td>103.647993</td>\n",
              "      <td>103.647065</td>\n",
              "      <td>103.684092</td>\n",
              "      <td>103.805407</td>\n",
              "      <td>103.914134</td>\n",
              "      <td>103.975050</td>\n",
              "      <td>104.01567</td>\n",
              "      <td>-1.329784</td>\n",
              "      <td>4080105.7</td>\n",
              "      <td>0.001075</td>\n",
              "      <td>-1287.689655</td>\n",
              "      <td>0.006110</td>\n",
              "      <td>-8.535714</td>\n",
              "      <td>-0.024401</td>\n",
              "      <td>-0.639470</td>\n",
              "      <td>-0.024668</td>\n",
              "      <td>-3.839286</td>\n",
              "      <td>-0.000064</td>\n",
              "      <td>-0.023856</td>\n",
              "      <td>-50.344828</td>\n",
              "      <td>-1.355357</td>\n",
              "      <td>-0.000084</td>\n",
              "      <td>-0.179430</td>\n",
              "      <td>0.084830</td>\n",
              "    </tr>\n",
              "    <tr>\n",
              "      <th>73322</th>\n",
              "      <td>1.847968e+07</td>\n",
              "      <td>10001744.60</td>\n",
              "      <td>4077883.82</td>\n",
              "      <td>97.684939</td>\n",
              "      <td>97.597925</td>\n",
              "      <td>97.396415</td>\n",
              "      <td>97.278988</td>\n",
              "      <td>97.148772</td>\n",
              "      <td>97.004600</td>\n",
              "      <td>96.845966</td>\n",
              "      <td>97.910424</td>\n",
              "      <td>0.031835</td>\n",
              "      <td>-1.030780</td>\n",
              "      <td>10000837.70</td>\n",
              "      <td>97.502190</td>\n",
              "      <td>0.000076</td>\n",
              "      <td>4078086.49</td>\n",
              "      <td>4.077836e+06</td>\n",
              "      <td>4077946.40</td>\n",
              "      <td>9.648904e+04</td>\n",
              "      <td>4078071.20</td>\n",
              "      <td>0.000686</td>\n",
              "      <td>0.005829</td>\n",
              "      <td>4078097.4</td>\n",
              "      <td>4078040.03</td>\n",
              "      <td>4077726.16</td>\n",
              "      <td>4077812.21</td>\n",
              "      <td>97.457734</td>\n",
              "      <td>9999693.08</td>\n",
              "      <td>10002279.00</td>\n",
              "      <td>97.839616</td>\n",
              "      <td>18516198.7</td>\n",
              "      <td>18509485.6</td>\n",
              "      <td>18501157.2</td>\n",
              "      <td>18492061.4</td>\n",
              "      <td>18472498.2</td>\n",
              "      <td>18462134.7</td>\n",
              "      <td>-3343.344828</td>\n",
              "      <td>18451235.8</td>\n",
              "      <td>18423912.0</td>\n",
              "      <td>...</td>\n",
              "      <td>9992980.62</td>\n",
              "      <td>9989450.94</td>\n",
              "      <td>9985934.39</td>\n",
              "      <td>0.036705</td>\n",
              "      <td>9977843.9</td>\n",
              "      <td>4077398.23</td>\n",
              "      <td>7.515302e-05</td>\n",
              "      <td>0.273443</td>\n",
              "      <td>0.022000</td>\n",
              "      <td>121.070830</td>\n",
              "      <td>121.078345</td>\n",
              "      <td>0.003094</td>\n",
              "      <td>121.080602</td>\n",
              "      <td>4.719754e+07</td>\n",
              "      <td>121.084227</td>\n",
              "      <td>121.087466</td>\n",
              "      <td>121.089632</td>\n",
              "      <td>121.090925</td>\n",
              "      <td>121.094378</td>\n",
              "      <td>121.096708</td>\n",
              "      <td>121.098470</td>\n",
              "      <td>121.099713</td>\n",
              "      <td>121.10075</td>\n",
              "      <td>-1.050281</td>\n",
              "      <td>4076859.8</td>\n",
              "      <td>0.000687</td>\n",
              "      <td>285.986207</td>\n",
              "      <td>0.098587</td>\n",
              "      <td>-74.928571</td>\n",
              "      <td>-0.288209</td>\n",
              "      <td>-1.785421</td>\n",
              "      <td>0.000248</td>\n",
              "      <td>-118.869643</td>\n",
              "      <td>-0.000578</td>\n",
              "      <td>-1.016200</td>\n",
              "      <td>30.358621</td>\n",
              "      <td>-4.521429</td>\n",
              "      <td>-0.000083</td>\n",
              "      <td>-0.362267</td>\n",
              "      <td>-0.403930</td>\n",
              "    </tr>\n",
              "  </tbody>\n",
              "</table>\n",
              "<p>5 rows × 94 columns</p>\n",
              "</div>\n",
              "      <button class=\"colab-df-convert\" onclick=\"convertToInteractive('df-03b4d9db-bdf2-4b3b-b50f-ab652ae8a65a')\"\n",
              "              title=\"Convert this dataframe to an interactive table.\"\n",
              "              style=\"display:none;\">\n",
              "        \n",
              "  <svg xmlns=\"http://www.w3.org/2000/svg\" height=\"24px\"viewBox=\"0 0 24 24\"\n",
              "       width=\"24px\">\n",
              "    <path d=\"M0 0h24v24H0V0z\" fill=\"none\"/>\n",
              "    <path d=\"M18.56 5.44l.94 2.06.94-2.06 2.06-.94-2.06-.94-.94-2.06-.94 2.06-2.06.94zm-11 1L8.5 8.5l.94-2.06 2.06-.94-2.06-.94L8.5 2.5l-.94 2.06-2.06.94zm10 10l.94 2.06.94-2.06 2.06-.94-2.06-.94-.94-2.06-.94 2.06-2.06.94z\"/><path d=\"M17.41 7.96l-1.37-1.37c-.4-.4-.92-.59-1.43-.59-.52 0-1.04.2-1.43.59L10.3 9.45l-7.72 7.72c-.78.78-.78 2.05 0 2.83L4 21.41c.39.39.9.59 1.41.59.51 0 1.02-.2 1.41-.59l7.78-7.78 2.81-2.81c.8-.78.8-2.07 0-2.86zM5.41 20L4 18.59l7.72-7.72 1.47 1.35L5.41 20z\"/>\n",
              "  </svg>\n",
              "      </button>\n",
              "      \n",
              "  <style>\n",
              "    .colab-df-container {\n",
              "      display:flex;\n",
              "      flex-wrap:wrap;\n",
              "      gap: 12px;\n",
              "    }\n",
              "\n",
              "    .colab-df-convert {\n",
              "      background-color: #E8F0FE;\n",
              "      border: none;\n",
              "      border-radius: 50%;\n",
              "      cursor: pointer;\n",
              "      display: none;\n",
              "      fill: #1967D2;\n",
              "      height: 32px;\n",
              "      padding: 0 0 0 0;\n",
              "      width: 32px;\n",
              "    }\n",
              "\n",
              "    .colab-df-convert:hover {\n",
              "      background-color: #E2EBFA;\n",
              "      box-shadow: 0px 1px 2px rgba(60, 64, 67, 0.3), 0px 1px 3px 1px rgba(60, 64, 67, 0.15);\n",
              "      fill: #174EA6;\n",
              "    }\n",
              "\n",
              "    [theme=dark] .colab-df-convert {\n",
              "      background-color: #3B4455;\n",
              "      fill: #D2E3FC;\n",
              "    }\n",
              "\n",
              "    [theme=dark] .colab-df-convert:hover {\n",
              "      background-color: #434B5C;\n",
              "      box-shadow: 0px 1px 3px 1px rgba(0, 0, 0, 0.15);\n",
              "      filter: drop-shadow(0px 1px 2px rgba(0, 0, 0, 0.3));\n",
              "      fill: #FFFFFF;\n",
              "    }\n",
              "  </style>\n",
              "\n",
              "      <script>\n",
              "        const buttonEl =\n",
              "          document.querySelector('#df-03b4d9db-bdf2-4b3b-b50f-ab652ae8a65a button.colab-df-convert');\n",
              "        buttonEl.style.display =\n",
              "          google.colab.kernel.accessAllowed ? 'block' : 'none';\n",
              "\n",
              "        async function convertToInteractive(key) {\n",
              "          const element = document.querySelector('#df-03b4d9db-bdf2-4b3b-b50f-ab652ae8a65a');\n",
              "          const dataTable =\n",
              "            await google.colab.kernel.invokeFunction('convertToInteractive',\n",
              "                                                     [key], {});\n",
              "          if (!dataTable) return;\n",
              "\n",
              "          const docLinkHtml = 'Like what you see? Visit the ' +\n",
              "            '<a target=\"_blank\" href=https://colab.research.google.com/notebooks/data_table.ipynb>data table notebook</a>'\n",
              "            + ' to learn more about interactive tables.';\n",
              "          element.innerHTML = '';\n",
              "          dataTable['output_type'] = 'display_data';\n",
              "          await google.colab.output.renderOutput(dataTable, element);\n",
              "          const docLink = document.createElement('div');\n",
              "          docLink.innerHTML = docLinkHtml;\n",
              "          element.appendChild(docLink);\n",
              "        }\n",
              "      </script>\n",
              "    </div>\n",
              "  </div>\n",
              "  "
            ],
            "text/plain": [
              "        P-PDG__mean  ...  T-TPT__skewness\n",
              "17406  0.000000e+00  ...         0.000000\n",
              "61303  2.533910e+07  ...        -1.258982\n",
              "71781  1.724138e+07  ...         1.448639\n",
              "67014  1.766002e+07  ...         0.084830\n",
              "73322  1.847968e+07  ...        -0.403930\n",
              "\n",
              "[5 rows x 94 columns]"
            ]
          },
          "metadata": {},
          "execution_count": 6
        }
      ],
      "source": [
        "X_selected = select_features(X_train, y_train)\n",
        "X_selected_train = X_selected\n",
        "\n",
        "X_selected_test = X_test[list(X_selected_train.columns)]\n",
        "\n",
        "X_selected_train.head()"
      ]
    },
    {
      "cell_type": "markdown",
      "metadata": {
        "id": "sgOXMbk_ke4z"
      },
      "source": [
        "### Scaling"
      ]
    },
    {
      "cell_type": "markdown",
      "metadata": {
        "id": "UHQpWZaZCO6r"
      },
      "source": [
        "todo"
      ]
    },
    {
      "cell_type": "markdown",
      "metadata": {
        "id": "3MPPCHtzBFZt"
      },
      "source": [
        "MinMax scaler"
      ]
    },
    {
      "cell_type": "code",
      "execution_count": 61,
      "metadata": {
        "id": "1KK6GIUEBISb",
        "colab": {
          "base_uri": "https://localhost:8080/"
        },
        "outputId": "fd6a4e24-09b8-4596-9628-70589ab935ba"
      },
      "outputs": [
        {
          "output_type": "stream",
          "name": "stderr",
          "text": [
            "/usr/local/lib/python3.7/dist-packages/sklearn/base.py:444: UserWarning: X has feature names, but MinMaxScaler was fitted without feature names\n",
            "  f\"X has feature names, but {self.__class__.__name__} was fitted without\"\n"
          ]
        }
      ],
      "source": [
        "# Normalizes the samples\n",
        "\n",
        "scaled_features_minmax = minmax_scaler.fit_transform(X_train.values)\n",
        "X_train = pd.DataFrame(scaled_features_minmax, index=X_train.index, columns=X_train.columns)\n",
        "\n",
        "scaled_features_minmax = minmax_scaler.transform(X_test)\n",
        "X_test = pd.DataFrame(scaled_features_minmax, index=X_test.index, columns=X_test.columns)"
      ]
    },
    {
      "cell_type": "code",
      "execution_count": null,
      "metadata": {
        "id": "hKWZzRPfBISc"
      },
      "outputs": [],
      "source": [
        "# Same for feature selection data\n",
        "\n",
        "scaled_features_minmax = scaler.fit_transform(X_selected_train.values)\n",
        "X_selected_train = pd.DataFrame(scaled_features_minmax, index=X_selected_train.index, columns=X_selected_train.columns)\n",
        "\n",
        "scaled_features_minmax = scaler.transform(X_selected_test)\n",
        "X_selected_test = pd.DataFrame(scaled_features_minmax, index=X_selected_test.index, columns=X_selected_test.columns)"
      ]
    },
    {
      "cell_type": "markdown",
      "metadata": {
        "id": "N53OT2MvBD20"
      },
      "source": [
        "Standard scaler"
      ]
    },
    {
      "cell_type": "code",
      "execution_count": 7,
      "metadata": {
        "id": "-Eat27PPDtBD",
        "colab": {
          "base_uri": "https://localhost:8080/"
        },
        "outputId": "73a455a6-afe4-4e49-83e0-dfc7294753fe"
      },
      "outputs": [
        {
          "output_type": "stream",
          "name": "stderr",
          "text": [
            "/usr/local/lib/python3.7/dist-packages/sklearn/base.py:444: UserWarning: X has feature names, but StandardScaler was fitted without feature names\n",
            "  f\"X has feature names, but {self.__class__.__name__} was fitted without\"\n"
          ]
        }
      ],
      "source": [
        "# Normalizes the samples\n",
        "\n",
        "scaled_features_std = standard_scaler.fit_transform(X_train.values)\n",
        "X_train = pd.DataFrame(scaled_features_std, index=X_train.index, columns=X_train.columns)\n",
        "\n",
        "scaled_features_std = standard_scaler.transform(X_test)\n",
        "X_test = pd.DataFrame(scaled_features_std, index=X_test.index, columns=X_test.columns)"
      ]
    },
    {
      "cell_type": "code",
      "execution_count": null,
      "metadata": {
        "id": "ukjxGr0-PKcZ"
      },
      "outputs": [],
      "source": [
        "# Same for feature selection data\n",
        "\n",
        "scaled_features_std = minmax_scaler.fit_transform(X_selected_train.values)\n",
        "X_selected_train = pd.DataFrame(scaled_features_std, index=X_selected_train.index, columns=X_selected_train.columns)\n",
        "\n",
        "scaled_features_std = minmax_scaler.transform(X_selected_test)\n",
        "X_selected_test = pd.DataFrame(scaled_features_std, index=X_selected_test.index, columns=X_selected_test.columns)"
      ]
    },
    {
      "cell_type": "markdown",
      "metadata": {
        "id": "w5VmtoWqgTfr"
      },
      "source": [
        "# Classification"
      ]
    },
    {
      "cell_type": "markdown",
      "metadata": {
        "id": "1YdU4Zcc6GUt"
      },
      "source": [
        "Results dataframe, used for storing final results"
      ]
    },
    {
      "cell_type": "code",
      "execution_count": 62,
      "metadata": {
        "id": "Hq0Z2Q_8Df-O"
      },
      "outputs": [],
      "source": [
        "results = pd.DataFrame(columns=['classifier', 'f1', 'accuracy', 'time_window', 'hiperparameters'])"
      ]
    },
    {
      "cell_type": "markdown",
      "metadata": {
        "id": "Tvg1pdlFbLLM"
      },
      "source": [
        "Results_new dataframe has cross_val_score instead f1\n"
      ]
    },
    {
      "cell_type": "code",
      "execution_count": 63,
      "metadata": {
        "id": "XsFq9Zxba-9D"
      },
      "outputs": [],
      "source": [
        "results_new = pd.DataFrame(columns=['classifier', 'cross_val_score', 'accuracy', 'time_window', 'hiperparameters'])"
      ]
    },
    {
      "cell_type": "markdown",
      "metadata": {
        "id": "s4JHzZGrHES8"
      },
      "source": [
        "Results_bag and results_rnd dataframes have Bagging meta-estimator(ensemble method) results, first for grid search, second for randomized search."
      ]
    },
    {
      "cell_type": "code",
      "execution_count": 64,
      "metadata": {
        "id": "-xa9Icz3HES8"
      },
      "outputs": [],
      "source": [
        "from sklearn.ensemble import BaggingClassifier"
      ]
    },
    {
      "cell_type": "code",
      "execution_count": 65,
      "metadata": {
        "id": "o3Bu4AYvHES9"
      },
      "outputs": [],
      "source": [
        "results_bag = pd.DataFrame(columns=['classifier', 'cross_val_score', 'accuracy', 'time_window', 'hiperparameters'])"
      ]
    },
    {
      "cell_type": "code",
      "execution_count": 66,
      "metadata": {
        "id": "-Tpan-9QHES9"
      },
      "outputs": [],
      "source": [
        "results_rnd = pd.DataFrame(columns=['classifier', 'cross_val_score', 'accuracy', 'time_window', 'hiperparameters'])"
      ]
    },
    {
      "cell_type": "markdown",
      "metadata": {
        "id": "1Rbm9SURkhLm"
      },
      "source": [
        "## Logistic regression"
      ]
    },
    {
      "cell_type": "markdown",
      "metadata": {
        "id": "m2TAXgBd7lgp"
      },
      "source": [
        "### Grid search"
      ]
    },
    {
      "cell_type": "code",
      "execution_count": 67,
      "metadata": {
        "colab": {
          "base_uri": "https://localhost:8080/"
        },
        "id": "YlOwYSAWVvUt",
        "outputId": "ae0d4275-b0ef-4f89-ab87-912f18857687"
      },
      "outputs": [
        {
          "output_type": "stream",
          "name": "stdout",
          "text": [
            "{'alpha': 0.0009118819655545162}\n",
            "0.5904942296237523\n"
          ]
        }
      ],
      "source": [
        "cv = 5\n",
        "\n",
        "param_grid = [{'alpha': list(math.exp(i) for i in range(-7, 0))}]\n",
        "\n",
        "model = SGDClassifier(loss='log')\n",
        "clf = GridSearchCV(model, param_grid, cv=cv, scoring='f1_macro')\n",
        "clf.fit(X_train, y_train)\n",
        "model_gs = clf.best_estimator_\n",
        "\n",
        "print(clf.best_params_)\n",
        "print(clf.best_score_)\n"
      ]
    },
    {
      "cell_type": "markdown",
      "metadata": {
        "id": "69PM9QbZHES9"
      },
      "source": [
        "#### f1_score"
      ]
    },
    {
      "cell_type": "code",
      "execution_count": 68,
      "metadata": {
        "colab": {
          "base_uri": "https://localhost:8080/"
        },
        "id": "UFukNfVggpDh",
        "outputId": "f0c4f60d-7fc9-471e-a880-e20dcfef7f92"
      },
      "outputs": [
        {
          "output_type": "stream",
          "name": "stdout",
          "text": [
            "Accuracy: 0.7859848881260858\n",
            "F1: 0.5825275694688415\n"
          ]
        }
      ],
      "source": [
        "y_pred = model_gs.predict(X_test)\n",
        "\n",
        "f1 = f1_score(y_test, y_pred, average='macro')\n",
        "acc = accuracy_score(y_test, y_pred)\n",
        "print(f\"Accuracy: {acc}\")\n",
        "print(f\"F1: {f1}\")\n",
        "\n",
        "df = {'classifier': 'Logistic', 'f1': f1, 'accuracy': acc, 'time_window': 300, 'hiperparameters': clf.best_params_['alpha']}\n",
        "\n",
        "results = results.append(df, ignore_index=True)\n",
        "\n"
      ]
    },
    {
      "cell_type": "markdown",
      "metadata": {
        "id": "JiMz5cMwHES-"
      },
      "source": [
        "#### cross_val_score"
      ]
    },
    {
      "cell_type": "code",
      "execution_count": 69,
      "metadata": {
        "id": "Be_glWxueTVD",
        "colab": {
          "base_uri": "https://localhost:8080/"
        },
        "outputId": "1361a34d-f600-42f8-ff68-131e81f21b79"
      },
      "outputs": [
        {
          "output_type": "stream",
          "name": "stdout",
          "text": [
            "Cross value score: [0.77584763 0.78013813 0.79549974 0.79016222 0.78105704]\n"
          ]
        }
      ],
      "source": [
        "cv=cross_val_score(model_gs, X_test, y_test)\n",
        "print(f\"Cross value score: {cv}\")\n",
        "\n",
        "df_new={'classifier': 'Logistic', 'cross_val_score': cv, 'accuracy': acc, 'time_window': 300, 'hiperparameters': clf.best_params_['alpha']}\n",
        "results_new=results_new.append(df_new, ignore_index=True)"
      ]
    },
    {
      "cell_type": "markdown",
      "metadata": {
        "id": "4KS5I5nt7nPo"
      },
      "source": [
        "### Randomized search"
      ]
    },
    {
      "cell_type": "code",
      "execution_count": null,
      "metadata": {
        "id": "9Uu6vNAd7Vgh"
      },
      "outputs": [],
      "source": [
        "\n",
        "model = SGDClassifier(loss='log')\n",
        "clf = RandomizedSearchCV(model, param_grid, cv=cv, scoring='f1_macro')\n",
        "\n",
        "s = clf.fit(X_train, y_train)\n",
        "model_rs = clf.best_estimator_\n",
        "\n",
        "print(clf.best_params_)\n",
        "print(clf.best_score_)"
      ]
    },
    {
      "cell_type": "markdown",
      "metadata": {
        "id": "uu7WcntIHES_"
      },
      "source": [
        "#### f1_score"
      ]
    },
    {
      "cell_type": "code",
      "execution_count": null,
      "metadata": {
        "id": "UKHPiTe48IuO"
      },
      "outputs": [],
      "source": [
        "y_pred = model_rs.predict(X_test)\n",
        "\n",
        "f1 = f1_score(y_test, y_pred, average='macro')\n",
        "acc = accuracy_score(y_test, y_pred)\n",
        "print(f\"Accuracy: {acc}\")\n",
        "print(f\"F1: {f1}\")\n",
        "\n",
        "df = {'classifier': 'Logistic', 'f1': f1, 'accuracy': acc, 'time_window': 300, 'hiperparameters': clf.best_params_['alpha']}\n",
        "\n",
        "results = results.append(df, ignore_index=True)\n",
        "\n"
      ]
    },
    {
      "cell_type": "markdown",
      "metadata": {
        "id": "BG6yDRk1HES_"
      },
      "source": [
        "#### cross_val_score"
      ]
    },
    {
      "cell_type": "code",
      "execution_count": null,
      "metadata": {
        "id": "haQbQhiuelwv"
      },
      "outputs": [],
      "source": [
        "cv=cross_val_score(model_rs, X_test, y_test)\n",
        "print(f\"Cross value score: {cv}\")\n",
        "\n",
        "df_new={'classifier': 'Logistic', 'cross_val_score': cv, 'accuracy': acc, 'time_window': 300, 'hiperparameters': clf.best_params_['alpha']}\n",
        "results_new=results_new.append(df_new, ignore_index=True)"
      ]
    },
    {
      "cell_type": "markdown",
      "metadata": {
        "id": "bkOzKWGXHES-"
      },
      "source": [
        "## Bagging Classifier:"
      ]
    },
    {
      "cell_type": "markdown",
      "source": [
        "### Grid search"
      ],
      "metadata": {
        "id": "6PNpmWyCpExq"
      }
    },
    {
      "cell_type": "code",
      "execution_count": 70,
      "metadata": {
        "colab": {
          "base_uri": "https://localhost:8080/"
        },
        "id": "OHF0lavlHES-",
        "outputId": "3df7646c-bc66-41ee-acef-8dcc40d8f822"
      },
      "outputs": [
        {
          "output_type": "stream",
          "name": "stdout",
          "text": [
            "{'n_estimators': 11}\n",
            "0.6416221292544362\n"
          ]
        }
      ],
      "source": [
        "cv = 5\n",
        "\n",
        "param_grid = [{'n_estimators': list(i for i in range(10, 13))}]\n",
        "\n",
        "model = SGDClassifier(loss='log')\n",
        "bagging = BaggingClassifier(model, max_samples=0.5, max_features=0.5)\n",
        "clf = GridSearchCV(bagging, param_grid, cv=cv, scoring='f1_macro')\n",
        "clf.fit(X_train, y_train)\n",
        "model_gs = clf.best_estimator_\n",
        "\n",
        "print(clf.best_params_)\n",
        "print(clf.best_score_)"
      ]
    },
    {
      "cell_type": "code",
      "execution_count": 71,
      "metadata": {
        "colab": {
          "base_uri": "https://localhost:8080/"
        },
        "outputId": "d75368e1-d36b-4574-aad2-95a2caf3531a",
        "id": "ZWZ8DCQLHES-"
      },
      "outputs": [
        {
          "output_type": "stream",
          "name": "stdout",
          "text": [
            "Accuracy: 0.8018293321054064\n"
          ]
        }
      ],
      "source": [
        "y_pred = model_gs.predict(X_test)\n",
        "acc = accuracy_score(y_test, y_pred)\n",
        "print(f\"Accuracy: {acc}\")\n"
      ]
    },
    {
      "cell_type": "code",
      "execution_count": 72,
      "metadata": {
        "colab": {
          "base_uri": "https://localhost:8080/"
        },
        "id": "O0AW-OybHES-",
        "outputId": "f32091a2-3157-4da0-b38d-bf5a5ae3ed9f"
      },
      "outputs": [
        {
          "output_type": "stream",
          "name": "stdout",
          "text": [
            "Cross value score: [0.7981373  0.79761406 0.80732601 0.7899529  0.79769754]\n"
          ]
        }
      ],
      "source": [
        "cv=cross_val_score(model_gs, X_test, y_test)\n",
        "print(f\"Cross value score: {cv}\")\n",
        "\n",
        "df_bag={'classifier': 'Logistic', 'cross_val_score': cv, 'accuracy': acc, 'time_window': 300, 'hiperparameters': clf.best_params_['n_estimators']}\n",
        "results_bag=results_bag.append(df_bag, ignore_index=True)"
      ]
    },
    {
      "cell_type": "markdown",
      "metadata": {
        "id": "QMiTQ6XuHES_"
      },
      "source": [
        "### Bagging classifier"
      ]
    },
    {
      "cell_type": "code",
      "execution_count": 73,
      "metadata": {
        "colab": {
          "base_uri": "https://localhost:8080/"
        },
        "id": "8Bycg5TFHETA",
        "outputId": "5168e83e-5f40-48b9-fd77-80de8e106bbe"
      },
      "outputs": [
        {
          "output_type": "stream",
          "name": "stderr",
          "text": [
            "/usr/local/lib/python3.7/dist-packages/sklearn/model_selection/_search.py:296: UserWarning: The total space of parameters 3 is smaller than n_iter=10. Running 3 iterations. For exhaustive searches, use GridSearchCV.\n",
            "  UserWarning,\n"
          ]
        },
        {
          "output_type": "stream",
          "name": "stdout",
          "text": [
            "{'n_estimators': 11}\n",
            "0.6386432932864293\n"
          ]
        }
      ],
      "source": [
        "cv = 5\n",
        "\n",
        "param_grid = [{'n_estimators': list(i for i in range(10, 13))}]\n",
        "\n",
        "model = SGDClassifier(loss='log')\n",
        "bagging = BaggingClassifier(model, max_samples=0.5, max_features=0.5)\n",
        "clf = RandomizedSearchCV(bagging, param_grid, cv=\n",
        "                         cv, scoring='f1_macro')\n",
        "clf.fit(X_train, y_train)\n",
        "model_rs = clf.best_estimator_\n",
        "\n",
        "print(clf.best_params_)\n",
        "print(clf.best_score_)"
      ]
    },
    {
      "cell_type": "code",
      "execution_count": 74,
      "metadata": {
        "colab": {
          "base_uri": "https://localhost:8080/"
        },
        "id": "2BMyavwmHETA",
        "outputId": "2e6b83a0-8b31-4609-d30a-7f330eb89155"
      },
      "outputs": [
        {
          "output_type": "stream",
          "name": "stdout",
          "text": [
            "Accuracy: 0.7988990518450301\n"
          ]
        }
      ],
      "source": [
        "y_pred = model_rs.predict(X_test)\n",
        "acc = accuracy_score(y_test, y_pred)\n",
        "print(f\"Accuracy: {acc}\")"
      ]
    },
    {
      "cell_type": "code",
      "execution_count": 75,
      "metadata": {
        "colab": {
          "base_uri": "https://localhost:8080/"
        },
        "id": "7D_cEhWqHETA",
        "outputId": "9eb1d6d2-ea74-4b57-c202-277e9e27322c"
      },
      "outputs": [
        {
          "output_type": "stream",
          "name": "stdout",
          "text": [
            "Cross value score: [0.7895563  0.79928841 0.80209314 0.79989534 0.80470958]\n"
          ]
        }
      ],
      "source": [
        "cv=cross_val_score(model_rs, X_test, y_test)\n",
        "print(f\"Cross value score: {cv}\")\n",
        "\n",
        "df_rnd={'classifier': 'Logistic', 'cross_val_score': cv, 'accuracy': acc, 'time_window': 300, 'hiperparameters': clf.best_params_['n_estimators']}\n",
        "results_rnd=results_rnd.append(df_rnd, ignore_index=True)"
      ]
    },
    {
      "cell_type": "markdown",
      "metadata": {
        "id": "GA14VZAbkpMM"
      },
      "source": [
        "## SVC"
      ]
    },
    {
      "cell_type": "markdown",
      "metadata": {
        "id": "BQXUgjVU8l43"
      },
      "source": [
        "### Grid search"
      ]
    },
    {
      "cell_type": "code",
      "execution_count": 76,
      "metadata": {
        "colab": {
          "base_uri": "https://localhost:8080/"
        },
        "id": "IopJtj5Iu2YE",
        "outputId": "81ff8dde-5d87-4f6e-a3d0-19148d8a4344"
      },
      "outputs": [
        {
          "output_type": "stream",
          "name": "stdout",
          "text": [
            "{'alpha': 0.0009118819655545162}\n",
            "0.6364057908050234\n"
          ]
        }
      ],
      "source": [
        "cv = 5\n",
        "\n",
        "param_grid = [{'alpha': list(math.exp(i) for i in range(-7, 0))}]\n",
        "\n",
        "model = SGDClassifier(loss='hinge')\n",
        "\n",
        "clf = GridSearchCV(model, param_grid, cv=cv, scoring='f1_macro')\n",
        "clf.fit(X_train, y_train)\n",
        "model_gs = clf.best_estimator_\n",
        "\n",
        "print(clf.best_params_)\n",
        "print(clf.best_score_)\n",
        "\n"
      ]
    },
    {
      "cell_type": "markdown",
      "metadata": {
        "id": "CChr-coLHETA"
      },
      "source": [
        "#### f1_score"
      ]
    },
    {
      "cell_type": "code",
      "execution_count": 77,
      "metadata": {
        "colab": {
          "base_uri": "https://localhost:8080/"
        },
        "id": "1GGM3SQwE-3z",
        "outputId": "53012feb-f169-4beb-b938-9b130b81d1e9"
      },
      "outputs": [
        {
          "output_type": "stream",
          "name": "stdout",
          "text": [
            "Accuracy: 0.8030642359294221\n",
            "F1: 0.6561338511117374\n"
          ]
        }
      ],
      "source": [
        "y_pred = model_gs.predict(X_test)\n",
        "\n",
        "f1 = f1_score(y_test, y_pred, average='macro')\n",
        "acc = accuracy_score(y_test, y_pred)\n",
        "print(f\"Accuracy: {acc}\")\n",
        "print(f\"F1: {f1}\")\n",
        "\n",
        "df = {'classifier': 'SVC', 'f1': f1, 'accuracy': acc, 'time_window': 300, 'hiperparameters': clf.best_params_['alpha']}\n",
        "\n",
        "results = results.append(df, ignore_index=True)\n",
        "\n"
      ]
    },
    {
      "cell_type": "markdown",
      "metadata": {
        "id": "UeNUKCTsHETB"
      },
      "source": [
        "#### cross_val_score"
      ]
    },
    {
      "cell_type": "code",
      "execution_count": 78,
      "metadata": {
        "id": "JyVG7CVifBtS",
        "colab": {
          "base_uri": "https://localhost:8080/"
        },
        "outputId": "b0e7fc18-8cf9-4b83-9d53-9e8d9df7ddc9"
      },
      "outputs": [
        {
          "output_type": "stream",
          "name": "stdout",
          "text": [
            "Cross value score: [0.78903307 0.8094391  0.80083726 0.80177917 0.79884877]\n"
          ]
        }
      ],
      "source": [
        "cv=cross_val_score(model_gs, X_test, y_test)\n",
        "print(f\"Cross value score: {cv}\")\n",
        "\n",
        "df_new={'classifier': 'SVC', 'cross_val_score': cv, 'accuracy': acc, 'time_window': 300, 'hiperparameters': clf.best_params_['alpha']}\n",
        "results_new=results_new.append(df_new, ignore_index=True)"
      ]
    },
    {
      "cell_type": "markdown",
      "metadata": {
        "id": "xUcdCelfHETB"
      },
      "source": [
        "#### Bagging"
      ]
    },
    {
      "cell_type": "code",
      "execution_count": 79,
      "metadata": {
        "colab": {
          "base_uri": "https://localhost:8080/"
        },
        "outputId": "8fd36ede-e89a-47db-f28f-c26eeff4cb93",
        "id": "NgmCusruHETB"
      },
      "outputs": [
        {
          "output_type": "stream",
          "name": "stdout",
          "text": [
            "{'n_estimators': 10}\n",
            "0.6688090137119793\n"
          ]
        }
      ],
      "source": [
        "cv = 5\n",
        "\n",
        "param_grid = [{'n_estimators': list(i for i in range(10, 13))}]\n",
        "\n",
        "model = SGDClassifier(loss='hinge')\n",
        "bagging = BaggingClassifier(model, max_samples=0.5, max_features=0.5)\n",
        "clf = GridSearchCV(bagging, param_grid, cv=cv, scoring='f1_macro')\n",
        "\n",
        "clf.fit(X_train, y_train)\n",
        "model_gs = clf.best_estimator_\n",
        "\n",
        "print(clf.best_params_)\n",
        "print(clf.best_score_)\n"
      ]
    },
    {
      "cell_type": "code",
      "execution_count": 80,
      "metadata": {
        "colab": {
          "base_uri": "https://localhost:8080/"
        },
        "id": "bwn9NIQgHETB",
        "outputId": "f4964a9b-d795-4815-d65f-6a6a01fa841f"
      },
      "outputs": [
        {
          "output_type": "stream",
          "name": "stdout",
          "text": [
            "Accuracy: 0.8050526403918203\n"
          ]
        }
      ],
      "source": [
        "y_pred = model_gs.predict(X_test)\n",
        "acc = accuracy_score(y_test, y_pred)\n",
        "print(f\"Accuracy: {acc}\")"
      ]
    },
    {
      "cell_type": "code",
      "execution_count": 81,
      "metadata": {
        "colab": {
          "base_uri": "https://localhost:8080/"
        },
        "id": "-F2myMEaHETB",
        "outputId": "c66f8fb6-d597-4eb1-e785-f98928c87637"
      },
      "outputs": [
        {
          "output_type": "stream",
          "name": "stdout",
          "text": [
            "Cross value score: [0.80504395 0.80776476 0.80397698 0.80397698 0.80188383]\n"
          ]
        }
      ],
      "source": [
        "cv=cross_val_score(model_gs, X_test, y_test)\n",
        "print(f\"Cross value score: {cv}\")\n",
        "\n",
        "df_bag={'classifier': 'SVC', 'cross_val_score': cv, 'accuracy': acc, 'time_window': 300, 'hiperparameters': clf.best_params_['n_estimators']}\n",
        "results_bag=results_bag.append(df_bag, ignore_index=True)"
      ]
    },
    {
      "cell_type": "markdown",
      "metadata": {
        "id": "kCk9s-qs8oTG"
      },
      "source": [
        "### Randomized search"
      ]
    },
    {
      "cell_type": "code",
      "execution_count": 82,
      "metadata": {
        "id": "Q8ZEGyuj8qMG",
        "colab": {
          "base_uri": "https://localhost:8080/"
        },
        "outputId": "c52becce-5f55-49c6-a975-a2476b147c41"
      },
      "outputs": [
        {
          "output_type": "stream",
          "name": "stderr",
          "text": [
            "/usr/local/lib/python3.7/dist-packages/sklearn/model_selection/_search.py:296: UserWarning: The total space of parameters 7 is smaller than n_iter=10. Running 7 iterations. For exhaustive searches, use GridSearchCV.\n",
            "  UserWarning,\n"
          ]
        },
        {
          "output_type": "stream",
          "name": "stdout",
          "text": [
            "{'alpha': 0.0009118819655545162}\n",
            "0.6526048992696644\n"
          ]
        }
      ],
      "source": [
        "cv = 5\n",
        "\n",
        "param_grid = [{'alpha': list(math.exp(i) for i in range(-7, 0))}]\n",
        "\n",
        "model = SGDClassifier(loss='hinge')\n",
        "\n",
        "clf = RandomizedSearchCV(model, param_grid, cv=cv, scoring='f1_macro')\n",
        "clf.fit(X_train, y_train)\n",
        "model_rs = clf.best_estimator_\n",
        "\n",
        "print(clf.best_params_)\n",
        "print(clf.best_score_)\n",
        "\n"
      ]
    },
    {
      "cell_type": "markdown",
      "metadata": {
        "id": "NuohglOvHETC"
      },
      "source": [
        "#### f1_score"
      ]
    },
    {
      "cell_type": "code",
      "execution_count": 83,
      "metadata": {
        "id": "J6KA4Htp8qMI",
        "colab": {
          "base_uri": "https://localhost:8080/"
        },
        "outputId": "97715f6a-05de-4ac5-d612-7128359cdb49"
      },
      "outputs": [
        {
          "output_type": "stream",
          "name": "stdout",
          "text": [
            "Accuracy: 0.8008246645875631\n",
            "F1: 0.6539833286689192\n"
          ]
        }
      ],
      "source": [
        "y_pred = model_rs.predict(X_test)\n",
        "\n",
        "f1 = f1_score(y_test, y_pred, average='macro')\n",
        "acc = accuracy_score(y_test, y_pred)\n",
        "print(f\"Accuracy: {acc}\")\n",
        "print(f\"F1: {f1}\")\n",
        "\n",
        "df = {'classifier': 'SVC', 'f1': f1, 'accuracy': acc, 'time_window': 300, 'hiperparameters': clf.best_params_['alpha']}\n",
        "\n",
        "results= results.append(df, ignore_index=True)\n",
        "\n"
      ]
    },
    {
      "cell_type": "markdown",
      "metadata": {
        "id": "QyUUSteIHETC"
      },
      "source": [
        "#### cross_val_score"
      ]
    },
    {
      "cell_type": "code",
      "execution_count": 84,
      "metadata": {
        "id": "P0S5zIdYfP18",
        "colab": {
          "base_uri": "https://localhost:8080/"
        },
        "outputId": "4ae7862f-3d07-466d-e385-48f62c9260c9"
      },
      "outputs": [
        {
          "output_type": "stream",
          "name": "stdout",
          "text": [
            "Cross value score: [0.80933445 0.7922771  0.8043956  0.7892203  0.8021978 ]\n"
          ]
        }
      ],
      "source": [
        "cv=cross_val_score(model_rs, X_test, y_test)\n",
        "print(f\"Cross value score: {cv}\")\n",
        "\n",
        "df_new={'classifier': 'SVC', 'cross_val_score': cv, 'accuracy': acc, 'time_window': 300, 'hiperparameters': clf.best_params_['alpha']}\n",
        "results_new=results_new.append(df_new, ignore_index=True)"
      ]
    },
    {
      "cell_type": "markdown",
      "metadata": {
        "id": "j-PdvI_AHETC"
      },
      "source": [
        "#### Bagging"
      ]
    },
    {
      "cell_type": "code",
      "execution_count": 85,
      "metadata": {
        "colab": {
          "base_uri": "https://localhost:8080/"
        },
        "outputId": "c7a4a556-a160-42af-86d5-ade1484fd3b9",
        "id": "qEg_70jKHETC"
      },
      "outputs": [
        {
          "output_type": "stream",
          "name": "stderr",
          "text": [
            "/usr/local/lib/python3.7/dist-packages/sklearn/model_selection/_search.py:296: UserWarning: The total space of parameters 3 is smaller than n_iter=10. Running 3 iterations. For exhaustive searches, use GridSearchCV.\n",
            "  UserWarning,\n"
          ]
        },
        {
          "output_type": "stream",
          "name": "stdout",
          "text": [
            "{'n_estimators': 12}\n",
            "0.664905040355364\n"
          ]
        }
      ],
      "source": [
        "cv = 5\n",
        "\n",
        "param_grid = [{'n_estimators': list(i for i in range(10, 13))}]\n",
        "\n",
        "model = SGDClassifier(loss='hinge')\n",
        "bagging = BaggingClassifier(model, max_samples=0.5, max_features=0.5)\n",
        "clf = RandomizedSearchCV(bagging, param_grid, cv=cv, scoring='f1_macro')\n",
        "\n",
        "clf.fit(X_train, y_train)\n",
        "model_rs = clf.best_estimator_\n",
        "\n",
        "print(clf.best_params_)\n",
        "print(clf.best_score_)\n"
      ]
    },
    {
      "cell_type": "code",
      "execution_count": 86,
      "metadata": {
        "colab": {
          "base_uri": "https://localhost:8080/"
        },
        "id": "PYkHF4oOHETD",
        "outputId": "8e3b32f4-e10e-4055-f00a-298f2101b4ba"
      },
      "outputs": [
        {
          "output_type": "stream",
          "name": "stdout",
          "text": [
            "Accuracy: 0.8002595391087762\n"
          ]
        }
      ],
      "source": [
        "y_pred = model_rs.predict(X_test)\n",
        "acc = accuracy_score(y_test, y_pred)\n",
        "print(f\"Accuracy: {acc}\")"
      ]
    },
    {
      "cell_type": "code",
      "execution_count": 87,
      "metadata": {
        "colab": {
          "base_uri": "https://localhost:8080/"
        },
        "id": "WhiXNpY1HETD",
        "outputId": "2943e1f2-0795-4061-b9c7-ed9ae30ee386"
      },
      "outputs": [
        {
          "output_type": "stream",
          "name": "stdout",
          "text": [
            "Cross value score: [0.80169527 0.81770615 0.80889587 0.81046572 0.81318681]\n"
          ]
        }
      ],
      "source": [
        "cv=cross_val_score(model_rs, X_test, y_test)\n",
        "print(f\"Cross value score: {cv}\")\n",
        "\n",
        "df_bag={'classifier': 'SVC', 'cross_val_score': cv, 'accuracy': acc, 'time_window': 300, 'hiperparameters': clf.best_params_['n_estimators']}\n",
        "results_rnd=results_rnd.append(df_rnd, ignore_index=True)"
      ]
    },
    {
      "cell_type": "markdown",
      "metadata": {
        "id": "tsrWCunMkthZ"
      },
      "source": [
        "## LDA and QDA"
      ]
    },
    {
      "cell_type": "markdown",
      "metadata": {
        "id": "JBKxea7hHN2r"
      },
      "source": [
        "### LDA"
      ]
    },
    {
      "cell_type": "code",
      "execution_count": 88,
      "metadata": {
        "colab": {
          "base_uri": "https://localhost:8080/"
        },
        "id": "zIz4sr8gGW6U",
        "outputId": "1c57befe-3556-4ab4-83a3-2e1025d577d8"
      },
      "outputs": [
        {
          "output_type": "execute_result",
          "data": {
            "text/plain": [
              "LinearDiscriminantAnalysis()"
            ]
          },
          "metadata": {},
          "execution_count": 88
        }
      ],
      "source": [
        "model = LinearDiscriminantAnalysis()\n",
        "\n",
        "model.fit(X_train, y_train)\n"
      ]
    },
    {
      "cell_type": "markdown",
      "metadata": {
        "id": "XykTCrkZHETD"
      },
      "source": [
        "#### f1_score"
      ]
    },
    {
      "cell_type": "code",
      "execution_count": 89,
      "metadata": {
        "colab": {
          "base_uri": "https://localhost:8080/"
        },
        "id": "MobP6GbMFMDr",
        "outputId": "432d7877-4112-431c-d01f-d5fd1a88ff30"
      },
      "outputs": [
        {
          "output_type": "stream",
          "name": "stdout",
          "text": [
            "Accuracy: 0.8329112334386839\n",
            "F1: 0.7380575155615389\n"
          ]
        }
      ],
      "source": [
        "y_pred = model.predict(X_test)\n",
        "\n",
        "f1 = f1_score(y_test, y_pred, average='macro')\n",
        "acc = accuracy_score(y_test, y_pred)\n",
        "print(f\"Accuracy: {acc}\")\n",
        "print(f\"F1: {f1}\")\n",
        "\n",
        "df = {'classifier': 'LDA', 'f1': f1, 'accuracy': acc, 'time_window': 300, 'hiperparameters': \"\"}\n",
        "\n",
        "results = results.append(df, ignore_index=True)\n",
        "\n"
      ]
    },
    {
      "cell_type": "markdown",
      "metadata": {
        "id": "XCNNfnTtHETE"
      },
      "source": [
        "#### cross_val_score"
      ]
    },
    {
      "cell_type": "code",
      "execution_count": 90,
      "metadata": {
        "id": "RlyjLlg3cvg0",
        "colab": {
          "base_uri": "https://localhost:8080/"
        },
        "outputId": "e793cacf-9b9a-464c-c12e-12d5e4e2b665"
      },
      "outputs": [
        {
          "output_type": "stream",
          "name": "stdout",
          "text": [
            "Cross value score: [0.83256593 0.83444956 0.83851387 0.83464155 0.83872318]\n"
          ]
        }
      ],
      "source": [
        "cv=cross_val_score(model, X_test, y_test)\n",
        "print(f\"Cross value score: {cv}\")\n",
        "\n",
        "df_new={'classifier': 'LDA', 'cross_val_score': cv, 'accuracy': acc, 'time_window': 300, 'hiperparameters': \"\"}\n",
        "results_new=results_new.append(df_new, ignore_index=True)"
      ]
    },
    {
      "cell_type": "markdown",
      "metadata": {
        "id": "FtqAPWuxHRBn"
      },
      "source": [
        "### QDA"
      ]
    },
    {
      "cell_type": "code",
      "execution_count": 91,
      "metadata": {
        "id": "Q3EKh2gQHRBn",
        "colab": {
          "base_uri": "https://localhost:8080/"
        },
        "outputId": "420c4dbb-218e-41f4-a9f0-35ae110249d5"
      },
      "outputs": [
        {
          "output_type": "stream",
          "name": "stderr",
          "text": [
            "/usr/local/lib/python3.7/dist-packages/sklearn/discriminant_analysis.py:878: UserWarning: Variables are collinear\n",
            "  warnings.warn(\"Variables are collinear\")\n"
          ]
        },
        {
          "output_type": "execute_result",
          "data": {
            "text/plain": [
              "QuadraticDiscriminantAnalysis()"
            ]
          },
          "metadata": {},
          "execution_count": 91
        }
      ],
      "source": [
        "model = QuadraticDiscriminantAnalysis()\n",
        "\n",
        "model.fit(X_train, y_train)\n"
      ]
    },
    {
      "cell_type": "markdown",
      "metadata": {
        "id": "ZckP44_oHETE"
      },
      "source": [
        "#### f1_score"
      ]
    },
    {
      "cell_type": "code",
      "execution_count": 92,
      "metadata": {
        "colab": {
          "base_uri": "https://localhost:8080/"
        },
        "id": "QigVJdBTHRBn",
        "outputId": "4e308666-e4ff-465d-a2ff-e51c79745d25"
      },
      "outputs": [
        {
          "output_type": "stream",
          "name": "stdout",
          "text": [
            "Accuracy: 0.7056114866986207\n",
            "F1: 0.6548751858337154\n"
          ]
        }
      ],
      "source": [
        "y_pred = model.predict(X_test)\n",
        "\n",
        "f1 = f1_score(y_test, y_pred, average='macro')\n",
        "acc = accuracy_score(y_test, y_pred)\n",
        "print(f\"Accuracy: {acc}\")\n",
        "print(f\"F1: {f1}\")\n",
        "\n",
        "df = {'classifier': 'QDA', 'f1': f1, 'accuracy': acc, 'time_window': 300, 'hiperparameters': \"\"}\n",
        "\n",
        "results = results.append(df, ignore_index=True)\n",
        "\n"
      ]
    },
    {
      "cell_type": "markdown",
      "metadata": {
        "id": "KBeE_5GCHETE"
      },
      "source": [
        "#### cross_val_score"
      ]
    },
    {
      "cell_type": "code",
      "execution_count": 93,
      "metadata": {
        "id": "DVwawEWHfXUz",
        "colab": {
          "base_uri": "https://localhost:8080/"
        },
        "outputId": "b35aae29-e085-45de-b5fc-be58ddcd8ec2"
      },
      "outputs": [
        {
          "output_type": "stream",
          "name": "stderr",
          "text": [
            "/usr/local/lib/python3.7/dist-packages/sklearn/discriminant_analysis.py:878: UserWarning: Variables are collinear\n",
            "  warnings.warn(\"Variables are collinear\")\n",
            "/usr/local/lib/python3.7/dist-packages/sklearn/discriminant_analysis.py:878: UserWarning: Variables are collinear\n",
            "  warnings.warn(\"Variables are collinear\")\n",
            "/usr/local/lib/python3.7/dist-packages/sklearn/discriminant_analysis.py:878: UserWarning: Variables are collinear\n",
            "  warnings.warn(\"Variables are collinear\")\n",
            "/usr/local/lib/python3.7/dist-packages/sklearn/discriminant_analysis.py:878: UserWarning: Variables are collinear\n",
            "  warnings.warn(\"Variables are collinear\")\n",
            "/usr/local/lib/python3.7/dist-packages/sklearn/discriminant_analysis.py:878: UserWarning: Variables are collinear\n",
            "  warnings.warn(\"Variables are collinear\")\n"
          ]
        }
      ],
      "source": [
        "cv=cross_val_score(model, X_test, y_test)\n",
        "\n",
        "\n",
        "df_new={'classifier': 'QDA', 'cross_val_score': cv, 'accuracy': acc, 'time_window': 300, 'hiperparameters': \"\"}\n",
        "results_new=results_new.append(df_new, ignore_index=True)"
      ]
    },
    {
      "cell_type": "code",
      "source": [
        "print(f\"Cross value score: {cv}\")"
      ],
      "metadata": {
        "colab": {
          "base_uri": "https://localhost:8080/"
        },
        "id": "g_y0kAEtFbGm",
        "outputId": "aa432fea-6470-47b4-8830-a4817e3998b9"
      },
      "execution_count": 94,
      "outputs": [
        {
          "output_type": "stream",
          "name": "stdout",
          "text": [
            "Cross value score: [0.84344914 0.84187945 0.84814233 0.84615385 0.84154893]\n"
          ]
        }
      ]
    },
    {
      "cell_type": "markdown",
      "metadata": {
        "id": "AqdxODnpkyax"
      },
      "source": [
        "## Decision Tree"
      ]
    },
    {
      "cell_type": "markdown",
      "metadata": {
        "id": "V4O4B_g29P9o"
      },
      "source": [
        "### Grid search"
      ]
    },
    {
      "cell_type": "code",
      "execution_count": 95,
      "metadata": {
        "colab": {
          "base_uri": "https://localhost:8080/"
        },
        "id": "HL7RuzrVkyax",
        "outputId": "7d56e23e-282b-4249-b2bd-56711d7cc236"
      },
      "outputs": [
        {
          "output_type": "stream",
          "name": "stdout",
          "text": [
            "{'ccp_alpha': 0.006737946999085467}\n",
            "0.9113265159044579\n"
          ]
        }
      ],
      "source": [
        "cv = 5\n",
        "\n",
        "param_grid = [{'ccp_alpha': list(math.exp(i) for i in range(-5, 0))}]\n",
        "\n",
        "model = DecisionTreeClassifier()\n",
        "\n",
        "clf = GridSearchCV(model, param_grid, cv=5, scoring='f1_macro')\n",
        "clf.fit(X_train, y_train)\n",
        "model_gs = clf.best_estimator_\n",
        "\n",
        "print(clf.best_params_)\n",
        "print(clf.best_score_)"
      ]
    },
    {
      "cell_type": "markdown",
      "metadata": {
        "id": "QaXclz4HHETF"
      },
      "source": [
        "#### f1_score"
      ]
    },
    {
      "cell_type": "code",
      "execution_count": 96,
      "metadata": {
        "colab": {
          "base_uri": "https://localhost:8080/",
          "height": 978
        },
        "id": "VNc-yRfAFNvX",
        "outputId": "df6b35d1-3412-47f8-b70e-1776249dc2be"
      },
      "outputs": [
        {
          "output_type": "stream",
          "name": "stdout",
          "text": [
            "Accuracy: 0.9440316470268121\n",
            "F1: 0.9176278928376448\n"
          ]
        },
        {
          "output_type": "display_data",
          "data": {
            "text/html": [
              "\n",
              "  <div id=\"df-b0f9793a-e01f-404a-8752-82e6f4874f08\">\n",
              "    <div class=\"colab-df-container\">\n",
              "      <div>\n",
              "<style scoped>\n",
              "    .dataframe tbody tr th:only-of-type {\n",
              "        vertical-align: middle;\n",
              "    }\n",
              "\n",
              "    .dataframe tbody tr th {\n",
              "        vertical-align: top;\n",
              "    }\n",
              "\n",
              "    .dataframe thead th {\n",
              "        text-align: right;\n",
              "    }\n",
              "</style>\n",
              "<table border=\"1\" class=\"dataframe\">\n",
              "  <thead>\n",
              "    <tr style=\"text-align: right;\">\n",
              "      <th></th>\n",
              "      <th>Class</th>\n",
              "      <th>Precision</th>\n",
              "      <th>Recall</th>\n",
              "      <th>F1-score</th>\n",
              "    </tr>\n",
              "  </thead>\n",
              "  <tbody>\n",
              "    <tr>\n",
              "      <th>0</th>\n",
              "      <td>Normal</td>\n",
              "      <td>0.814013</td>\n",
              "      <td>0.977632</td>\n",
              "      <td>0.888351</td>\n",
              "    </tr>\n",
              "    <tr>\n",
              "      <th>1</th>\n",
              "      <td>Abrupt Increase of BSW</td>\n",
              "      <td>0.978110</td>\n",
              "      <td>0.976647</td>\n",
              "      <td>0.977378</td>\n",
              "    </tr>\n",
              "    <tr>\n",
              "      <th>2</th>\n",
              "      <td>Spurious Closure of DHSV</td>\n",
              "      <td>0.996804</td>\n",
              "      <td>0.772947</td>\n",
              "      <td>0.870717</td>\n",
              "    </tr>\n",
              "    <tr>\n",
              "      <th>3</th>\n",
              "      <td>Severe Slugging</td>\n",
              "      <td>0.848786</td>\n",
              "      <td>0.849482</td>\n",
              "      <td>0.849134</td>\n",
              "    </tr>\n",
              "    <tr>\n",
              "      <th>4</th>\n",
              "      <td>Flow Instability</td>\n",
              "      <td>0.902189</td>\n",
              "      <td>0.865997</td>\n",
              "      <td>0.883723</td>\n",
              "    </tr>\n",
              "    <tr>\n",
              "      <th>5</th>\n",
              "      <td>Rapid Productivity Loss</td>\n",
              "      <td>0.880318</td>\n",
              "      <td>0.944846</td>\n",
              "      <td>0.911442</td>\n",
              "    </tr>\n",
              "    <tr>\n",
              "      <th>6</th>\n",
              "      <td>Quick Restriction in PCK</td>\n",
              "      <td>0.979322</td>\n",
              "      <td>0.989413</td>\n",
              "      <td>0.984342</td>\n",
              "    </tr>\n",
              "    <tr>\n",
              "      <th>7</th>\n",
              "      <td>Hydrate in Production Line</td>\n",
              "      <td>0.907411</td>\n",
              "      <td>0.889952</td>\n",
              "      <td>0.898597</td>\n",
              "    </tr>\n",
              "  </tbody>\n",
              "</table>\n",
              "</div>\n",
              "      <button class=\"colab-df-convert\" onclick=\"convertToInteractive('df-b0f9793a-e01f-404a-8752-82e6f4874f08')\"\n",
              "              title=\"Convert this dataframe to an interactive table.\"\n",
              "              style=\"display:none;\">\n",
              "        \n",
              "  <svg xmlns=\"http://www.w3.org/2000/svg\" height=\"24px\"viewBox=\"0 0 24 24\"\n",
              "       width=\"24px\">\n",
              "    <path d=\"M0 0h24v24H0V0z\" fill=\"none\"/>\n",
              "    <path d=\"M18.56 5.44l.94 2.06.94-2.06 2.06-.94-2.06-.94-.94-2.06-.94 2.06-2.06.94zm-11 1L8.5 8.5l.94-2.06 2.06-.94-2.06-.94L8.5 2.5l-.94 2.06-2.06.94zm10 10l.94 2.06.94-2.06 2.06-.94-2.06-.94-.94-2.06-.94 2.06-2.06.94z\"/><path d=\"M17.41 7.96l-1.37-1.37c-.4-.4-.92-.59-1.43-.59-.52 0-1.04.2-1.43.59L10.3 9.45l-7.72 7.72c-.78.78-.78 2.05 0 2.83L4 21.41c.39.39.9.59 1.41.59.51 0 1.02-.2 1.41-.59l7.78-7.78 2.81-2.81c.8-.78.8-2.07 0-2.86zM5.41 20L4 18.59l7.72-7.72 1.47 1.35L5.41 20z\"/>\n",
              "  </svg>\n",
              "      </button>\n",
              "      \n",
              "  <style>\n",
              "    .colab-df-container {\n",
              "      display:flex;\n",
              "      flex-wrap:wrap;\n",
              "      gap: 12px;\n",
              "    }\n",
              "\n",
              "    .colab-df-convert {\n",
              "      background-color: #E8F0FE;\n",
              "      border: none;\n",
              "      border-radius: 50%;\n",
              "      cursor: pointer;\n",
              "      display: none;\n",
              "      fill: #1967D2;\n",
              "      height: 32px;\n",
              "      padding: 0 0 0 0;\n",
              "      width: 32px;\n",
              "    }\n",
              "\n",
              "    .colab-df-convert:hover {\n",
              "      background-color: #E2EBFA;\n",
              "      box-shadow: 0px 1px 2px rgba(60, 64, 67, 0.3), 0px 1px 3px 1px rgba(60, 64, 67, 0.15);\n",
              "      fill: #174EA6;\n",
              "    }\n",
              "\n",
              "    [theme=dark] .colab-df-convert {\n",
              "      background-color: #3B4455;\n",
              "      fill: #D2E3FC;\n",
              "    }\n",
              "\n",
              "    [theme=dark] .colab-df-convert:hover {\n",
              "      background-color: #434B5C;\n",
              "      box-shadow: 0px 1px 3px 1px rgba(0, 0, 0, 0.15);\n",
              "      filter: drop-shadow(0px 1px 2px rgba(0, 0, 0, 0.3));\n",
              "      fill: #FFFFFF;\n",
              "    }\n",
              "  </style>\n",
              "\n",
              "      <script>\n",
              "        const buttonEl =\n",
              "          document.querySelector('#df-b0f9793a-e01f-404a-8752-82e6f4874f08 button.colab-df-convert');\n",
              "        buttonEl.style.display =\n",
              "          google.colab.kernel.accessAllowed ? 'block' : 'none';\n",
              "\n",
              "        async function convertToInteractive(key) {\n",
              "          const element = document.querySelector('#df-b0f9793a-e01f-404a-8752-82e6f4874f08');\n",
              "          const dataTable =\n",
              "            await google.colab.kernel.invokeFunction('convertToInteractive',\n",
              "                                                     [key], {});\n",
              "          if (!dataTable) return;\n",
              "\n",
              "          const docLinkHtml = 'Like what you see? Visit the ' +\n",
              "            '<a target=\"_blank\" href=https://colab.research.google.com/notebooks/data_table.ipynb>data table notebook</a>'\n",
              "            + ' to learn more about interactive tables.';\n",
              "          element.innerHTML = '';\n",
              "          dataTable['output_type'] = 'display_data';\n",
              "          await google.colab.output.renderOutput(dataTable, element);\n",
              "          const docLink = document.createElement('div');\n",
              "          docLink.innerHTML = docLinkHtml;\n",
              "          element.appendChild(docLink);\n",
              "        }\n",
              "      </script>\n",
              "    </div>\n",
              "  </div>\n",
              "  "
            ],
            "text/plain": [
              "                        Class  Precision    Recall  F1-score\n",
              "0                      Normal   0.814013  0.977632  0.888351\n",
              "1      Abrupt Increase of BSW   0.978110  0.976647  0.977378\n",
              "2    Spurious Closure of DHSV   0.996804  0.772947  0.870717\n",
              "3             Severe Slugging   0.848786  0.849482  0.849134\n",
              "4            Flow Instability   0.902189  0.865997  0.883723\n",
              "5     Rapid Productivity Loss   0.880318  0.944846  0.911442\n",
              "6    Quick Restriction in PCK   0.979322  0.989413  0.984342\n",
              "7  Hydrate in Production Line   0.907411  0.889952  0.898597"
            ]
          },
          "metadata": {}
        },
        {
          "output_type": "display_data",
          "data": {
            "image/png": "[encoded data removed]",
            "text/plain": [
              "<Figure size 864x648 with 2 Axes>"
            ]
          },
          "metadata": {
            "needs_background": "light"
          }
        }
      ],
      "source": [
        "y_pred = model_gs.predict(X_test)\n",
        "\n",
        "f1 = f1_score(y_test, y_pred, average='macro')\n",
        "acc = accuracy_score(y_test, y_pred)\n",
        "print(f\"Accuracy: {acc}\")\n",
        "print(f\"F1: {f1}\")\n",
        "\n",
        "arr = confusion_matrix(y_test, y_pred)\n",
        "arr = arr.astype('float') / arr.sum(axis=1)[:, np.newaxis]\n",
        "\n",
        "precision = []\n",
        "recall = []\n",
        "f1_arr = []\n",
        "for i in range(8):\n",
        "  suma_prec = 0\n",
        "  suma_recall = 0\n",
        "  for j in range(8):\n",
        "    suma_prec += arr[j][i]\n",
        "    suma_recall += arr[i][j]\n",
        "  i_precision = arr[i][i] / suma_prec\n",
        "  i_recall = arr[i][i] / suma_recall\n",
        "  precision.append(i_precision)\n",
        "  recall.append(i_recall)\n",
        "  f1_arr.append((2 * i_precision * i_recall) / (i_precision + i_recall))\n",
        "\n",
        "\n",
        "df_metrics = pd.DataFrame()\n",
        "df_metrics['Class'] = [v for v in event_names.values()]\n",
        "df_metrics['Precision'] = precision\n",
        "df_metrics['Recall'] = recall\n",
        "df_metrics['F1-score'] = f1_arr\n",
        "\n",
        "display(df_metrics)\n",
        "\n",
        "df_cm = pd.DataFrame(arr, [name for name in event_names.values()], [name for name in event_names.values()])\n",
        "plt.figure(figsize=(12,9))\n",
        "sb.heatmap(df_cm, annot=True, annot_kws={\"size\": 12}, cmap=\"Blues\")\n",
        "\n",
        "df = {'classifier': 'Decision Tree', 'f1': f1, 'accuracy': acc, 'time_window': 300, 'hiperparameters': clf.best_params_['ccp_alpha']}\n",
        "\n",
        "results = results.append(df, ignore_index=True)\n",
        "\n"
      ]
    },
    {
      "cell_type": "markdown",
      "metadata": {
        "id": "uEyy0QQ-HETF"
      },
      "source": [
        "#### cross_val_score"
      ]
    },
    {
      "cell_type": "code",
      "execution_count": 97,
      "metadata": {
        "id": "V2li84IVfe3N",
        "colab": {
          "base_uri": "https://localhost:8080/"
        },
        "outputId": "28486f8a-6d3f-4934-a33c-8a2e39cdc361"
      },
      "outputs": [
        {
          "output_type": "stream",
          "name": "stdout",
          "text": [
            "Cross value score: [0.93438677 0.92727082 0.92747253 0.93783359 0.93563579]\n"
          ]
        }
      ],
      "source": [
        "cv=cross_val_score(model_gs, X_test, y_test)\n",
        "print(f\"Cross value score: {cv}\")\n",
        "\n",
        "df_new={'classifier': 'Decision Tree', 'cross_val_score': cv, 'accuracy': acc, 'time_window': 300, 'hiperparameters': clf.best_params_['ccp_alpha']}\n",
        "results_new=results_new.append(df_new, ignore_index=True)"
      ]
    },
    {
      "cell_type": "markdown",
      "metadata": {
        "id": "gN0z1FueHETG"
      },
      "source": [
        "#### Bagging"
      ]
    },
    {
      "cell_type": "code",
      "execution_count": 98,
      "metadata": {
        "colab": {
          "base_uri": "https://localhost:8080/"
        },
        "outputId": "eef956db-0039-490a-bcc1-7de66ba31862",
        "id": "8GFVvFXUHETG"
      },
      "outputs": [
        {
          "output_type": "stream",
          "name": "stdout",
          "text": [
            "{'n_estimators': 10}\n",
            "0.9912214155009591\n"
          ]
        }
      ],
      "source": [
        "cv = 5\n",
        "\n",
        "param_grid = [{'n_estimators': list(i for i in range(10, 13))}]\n",
        "\n",
        "model = DecisionTreeClassifier()\n",
        "bagging = BaggingClassifier(model, max_samples=0.5, max_features=0.5)\n",
        "\n",
        "clf = GridSearchCV(bagging, param_grid, cv=5, scoring='f1_macro')\n",
        "clf.fit(X_train, y_train)\n",
        "model_gs = clf.best_estimator_\n",
        "\n",
        "print(clf.best_params_)\n",
        "print(clf.best_score_)\n"
      ]
    },
    {
      "cell_type": "code",
      "execution_count": 99,
      "metadata": {
        "id": "55HFTIdtHETG"
      },
      "outputs": [],
      "source": [
        "y_pred = model_gs.predict(X_test)\n",
        "acc = accuracy_score(y_test, y_pred)"
      ]
    },
    {
      "cell_type": "code",
      "execution_count": 100,
      "metadata": {
        "colab": {
          "base_uri": "https://localhost:8080/"
        },
        "id": "-sSXdz1FHETG",
        "outputId": "6a59ff52-9eee-4faa-eae1-f18737fbee19"
      },
      "outputs": [
        {
          "output_type": "stream",
          "name": "stdout",
          "text": [
            "Cross value score: [0.99204688 0.99257011 0.99099948 0.99466248 0.99298796]\n"
          ]
        }
      ],
      "source": [
        "cv=cross_val_score(model_gs, X_test, y_test)\n",
        "print(f\"Cross value score: {cv}\")\n",
        "\n",
        "df_bag={'classifier': 'Decision Tree', 'cross_val_score': cv, 'accuracy': acc, 'time_window': 300, 'hiperparameters': clf.best_params_['n_estimators']}\n",
        "results_bag=results_bag.append(df_bag, ignore_index=True)"
      ]
    },
    {
      "cell_type": "markdown",
      "metadata": {
        "id": "2ch3f1zs9Ud9"
      },
      "source": [
        "### Randomized search"
      ]
    },
    {
      "cell_type": "code",
      "execution_count": 101,
      "metadata": {
        "id": "rFvSvZib9XCP",
        "colab": {
          "base_uri": "https://localhost:8080/"
        },
        "outputId": "d5a0158b-f15a-4972-ad06-b67103487c43"
      },
      "outputs": [
        {
          "output_type": "stream",
          "name": "stderr",
          "text": [
            "/usr/local/lib/python3.7/dist-packages/sklearn/model_selection/_search.py:296: UserWarning: The total space of parameters 7 is smaller than n_iter=10. Running 7 iterations. For exhaustive searches, use GridSearchCV.\n",
            "  UserWarning,\n"
          ]
        },
        {
          "output_type": "stream",
          "name": "stdout",
          "text": [
            "{'ccp_alpha': 0.0009118819655545162}\n",
            "0.9535432579473493\n"
          ]
        }
      ],
      "source": [
        "cv = 5\n",
        "\n",
        "param_grid = [{'ccp_alpha': list(math.exp(i) for i in range(-7, 0))}] \n",
        "model = DecisionTreeClassifier()\n",
        "\n",
        "clf = RandomizedSearchCV(model, param_grid, cv=5, scoring='f1_macro')\n",
        "clf.fit(X_train, y_train)\n",
        "model_rs = clf.best_estimator_\n",
        "\n",
        "print(clf.best_params_)\n",
        "print(clf.best_score_)"
      ]
    },
    {
      "cell_type": "markdown",
      "metadata": {
        "id": "Qre7zoUHHETG"
      },
      "source": [
        "#### f1_score"
      ]
    },
    {
      "cell_type": "code",
      "execution_count": 102,
      "metadata": {
        "id": "rc8T-QEw9XCR",
        "colab": {
          "base_uri": "https://localhost:8080/",
          "height": 978
        },
        "outputId": "6e9fc636-dbe4-47d8-cc8e-aee78c1ace94"
      },
      "outputs": [
        {
          "output_type": "stream",
          "name": "stdout",
          "text": [
            "Accuracy: 0.9779391757540239\n",
            "F1: 0.9579087337735193\n"
          ]
        },
        {
          "output_type": "display_data",
          "data": {
            "text/html": [
              "\n",
              "  <div id=\"df-1cc0ce4b-862d-42c1-bd13-dc65ecbb3058\">\n",
              "    <div class=\"colab-df-container\">\n",
              "      <div>\n",
              "<style scoped>\n",
              "    .dataframe tbody tr th:only-of-type {\n",
              "        vertical-align: middle;\n",
              "    }\n",
              "\n",
              "    .dataframe tbody tr th {\n",
              "        vertical-align: top;\n",
              "    }\n",
              "\n",
              "    .dataframe thead th {\n",
              "        text-align: right;\n",
              "    }\n",
              "</style>\n",
              "<table border=\"1\" class=\"dataframe\">\n",
              "  <thead>\n",
              "    <tr style=\"text-align: right;\">\n",
              "      <th></th>\n",
              "      <th>Class</th>\n",
              "      <th>Precision</th>\n",
              "      <th>Recall</th>\n",
              "      <th>F1-score</th>\n",
              "    </tr>\n",
              "  </thead>\n",
              "  <tbody>\n",
              "    <tr>\n",
              "      <th>0</th>\n",
              "      <td>Normal</td>\n",
              "      <td>0.865526</td>\n",
              "      <td>0.994231</td>\n",
              "      <td>0.925425</td>\n",
              "    </tr>\n",
              "    <tr>\n",
              "      <th>1</th>\n",
              "      <td>Abrupt Increase of BSW</td>\n",
              "      <td>0.951179</td>\n",
              "      <td>0.987966</td>\n",
              "      <td>0.969224</td>\n",
              "    </tr>\n",
              "    <tr>\n",
              "      <th>2</th>\n",
              "      <td>Spurious Closure of DHSV</td>\n",
              "      <td>0.996804</td>\n",
              "      <td>0.772947</td>\n",
              "      <td>0.870717</td>\n",
              "    </tr>\n",
              "    <tr>\n",
              "      <th>3</th>\n",
              "      <td>Severe Slugging</td>\n",
              "      <td>0.946746</td>\n",
              "      <td>0.950640</td>\n",
              "      <td>0.948689</td>\n",
              "    </tr>\n",
              "    <tr>\n",
              "      <th>4</th>\n",
              "      <td>Flow Instability</td>\n",
              "      <td>0.972050</td>\n",
              "      <td>0.918342</td>\n",
              "      <td>0.944433</td>\n",
              "    </tr>\n",
              "    <tr>\n",
              "      <th>5</th>\n",
              "      <td>Rapid Productivity Loss</td>\n",
              "      <td>0.945226</td>\n",
              "      <td>0.986659</td>\n",
              "      <td>0.965498</td>\n",
              "    </tr>\n",
              "    <tr>\n",
              "      <th>6</th>\n",
              "      <td>Quick Restriction in PCK</td>\n",
              "      <td>1.000000</td>\n",
              "      <td>0.989413</td>\n",
              "      <td>0.994678</td>\n",
              "    </tr>\n",
              "    <tr>\n",
              "      <th>7</th>\n",
              "      <td>Hydrate in Production Line</td>\n",
              "      <td>0.916454</td>\n",
              "      <td>0.966942</td>\n",
              "      <td>0.941021</td>\n",
              "    </tr>\n",
              "  </tbody>\n",
              "</table>\n",
              "</div>\n",
              "      <button class=\"colab-df-convert\" onclick=\"convertToInteractive('df-1cc0ce4b-862d-42c1-bd13-dc65ecbb3058')\"\n",
              "              title=\"Convert this dataframe to an interactive table.\"\n",
              "              style=\"display:none;\">\n",
              "        \n",
              "  <svg xmlns=\"http://www.w3.org/2000/svg\" height=\"24px\"viewBox=\"0 0 24 24\"\n",
              "       width=\"24px\">\n",
              "    <path d=\"M0 0h24v24H0V0z\" fill=\"none\"/>\n",
              "    <path d=\"M18.56 5.44l.94 2.06.94-2.06 2.06-.94-2.06-.94-.94-2.06-.94 2.06-2.06.94zm-11 1L8.5 8.5l.94-2.06 2.06-.94-2.06-.94L8.5 2.5l-.94 2.06-2.06.94zm10 10l.94 2.06.94-2.06 2.06-.94-2.06-.94-.94-2.06-.94 2.06-2.06.94z\"/><path d=\"M17.41 7.96l-1.37-1.37c-.4-.4-.92-.59-1.43-.59-.52 0-1.04.2-1.43.59L10.3 9.45l-7.72 7.72c-.78.78-.78 2.05 0 2.83L4 21.41c.39.39.9.59 1.41.59.51 0 1.02-.2 1.41-.59l7.78-7.78 2.81-2.81c.8-.78.8-2.07 0-2.86zM5.41 20L4 18.59l7.72-7.72 1.47 1.35L5.41 20z\"/>\n",
              "  </svg>\n",
              "      </button>\n",
              "      \n",
              "  <style>\n",
              "    .colab-df-container {\n",
              "      display:flex;\n",
              "      flex-wrap:wrap;\n",
              "      gap: 12px;\n",
              "    }\n",
              "\n",
              "    .colab-df-convert {\n",
              "      background-color: #E8F0FE;\n",
              "      border: none;\n",
              "      border-radius: 50%;\n",
              "      cursor: pointer;\n",
              "      display: none;\n",
              "      fill: #1967D2;\n",
              "      height: 32px;\n",
              "      padding: 0 0 0 0;\n",
              "      width: 32px;\n",
              "    }\n",
              "\n",
              "    .colab-df-convert:hover {\n",
              "      background-color: #E2EBFA;\n",
              "      box-shadow: 0px 1px 2px rgba(60, 64, 67, 0.3), 0px 1px 3px 1px rgba(60, 64, 67, 0.15);\n",
              "      fill: #174EA6;\n",
              "    }\n",
              "\n",
              "    [theme=dark] .colab-df-convert {\n",
              "      background-color: #3B4455;\n",
              "      fill: #D2E3FC;\n",
              "    }\n",
              "\n",
              "    [theme=dark] .colab-df-convert:hover {\n",
              "      background-color: #434B5C;\n",
              "      box-shadow: 0px 1px 3px 1px rgba(0, 0, 0, 0.15);\n",
              "      filter: drop-shadow(0px 1px 2px rgba(0, 0, 0, 0.3));\n",
              "      fill: #FFFFFF;\n",
              "    }\n",
              "  </style>\n",
              "\n",
              "      <script>\n",
              "        const buttonEl =\n",
              "          document.querySelector('#df-1cc0ce4b-862d-42c1-bd13-dc65ecbb3058 button.colab-df-convert');\n",
              "        buttonEl.style.display =\n",
              "          google.colab.kernel.accessAllowed ? 'block' : 'none';\n",
              "\n",
              "        async function convertToInteractive(key) {\n",
              "          const element = document.querySelector('#df-1cc0ce4b-862d-42c1-bd13-dc65ecbb3058');\n",
              "          const dataTable =\n",
              "            await google.colab.kernel.invokeFunction('convertToInteractive',\n",
              "                                                     [key], {});\n",
              "          if (!dataTable) return;\n",
              "\n",
              "          const docLinkHtml = 'Like what you see? Visit the ' +\n",
              "            '<a target=\"_blank\" href=https://colab.research.google.com/notebooks/data_table.ipynb>data table notebook</a>'\n",
              "            + ' to learn more about interactive tables.';\n",
              "          element.innerHTML = '';\n",
              "          dataTable['output_type'] = 'display_data';\n",
              "          await google.colab.output.renderOutput(dataTable, element);\n",
              "          const docLink = document.createElement('div');\n",
              "          docLink.innerHTML = docLinkHtml;\n",
              "          element.appendChild(docLink);\n",
              "        }\n",
              "      </script>\n",
              "    </div>\n",
              "  </div>\n",
              "  "
            ],
            "text/plain": [
              "                        Class  Precision    Recall  F1-score\n",
              "0                      Normal   0.865526  0.994231  0.925425\n",
              "1      Abrupt Increase of BSW   0.951179  0.987966  0.969224\n",
              "2    Spurious Closure of DHSV   0.996804  0.772947  0.870717\n",
              "3             Severe Slugging   0.946746  0.950640  0.948689\n",
              "4            Flow Instability   0.972050  0.918342  0.944433\n",
              "5     Rapid Productivity Loss   0.945226  0.986659  0.965498\n",
              "6    Quick Restriction in PCK   1.000000  0.989413  0.994678\n",
              "7  Hydrate in Production Line   0.916454  0.966942  0.941021"
            ]
          },
          "metadata": {}
        },
        {
          "output_type": "display_data",
          "data": {
            "image/png": "[encoded data removed]",
            "text/plain": [
              "<Figure size 864x648 with 2 Axes>"
            ]
          },
          "metadata": {
            "needs_background": "light"
          }
        }
      ],
      "source": [
        "y_pred = model_rs.predict(X_test)\n",
        "\n",
        "f1 = f1_score(y_test, y_pred, average='macro')\n",
        "acc = accuracy_score(y_test, y_pred)\n",
        "print(f\"Accuracy: {acc}\")\n",
        "print(f\"F1: {f1}\")\n",
        "\n",
        "arr = confusion_matrix(y_test, y_pred)\n",
        "arr = arr.astype('float') / arr.sum(axis=1)[:, np.newaxis]\n",
        "\n",
        "precision = []\n",
        "recall = []\n",
        "f1_arr = []\n",
        "for i in range(8):\n",
        "  suma_prec = 0\n",
        "  suma_recall = 0\n",
        "  for j in range(8):\n",
        "    suma_prec += arr[j][i]\n",
        "    suma_recall += arr[i][j]\n",
        "  i_precision = arr[i][i] / suma_prec\n",
        "  i_recall = arr[i][i] / suma_recall\n",
        "  precision.append(i_precision)\n",
        "  recall.append(i_recall)\n",
        "  f1_arr.append((2 * i_precision * i_recall) / (i_precision + i_recall))\n",
        "\n",
        "\n",
        "df_metrics = pd.DataFrame()\n",
        "df_metrics['Class'] = [v for v in event_names.values()]\n",
        "df_metrics['Precision'] = precision\n",
        "df_metrics['Recall'] = recall\n",
        "df_metrics['F1-score'] = f1_arr\n",
        "\n",
        "display(df_metrics)\n",
        "\n",
        "df_cm = pd.DataFrame(arr, [name for name in event_names.values()], [name for name in event_names.values()])\n",
        "plt.figure(figsize=(12,9))\n",
        "sb.heatmap(df_cm, annot=True, annot_kws={\"size\": 12}, cmap=\"Blues\")\n",
        "\n",
        "df2 = {'classifier': 'Decision Tree', 'f1': f1, 'accuracy': acc, 'time_window': 300, 'hiperparameters': clf.best_params_['ccp_alpha']}\n",
        "\n",
        "results = results.append(df2, ignore_index=True)\n"
      ]
    },
    {
      "cell_type": "markdown",
      "metadata": {
        "id": "Cyyf4Vs3HETH"
      },
      "source": [
        "#### cross_val_score"
      ]
    },
    {
      "cell_type": "code",
      "execution_count": 103,
      "metadata": {
        "id": "CMI6zco5fvpk",
        "colab": {
          "base_uri": "https://localhost:8080/"
        },
        "outputId": "d6964cb6-291e-4df7-a649-bfe73a6f03b0"
      },
      "outputs": [
        {
          "output_type": "stream",
          "name": "stdout",
          "text": [
            "Cross value score: [0.9746756  0.97268732 0.97080063 0.9755102  0.97090529]\n"
          ]
        }
      ],
      "source": [
        "cv=cross_val_score(model_rs, X_test, y_test)\n",
        "print(f\"Cross value score: {cv}\")\n",
        "\n",
        "df_new={'classifier': 'Decision Tree', 'cross_val_score': cv, 'accuracy': acc, 'time_window': 300, 'hiperparameters': clf.best_params_['ccp_alpha']}\n",
        "results_new=results_new.append(df_new, ignore_index=True)"
      ]
    },
    {
      "cell_type": "markdown",
      "metadata": {
        "id": "f8lKxY1CHETH"
      },
      "source": [
        "#### Bagging"
      ]
    },
    {
      "cell_type": "code",
      "execution_count": 104,
      "metadata": {
        "colab": {
          "base_uri": "https://localhost:8080/"
        },
        "id": "VadFTvx0HETH",
        "outputId": "d925c4c3-fe3b-42f3-fae6-c9c557afb247"
      },
      "outputs": [
        {
          "output_type": "stream",
          "name": "stderr",
          "text": [
            "/usr/local/lib/python3.7/dist-packages/sklearn/model_selection/_search.py:296: UserWarning: The total space of parameters 3 is smaller than n_iter=10. Running 3 iterations. For exhaustive searches, use GridSearchCV.\n",
            "  UserWarning,\n"
          ]
        },
        {
          "output_type": "stream",
          "name": "stdout",
          "text": [
            "{'n_estimators': 10}\n",
            "0.9919159784332022\n"
          ]
        }
      ],
      "source": [
        "cv = 5\n",
        "\n",
        "param_grid = [{'n_estimators': list(i for i in range(10, 13))}]\n",
        "\n",
        "model = DecisionTreeClassifier()\n",
        "bagging = BaggingClassifier(model, max_samples=0.5, max_features=0.5)\n",
        "\n",
        "clf = RandomizedSearchCV(bagging, param_grid, cv=5, scoring='f1_macro')\n",
        "clf.fit(X_train, y_train)\n",
        "model_rs = clf.best_estimator_\n",
        "\n",
        "print(clf.best_params_)\n",
        "print(clf.best_score_)"
      ]
    },
    {
      "cell_type": "code",
      "execution_count": 105,
      "metadata": {
        "id": "g_HpxcfOHETH"
      },
      "outputs": [],
      "source": [
        "y_pred = model_rs.predict(X_test)\n",
        "acc = accuracy_score(y_test, y_pred)"
      ]
    },
    {
      "cell_type": "code",
      "execution_count": 106,
      "metadata": {
        "colab": {
          "base_uri": "https://localhost:8080/"
        },
        "id": "NHD9wVDfHETH",
        "outputId": "a2e288e6-72bd-4475-dde6-23f9aaf4c61d"
      },
      "outputs": [
        {
          "output_type": "stream",
          "name": "stdout",
          "text": [
            "Cross value score: [0.99277941 0.99225617 0.99120879 0.99476714 0.99236002]\n"
          ]
        }
      ],
      "source": [
        "cv=cross_val_score(model_rs, X_test, y_test)\n",
        "print(f\"Cross value score: {cv}\")\n",
        "\n",
        "df_rnd={'classifier': 'Decision Tree', 'cross_val_score': cv, 'accuracy': acc, 'time_window': 300, 'hiperparameters': clf.best_params_['n_estimators']}\n",
        "results_rnd=results_rnd.append(df_rnd, ignore_index=True)"
      ]
    },
    {
      "cell_type": "markdown",
      "source": [
        "## Results"
      ],
      "metadata": {
        "id": "DeDkAsYUrYui"
      }
    },
    {
      "cell_type": "markdown",
      "source": [
        "### Standard scaler"
      ],
      "metadata": {
        "id": "jyUI0HJ1s_Z_"
      }
    },
    {
      "cell_type": "code",
      "source": [
        "results_std = pd.read_csv(\"final_results/results.csv\")\n",
        "results_new_std = pd.read_csv(\"final_results/results_new.csv\")\n",
        "results_rnd_std = pd.read_csv(\"final_results/results_rnd.csv\")"
      ],
      "metadata": {
        "id": "8E_bnMJoriy2"
      },
      "execution_count": 119,
      "outputs": []
    },
    {
      "cell_type": "code",
      "source": [
        "from IPython.display import display\n",
        "import pandas as pd\n",
        "  \n",
        "display(results_std)"
      ],
      "metadata": {
        "colab": {
          "base_uri": "https://localhost:8080/",
          "height": 269
        },
        "id": "KlwT3TCprYTY",
        "outputId": "cff216d9-799f-4bc3-b88f-de04732dcb36"
      },
      "execution_count": 120,
      "outputs": [
        {
          "output_type": "display_data",
          "data": {
            "text/html": [
              "\n",
              "  <div id=\"df-0bfbfd99-71af-470b-a84a-5d609e2bd828\">\n",
              "    <div class=\"colab-df-container\">\n",
              "      <div>\n",
              "<style scoped>\n",
              "    .dataframe tbody tr th:only-of-type {\n",
              "        vertical-align: middle;\n",
              "    }\n",
              "\n",
              "    .dataframe tbody tr th {\n",
              "        vertical-align: top;\n",
              "    }\n",
              "\n",
              "    .dataframe thead th {\n",
              "        text-align: right;\n",
              "    }\n",
              "</style>\n",
              "<table border=\"1\" class=\"dataframe\">\n",
              "  <thead>\n",
              "    <tr style=\"text-align: right;\">\n",
              "      <th></th>\n",
              "      <th>classifier</th>\n",
              "      <th>f1</th>\n",
              "      <th>accuracy</th>\n",
              "      <th>time_window</th>\n",
              "      <th>hiperparameters</th>\n",
              "    </tr>\n",
              "  </thead>\n",
              "  <tbody>\n",
              "    <tr>\n",
              "      <th>0</th>\n",
              "      <td>Logistic</td>\n",
              "      <td>0.790524</td>\n",
              "      <td>0.856500</td>\n",
              "      <td>300</td>\n",
              "      <td>0.000912</td>\n",
              "    </tr>\n",
              "    <tr>\n",
              "      <th>1</th>\n",
              "      <td>SVC</td>\n",
              "      <td>0.790225</td>\n",
              "      <td>0.847814</td>\n",
              "      <td>300</td>\n",
              "      <td>0.000912</td>\n",
              "    </tr>\n",
              "    <tr>\n",
              "      <th>2</th>\n",
              "      <td>SVC</td>\n",
              "      <td>0.785470</td>\n",
              "      <td>0.846328</td>\n",
              "      <td>300</td>\n",
              "      <td>0.000912</td>\n",
              "    </tr>\n",
              "    <tr>\n",
              "      <th>3</th>\n",
              "      <td>LDA</td>\n",
              "      <td>0.738058</td>\n",
              "      <td>0.832911</td>\n",
              "      <td>300</td>\n",
              "      <td>NaN</td>\n",
              "    </tr>\n",
              "    <tr>\n",
              "      <th>4</th>\n",
              "      <td>QDA</td>\n",
              "      <td>0.603800</td>\n",
              "      <td>0.679218</td>\n",
              "      <td>300</td>\n",
              "      <td>NaN</td>\n",
              "    </tr>\n",
              "    <tr>\n",
              "      <th>5</th>\n",
              "      <td>Decision Tree</td>\n",
              "      <td>0.919003</td>\n",
              "      <td>0.946292</td>\n",
              "      <td>300</td>\n",
              "      <td>0.006738</td>\n",
              "    </tr>\n",
              "    <tr>\n",
              "      <th>6</th>\n",
              "      <td>Decision Tree</td>\n",
              "      <td>0.956588</td>\n",
              "      <td>0.975679</td>\n",
              "      <td>300</td>\n",
              "      <td>0.000912</td>\n",
              "    </tr>\n",
              "  </tbody>\n",
              "</table>\n",
              "</div>\n",
              "      <button class=\"colab-df-convert\" onclick=\"convertToInteractive('df-0bfbfd99-71af-470b-a84a-5d609e2bd828')\"\n",
              "              title=\"Convert this dataframe to an interactive table.\"\n",
              "              style=\"display:none;\">\n",
              "        \n",
              "  <svg xmlns=\"http://www.w3.org/2000/svg\" height=\"24px\"viewBox=\"0 0 24 24\"\n",
              "       width=\"24px\">\n",
              "    <path d=\"M0 0h24v24H0V0z\" fill=\"none\"/>\n",
              "    <path d=\"M18.56 5.44l.94 2.06.94-2.06 2.06-.94-2.06-.94-.94-2.06-.94 2.06-2.06.94zm-11 1L8.5 8.5l.94-2.06 2.06-.94-2.06-.94L8.5 2.5l-.94 2.06-2.06.94zm10 10l.94 2.06.94-2.06 2.06-.94-2.06-.94-.94-2.06-.94 2.06-2.06.94z\"/><path d=\"M17.41 7.96l-1.37-1.37c-.4-.4-.92-.59-1.43-.59-.52 0-1.04.2-1.43.59L10.3 9.45l-7.72 7.72c-.78.78-.78 2.05 0 2.83L4 21.41c.39.39.9.59 1.41.59.51 0 1.02-.2 1.41-.59l7.78-7.78 2.81-2.81c.8-.78.8-2.07 0-2.86zM5.41 20L4 18.59l7.72-7.72 1.47 1.35L5.41 20z\"/>\n",
              "  </svg>\n",
              "      </button>\n",
              "      \n",
              "  <style>\n",
              "    .colab-df-container {\n",
              "      display:flex;\n",
              "      flex-wrap:wrap;\n",
              "      gap: 12px;\n",
              "    }\n",
              "\n",
              "    .colab-df-convert {\n",
              "      background-color: #E8F0FE;\n",
              "      border: none;\n",
              "      border-radius: 50%;\n",
              "      cursor: pointer;\n",
              "      display: none;\n",
              "      fill: #1967D2;\n",
              "      height: 32px;\n",
              "      padding: 0 0 0 0;\n",
              "      width: 32px;\n",
              "    }\n",
              "\n",
              "    .colab-df-convert:hover {\n",
              "      background-color: #E2EBFA;\n",
              "      box-shadow: 0px 1px 2px rgba(60, 64, 67, 0.3), 0px 1px 3px 1px rgba(60, 64, 67, 0.15);\n",
              "      fill: #174EA6;\n",
              "    }\n",
              "\n",
              "    [theme=dark] .colab-df-convert {\n",
              "      background-color: #3B4455;\n",
              "      fill: #D2E3FC;\n",
              "    }\n",
              "\n",
              "    [theme=dark] .colab-df-convert:hover {\n",
              "      background-color: #434B5C;\n",
              "      box-shadow: 0px 1px 3px 1px rgba(0, 0, 0, 0.15);\n",
              "      filter: drop-shadow(0px 1px 2px rgba(0, 0, 0, 0.3));\n",
              "      fill: #FFFFFF;\n",
              "    }\n",
              "  </style>\n",
              "\n",
              "      <script>\n",
              "        const buttonEl =\n",
              "          document.querySelector('#df-0bfbfd99-71af-470b-a84a-5d609e2bd828 button.colab-df-convert');\n",
              "        buttonEl.style.display =\n",
              "          google.colab.kernel.accessAllowed ? 'block' : 'none';\n",
              "\n",
              "        async function convertToInteractive(key) {\n",
              "          const element = document.querySelector('#df-0bfbfd99-71af-470b-a84a-5d609e2bd828');\n",
              "          const dataTable =\n",
              "            await google.colab.kernel.invokeFunction('convertToInteractive',\n",
              "                                                     [key], {});\n",
              "          if (!dataTable) return;\n",
              "\n",
              "          const docLinkHtml = 'Like what you see? Visit the ' +\n",
              "            '<a target=\"_blank\" href=https://colab.research.google.com/notebooks/data_table.ipynb>data table notebook</a>'\n",
              "            + ' to learn more about interactive tables.';\n",
              "          element.innerHTML = '';\n",
              "          dataTable['output_type'] = 'display_data';\n",
              "          await google.colab.output.renderOutput(dataTable, element);\n",
              "          const docLink = document.createElement('div');\n",
              "          docLink.innerHTML = docLinkHtml;\n",
              "          element.appendChild(docLink);\n",
              "        }\n",
              "      </script>\n",
              "    </div>\n",
              "  </div>\n",
              "  "
            ],
            "text/plain": [
              "      classifier        f1  accuracy  time_window  hiperparameters\n",
              "0       Logistic  0.790524  0.856500          300         0.000912\n",
              "1            SVC  0.790225  0.847814          300         0.000912\n",
              "2            SVC  0.785470  0.846328          300         0.000912\n",
              "3            LDA  0.738058  0.832911          300              NaN\n",
              "4            QDA  0.603800  0.679218          300              NaN\n",
              "5  Decision Tree  0.919003  0.946292          300         0.006738\n",
              "6  Decision Tree  0.956588  0.975679          300         0.000912"
            ]
          },
          "metadata": {}
        }
      ]
    },
    {
      "cell_type": "code",
      "source": [
        "display(results_new_std)"
      ],
      "metadata": {
        "colab": {
          "base_uri": "https://localhost:8080/",
          "height": 269
        },
        "id": "vtetTr24s4Vf",
        "outputId": "d7922984-87b9-4e71-c734-9c7fc9b97c49"
      },
      "execution_count": 121,
      "outputs": [
        {
          "output_type": "display_data",
          "data": {
            "text/html": [
              "\n",
              "  <div id=\"df-107eecd0-bb92-4e3c-84d1-519b7d7abd94\">\n",
              "    <div class=\"colab-df-container\">\n",
              "      <div>\n",
              "<style scoped>\n",
              "    .dataframe tbody tr th:only-of-type {\n",
              "        vertical-align: middle;\n",
              "    }\n",
              "\n",
              "    .dataframe tbody tr th {\n",
              "        vertical-align: top;\n",
              "    }\n",
              "\n",
              "    .dataframe thead th {\n",
              "        text-align: right;\n",
              "    }\n",
              "</style>\n",
              "<table border=\"1\" class=\"dataframe\">\n",
              "  <thead>\n",
              "    <tr style=\"text-align: right;\">\n",
              "      <th></th>\n",
              "      <th>classifier</th>\n",
              "      <th>cross_val_score</th>\n",
              "      <th>accuracy</th>\n",
              "      <th>time_window</th>\n",
              "      <th>hiperparameters</th>\n",
              "    </tr>\n",
              "  </thead>\n",
              "  <tbody>\n",
              "    <tr>\n",
              "      <th>0</th>\n",
              "      <td>Logistic</td>\n",
              "      <td>[0.86050649 0.85987861 0.85892203 0.8563056  0...</td>\n",
              "      <td>0.856500</td>\n",
              "      <td>300</td>\n",
              "      <td>0.000912</td>\n",
              "    </tr>\n",
              "    <tr>\n",
              "      <th>1</th>\n",
              "      <td>SVC</td>\n",
              "      <td>[0.84397237 0.85328589 0.85180534 0.85002616 0...</td>\n",
              "      <td>0.847814</td>\n",
              "      <td>300</td>\n",
              "      <td>0.000912</td>\n",
              "    </tr>\n",
              "    <tr>\n",
              "      <th>2</th>\n",
              "      <td>SVC</td>\n",
              "      <td>[0.84564671 0.85046044 0.84583987 0.84667713 0...</td>\n",
              "      <td>0.846328</td>\n",
              "      <td>300</td>\n",
              "      <td>0.000912</td>\n",
              "    </tr>\n",
              "    <tr>\n",
              "      <th>3</th>\n",
              "      <td>LDA</td>\n",
              "      <td>[0.83256593 0.83444956 0.83851387 0.83464155 0...</td>\n",
              "      <td>0.832911</td>\n",
              "      <td>300</td>\n",
              "      <td>NaN</td>\n",
              "    </tr>\n",
              "    <tr>\n",
              "      <th>4</th>\n",
              "      <td>QDA</td>\n",
              "      <td>[0.75355797 0.75334868 0.74955521 0.79194139 0...</td>\n",
              "      <td>0.679218</td>\n",
              "      <td>300</td>\n",
              "      <td>NaN</td>\n",
              "    </tr>\n",
              "    <tr>\n",
              "      <th>5</th>\n",
              "      <td>Decision Tree</td>\n",
              "      <td>[0.94422352 0.94464211 0.94641549 0.94118263 0...</td>\n",
              "      <td>0.946292</td>\n",
              "      <td>300</td>\n",
              "      <td>0.006738</td>\n",
              "    </tr>\n",
              "    <tr>\n",
              "      <th>6</th>\n",
              "      <td>Decision Tree</td>\n",
              "      <td>[0.97289661 0.97321055 0.97414966 0.97498692 0...</td>\n",
              "      <td>0.975679</td>\n",
              "      <td>300</td>\n",
              "      <td>0.000912</td>\n",
              "    </tr>\n",
              "  </tbody>\n",
              "</table>\n",
              "</div>\n",
              "      <button class=\"colab-df-convert\" onclick=\"convertToInteractive('df-107eecd0-bb92-4e3c-84d1-519b7d7abd94')\"\n",
              "              title=\"Convert this dataframe to an interactive table.\"\n",
              "              style=\"display:none;\">\n",
              "        \n",
              "  <svg xmlns=\"http://www.w3.org/2000/svg\" height=\"24px\"viewBox=\"0 0 24 24\"\n",
              "       width=\"24px\">\n",
              "    <path d=\"M0 0h24v24H0V0z\" fill=\"none\"/>\n",
              "    <path d=\"M18.56 5.44l.94 2.06.94-2.06 2.06-.94-2.06-.94-.94-2.06-.94 2.06-2.06.94zm-11 1L8.5 8.5l.94-2.06 2.06-.94-2.06-.94L8.5 2.5l-.94 2.06-2.06.94zm10 10l.94 2.06.94-2.06 2.06-.94-2.06-.94-.94-2.06-.94 2.06-2.06.94z\"/><path d=\"M17.41 7.96l-1.37-1.37c-.4-.4-.92-.59-1.43-.59-.52 0-1.04.2-1.43.59L10.3 9.45l-7.72 7.72c-.78.78-.78 2.05 0 2.83L4 21.41c.39.39.9.59 1.41.59.51 0 1.02-.2 1.41-.59l7.78-7.78 2.81-2.81c.8-.78.8-2.07 0-2.86zM5.41 20L4 18.59l7.72-7.72 1.47 1.35L5.41 20z\"/>\n",
              "  </svg>\n",
              "      </button>\n",
              "      \n",
              "  <style>\n",
              "    .colab-df-container {\n",
              "      display:flex;\n",
              "      flex-wrap:wrap;\n",
              "      gap: 12px;\n",
              "    }\n",
              "\n",
              "    .colab-df-convert {\n",
              "      background-color: #E8F0FE;\n",
              "      border: none;\n",
              "      border-radius: 50%;\n",
              "      cursor: pointer;\n",
              "      display: none;\n",
              "      fill: #1967D2;\n",
              "      height: 32px;\n",
              "      padding: 0 0 0 0;\n",
              "      width: 32px;\n",
              "    }\n",
              "\n",
              "    .colab-df-convert:hover {\n",
              "      background-color: #E2EBFA;\n",
              "      box-shadow: 0px 1px 2px rgba(60, 64, 67, 0.3), 0px 1px 3px 1px rgba(60, 64, 67, 0.15);\n",
              "      fill: #174EA6;\n",
              "    }\n",
              "\n",
              "    [theme=dark] .colab-df-convert {\n",
              "      background-color: #3B4455;\n",
              "      fill: #D2E3FC;\n",
              "    }\n",
              "\n",
              "    [theme=dark] .colab-df-convert:hover {\n",
              "      background-color: #434B5C;\n",
              "      box-shadow: 0px 1px 3px 1px rgba(0, 0, 0, 0.15);\n",
              "      filter: drop-shadow(0px 1px 2px rgba(0, 0, 0, 0.3));\n",
              "      fill: #FFFFFF;\n",
              "    }\n",
              "  </style>\n",
              "\n",
              "      <script>\n",
              "        const buttonEl =\n",
              "          document.querySelector('#df-107eecd0-bb92-4e3c-84d1-519b7d7abd94 button.colab-df-convert');\n",
              "        buttonEl.style.display =\n",
              "          google.colab.kernel.accessAllowed ? 'block' : 'none';\n",
              "\n",
              "        async function convertToInteractive(key) {\n",
              "          const element = document.querySelector('#df-107eecd0-bb92-4e3c-84d1-519b7d7abd94');\n",
              "          const dataTable =\n",
              "            await google.colab.kernel.invokeFunction('convertToInteractive',\n",
              "                                                     [key], {});\n",
              "          if (!dataTable) return;\n",
              "\n",
              "          const docLinkHtml = 'Like what you see? Visit the ' +\n",
              "            '<a target=\"_blank\" href=https://colab.research.google.com/notebooks/data_table.ipynb>data table notebook</a>'\n",
              "            + ' to learn more about interactive tables.';\n",
              "          element.innerHTML = '';\n",
              "          dataTable['output_type'] = 'display_data';\n",
              "          await google.colab.output.renderOutput(dataTable, element);\n",
              "          const docLink = document.createElement('div');\n",
              "          docLink.innerHTML = docLinkHtml;\n",
              "          element.appendChild(docLink);\n",
              "        }\n",
              "      </script>\n",
              "    </div>\n",
              "  </div>\n",
              "  "
            ],
            "text/plain": [
              "      classifier  ... hiperparameters\n",
              "0       Logistic  ...        0.000912\n",
              "1            SVC  ...        0.000912\n",
              "2            SVC  ...        0.000912\n",
              "3            LDA  ...             NaN\n",
              "4            QDA  ...             NaN\n",
              "5  Decision Tree  ...        0.006738\n",
              "6  Decision Tree  ...        0.000912\n",
              "\n",
              "[7 rows x 5 columns]"
            ]
          },
          "metadata": {}
        }
      ]
    },
    {
      "cell_type": "code",
      "source": [
        "display(results_rnd_std)"
      ],
      "metadata": {
        "colab": {
          "base_uri": "https://localhost:8080/",
          "height": 143
        },
        "id": "2-c7kqehs4bv",
        "outputId": "0a77248c-dc7a-405c-f07e-048ad8c38ae4"
      },
      "execution_count": 123,
      "outputs": [
        {
          "output_type": "display_data",
          "data": {
            "text/html": [
              "\n",
              "  <div id=\"df-06825321-e45a-4cb6-a1cb-917bc9d2c6bc\">\n",
              "    <div class=\"colab-df-container\">\n",
              "      <div>\n",
              "<style scoped>\n",
              "    .dataframe tbody tr th:only-of-type {\n",
              "        vertical-align: middle;\n",
              "    }\n",
              "\n",
              "    .dataframe tbody tr th {\n",
              "        vertical-align: top;\n",
              "    }\n",
              "\n",
              "    .dataframe thead th {\n",
              "        text-align: right;\n",
              "    }\n",
              "</style>\n",
              "<table border=\"1\" class=\"dataframe\">\n",
              "  <thead>\n",
              "    <tr style=\"text-align: right;\">\n",
              "      <th></th>\n",
              "      <th>classifier</th>\n",
              "      <th>cross_val_score</th>\n",
              "      <th>accuracy</th>\n",
              "      <th>time_window</th>\n",
              "      <th>hiperparameters</th>\n",
              "    </tr>\n",
              "  </thead>\n",
              "  <tbody>\n",
              "    <tr>\n",
              "      <th>0</th>\n",
              "      <td>Logistic</td>\n",
              "      <td>[0.8530766  0.85778568 0.85724751 0.85599163 0...</td>\n",
              "      <td>0.853528</td>\n",
              "      <td>300</td>\n",
              "      <td>10</td>\n",
              "    </tr>\n",
              "    <tr>\n",
              "      <th>1</th>\n",
              "      <td>Logistic</td>\n",
              "      <td>[0.8530766  0.85778568 0.85724751 0.85599163 0...</td>\n",
              "      <td>0.853528</td>\n",
              "      <td>300</td>\n",
              "      <td>10</td>\n",
              "    </tr>\n",
              "    <tr>\n",
              "      <th>2</th>\n",
              "      <td>Decision Tree</td>\n",
              "      <td>[0.99183759 0.99058183 0.99256934 0.99392988 0...</td>\n",
              "      <td>0.996588</td>\n",
              "      <td>300</td>\n",
              "      <td>10</td>\n",
              "    </tr>\n",
              "  </tbody>\n",
              "</table>\n",
              "</div>\n",
              "      <button class=\"colab-df-convert\" onclick=\"convertToInteractive('df-06825321-e45a-4cb6-a1cb-917bc9d2c6bc')\"\n",
              "              title=\"Convert this dataframe to an interactive table.\"\n",
              "              style=\"display:none;\">\n",
              "        \n",
              "  <svg xmlns=\"http://www.w3.org/2000/svg\" height=\"24px\"viewBox=\"0 0 24 24\"\n",
              "       width=\"24px\">\n",
              "    <path d=\"M0 0h24v24H0V0z\" fill=\"none\"/>\n",
              "    <path d=\"M18.56 5.44l.94 2.06.94-2.06 2.06-.94-2.06-.94-.94-2.06-.94 2.06-2.06.94zm-11 1L8.5 8.5l.94-2.06 2.06-.94-2.06-.94L8.5 2.5l-.94 2.06-2.06.94zm10 10l.94 2.06.94-2.06 2.06-.94-2.06-.94-.94-2.06-.94 2.06-2.06.94z\"/><path d=\"M17.41 7.96l-1.37-1.37c-.4-.4-.92-.59-1.43-.59-.52 0-1.04.2-1.43.59L10.3 9.45l-7.72 7.72c-.78.78-.78 2.05 0 2.83L4 21.41c.39.39.9.59 1.41.59.51 0 1.02-.2 1.41-.59l7.78-7.78 2.81-2.81c.8-.78.8-2.07 0-2.86zM5.41 20L4 18.59l7.72-7.72 1.47 1.35L5.41 20z\"/>\n",
              "  </svg>\n",
              "      </button>\n",
              "      \n",
              "  <style>\n",
              "    .colab-df-container {\n",
              "      display:flex;\n",
              "      flex-wrap:wrap;\n",
              "      gap: 12px;\n",
              "    }\n",
              "\n",
              "    .colab-df-convert {\n",
              "      background-color: #E8F0FE;\n",
              "      border: none;\n",
              "      border-radius: 50%;\n",
              "      cursor: pointer;\n",
              "      display: none;\n",
              "      fill: #1967D2;\n",
              "      height: 32px;\n",
              "      padding: 0 0 0 0;\n",
              "      width: 32px;\n",
              "    }\n",
              "\n",
              "    .colab-df-convert:hover {\n",
              "      background-color: #E2EBFA;\n",
              "      box-shadow: 0px 1px 2px rgba(60, 64, 67, 0.3), 0px 1px 3px 1px rgba(60, 64, 67, 0.15);\n",
              "      fill: #174EA6;\n",
              "    }\n",
              "\n",
              "    [theme=dark] .colab-df-convert {\n",
              "      background-color: #3B4455;\n",
              "      fill: #D2E3FC;\n",
              "    }\n",
              "\n",
              "    [theme=dark] .colab-df-convert:hover {\n",
              "      background-color: #434B5C;\n",
              "      box-shadow: 0px 1px 3px 1px rgba(0, 0, 0, 0.15);\n",
              "      filter: drop-shadow(0px 1px 2px rgba(0, 0, 0, 0.3));\n",
              "      fill: #FFFFFF;\n",
              "    }\n",
              "  </style>\n",
              "\n",
              "      <script>\n",
              "        const buttonEl =\n",
              "          document.querySelector('#df-06825321-e45a-4cb6-a1cb-917bc9d2c6bc button.colab-df-convert');\n",
              "        buttonEl.style.display =\n",
              "          google.colab.kernel.accessAllowed ? 'block' : 'none';\n",
              "\n",
              "        async function convertToInteractive(key) {\n",
              "          const element = document.querySelector('#df-06825321-e45a-4cb6-a1cb-917bc9d2c6bc');\n",
              "          const dataTable =\n",
              "            await google.colab.kernel.invokeFunction('convertToInteractive',\n",
              "                                                     [key], {});\n",
              "          if (!dataTable) return;\n",
              "\n",
              "          const docLinkHtml = 'Like what you see? Visit the ' +\n",
              "            '<a target=\"_blank\" href=https://colab.research.google.com/notebooks/data_table.ipynb>data table notebook</a>'\n",
              "            + ' to learn more about interactive tables.';\n",
              "          element.innerHTML = '';\n",
              "          dataTable['output_type'] = 'display_data';\n",
              "          await google.colab.output.renderOutput(dataTable, element);\n",
              "          const docLink = document.createElement('div');\n",
              "          docLink.innerHTML = docLinkHtml;\n",
              "          element.appendChild(docLink);\n",
              "        }\n",
              "      </script>\n",
              "    </div>\n",
              "  </div>\n",
              "  "
            ],
            "text/plain": [
              "      classifier  ... hiperparameters\n",
              "0       Logistic  ...              10\n",
              "1       Logistic  ...              10\n",
              "2  Decision Tree  ...              10\n",
              "\n",
              "[3 rows x 5 columns]"
            ]
          },
          "metadata": {}
        }
      ]
    },
    {
      "cell_type": "markdown",
      "source": [
        "### Minmax scaler"
      ],
      "metadata": {
        "id": "6isndxoHtE3e"
      }
    },
    {
      "cell_type": "code",
      "source": [
        "results_mm = pd.read_csv(\"final_results_minmax/results.csv\")\n",
        "results_new_mm = pd.read_csv(\"final_results_minmax/results_new.csv\")\n",
        "results_rnd_mm = pd.read_csv(\"final_results_minmax/results_rnd.csv\")"
      ],
      "metadata": {
        "id": "gtqDddo0tJRM"
      },
      "execution_count": 124,
      "outputs": []
    },
    {
      "cell_type": "code",
      "source": [
        "from IPython.display import display\n",
        "import pandas as pd\n",
        "  \n",
        "display(results_mm)"
      ],
      "metadata": {
        "colab": {
          "base_uri": "https://localhost:8080/",
          "height": 269
        },
        "id": "jeSnRDPStLYc",
        "outputId": "231655ca-49e7-4036-a0f9-a30e327f8c2e"
      },
      "execution_count": 128,
      "outputs": [
        {
          "output_type": "display_data",
          "data": {
            "text/html": [
              "\n",
              "  <div id=\"df-aa64938f-adb5-4c49-aa1c-ae9b76c66ef6\">\n",
              "    <div class=\"colab-df-container\">\n",
              "      <div>\n",
              "<style scoped>\n",
              "    .dataframe tbody tr th:only-of-type {\n",
              "        vertical-align: middle;\n",
              "    }\n",
              "\n",
              "    .dataframe tbody tr th {\n",
              "        vertical-align: top;\n",
              "    }\n",
              "\n",
              "    .dataframe thead th {\n",
              "        text-align: right;\n",
              "    }\n",
              "</style>\n",
              "<table border=\"1\" class=\"dataframe\">\n",
              "  <thead>\n",
              "    <tr style=\"text-align: right;\">\n",
              "      <th></th>\n",
              "      <th>classifier</th>\n",
              "      <th>f1</th>\n",
              "      <th>accuracy</th>\n",
              "      <th>time_window</th>\n",
              "      <th>hiperparameters</th>\n",
              "    </tr>\n",
              "  </thead>\n",
              "  <tbody>\n",
              "    <tr>\n",
              "      <th>0</th>\n",
              "      <td>Logistic</td>\n",
              "      <td>0.582528</td>\n",
              "      <td>0.785985</td>\n",
              "      <td>300</td>\n",
              "      <td>0.000912</td>\n",
              "    </tr>\n",
              "    <tr>\n",
              "      <th>1</th>\n",
              "      <td>SVC</td>\n",
              "      <td>0.656134</td>\n",
              "      <td>0.803064</td>\n",
              "      <td>300</td>\n",
              "      <td>0.000912</td>\n",
              "    </tr>\n",
              "    <tr>\n",
              "      <th>2</th>\n",
              "      <td>SVC</td>\n",
              "      <td>0.653983</td>\n",
              "      <td>0.800825</td>\n",
              "      <td>300</td>\n",
              "      <td>0.000912</td>\n",
              "    </tr>\n",
              "    <tr>\n",
              "      <th>3</th>\n",
              "      <td>LDA</td>\n",
              "      <td>0.738058</td>\n",
              "      <td>0.832911</td>\n",
              "      <td>300</td>\n",
              "      <td>NaN</td>\n",
              "    </tr>\n",
              "    <tr>\n",
              "      <th>4</th>\n",
              "      <td>QDA</td>\n",
              "      <td>0.654875</td>\n",
              "      <td>0.705611</td>\n",
              "      <td>300</td>\n",
              "      <td>NaN</td>\n",
              "    </tr>\n",
              "    <tr>\n",
              "      <th>5</th>\n",
              "      <td>Decision Tree</td>\n",
              "      <td>0.917628</td>\n",
              "      <td>0.944032</td>\n",
              "      <td>300</td>\n",
              "      <td>0.006738</td>\n",
              "    </tr>\n",
              "    <tr>\n",
              "      <th>6</th>\n",
              "      <td>Decision Tree</td>\n",
              "      <td>0.957909</td>\n",
              "      <td>0.977939</td>\n",
              "      <td>300</td>\n",
              "      <td>0.000912</td>\n",
              "    </tr>\n",
              "  </tbody>\n",
              "</table>\n",
              "</div>\n",
              "      <button class=\"colab-df-convert\" onclick=\"convertToInteractive('df-aa64938f-adb5-4c49-aa1c-ae9b76c66ef6')\"\n",
              "              title=\"Convert this dataframe to an interactive table.\"\n",
              "              style=\"display:none;\">\n",
              "        \n",
              "  <svg xmlns=\"http://www.w3.org/2000/svg\" height=\"24px\"viewBox=\"0 0 24 24\"\n",
              "       width=\"24px\">\n",
              "    <path d=\"M0 0h24v24H0V0z\" fill=\"none\"/>\n",
              "    <path d=\"M18.56 5.44l.94 2.06.94-2.06 2.06-.94-2.06-.94-.94-2.06-.94 2.06-2.06.94zm-11 1L8.5 8.5l.94-2.06 2.06-.94-2.06-.94L8.5 2.5l-.94 2.06-2.06.94zm10 10l.94 2.06.94-2.06 2.06-.94-2.06-.94-.94-2.06-.94 2.06-2.06.94z\"/><path d=\"M17.41 7.96l-1.37-1.37c-.4-.4-.92-.59-1.43-.59-.52 0-1.04.2-1.43.59L10.3 9.45l-7.72 7.72c-.78.78-.78 2.05 0 2.83L4 21.41c.39.39.9.59 1.41.59.51 0 1.02-.2 1.41-.59l7.78-7.78 2.81-2.81c.8-.78.8-2.07 0-2.86zM5.41 20L4 18.59l7.72-7.72 1.47 1.35L5.41 20z\"/>\n",
              "  </svg>\n",
              "      </button>\n",
              "      \n",
              "  <style>\n",
              "    .colab-df-container {\n",
              "      display:flex;\n",
              "      flex-wrap:wrap;\n",
              "      gap: 12px;\n",
              "    }\n",
              "\n",
              "    .colab-df-convert {\n",
              "      background-color: #E8F0FE;\n",
              "      border: none;\n",
              "      border-radius: 50%;\n",
              "      cursor: pointer;\n",
              "      display: none;\n",
              "      fill: #1967D2;\n",
              "      height: 32px;\n",
              "      padding: 0 0 0 0;\n",
              "      width: 32px;\n",
              "    }\n",
              "\n",
              "    .colab-df-convert:hover {\n",
              "      background-color: #E2EBFA;\n",
              "      box-shadow: 0px 1px 2px rgba(60, 64, 67, 0.3), 0px 1px 3px 1px rgba(60, 64, 67, 0.15);\n",
              "      fill: #174EA6;\n",
              "    }\n",
              "\n",
              "    [theme=dark] .colab-df-convert {\n",
              "      background-color: #3B4455;\n",
              "      fill: #D2E3FC;\n",
              "    }\n",
              "\n",
              "    [theme=dark] .colab-df-convert:hover {\n",
              "      background-color: #434B5C;\n",
              "      box-shadow: 0px 1px 3px 1px rgba(0, 0, 0, 0.15);\n",
              "      filter: drop-shadow(0px 1px 2px rgba(0, 0, 0, 0.3));\n",
              "      fill: #FFFFFF;\n",
              "    }\n",
              "  </style>\n",
              "\n",
              "      <script>\n",
              "        const buttonEl =\n",
              "          document.querySelector('#df-aa64938f-adb5-4c49-aa1c-ae9b76c66ef6 button.colab-df-convert');\n",
              "        buttonEl.style.display =\n",
              "          google.colab.kernel.accessAllowed ? 'block' : 'none';\n",
              "\n",
              "        async function convertToInteractive(key) {\n",
              "          const element = document.querySelector('#df-aa64938f-adb5-4c49-aa1c-ae9b76c66ef6');\n",
              "          const dataTable =\n",
              "            await google.colab.kernel.invokeFunction('convertToInteractive',\n",
              "                                                     [key], {});\n",
              "          if (!dataTable) return;\n",
              "\n",
              "          const docLinkHtml = 'Like what you see? Visit the ' +\n",
              "            '<a target=\"_blank\" href=https://colab.research.google.com/notebooks/data_table.ipynb>data table notebook</a>'\n",
              "            + ' to learn more about interactive tables.';\n",
              "          element.innerHTML = '';\n",
              "          dataTable['output_type'] = 'display_data';\n",
              "          await google.colab.output.renderOutput(dataTable, element);\n",
              "          const docLink = document.createElement('div');\n",
              "          docLink.innerHTML = docLinkHtml;\n",
              "          element.appendChild(docLink);\n",
              "        }\n",
              "      </script>\n",
              "    </div>\n",
              "  </div>\n",
              "  "
            ],
            "text/plain": [
              "      classifier        f1  accuracy  time_window  hiperparameters\n",
              "0       Logistic  0.582528  0.785985          300         0.000912\n",
              "1            SVC  0.656134  0.803064          300         0.000912\n",
              "2            SVC  0.653983  0.800825          300         0.000912\n",
              "3            LDA  0.738058  0.832911          300              NaN\n",
              "4            QDA  0.654875  0.705611          300              NaN\n",
              "5  Decision Tree  0.917628  0.944032          300         0.006738\n",
              "6  Decision Tree  0.957909  0.977939          300         0.000912"
            ]
          },
          "metadata": {}
        }
      ]
    },
    {
      "cell_type": "code",
      "source": [
        "display(results_new_mm)"
      ],
      "metadata": {
        "colab": {
          "base_uri": "https://localhost:8080/",
          "height": 269
        },
        "id": "rrWr-DtNtLYd",
        "outputId": "289ce360-4313-493e-c5b7-59b701bf63b5"
      },
      "execution_count": 129,
      "outputs": [
        {
          "output_type": "display_data",
          "data": {
            "text/html": [
              "\n",
              "  <div id=\"df-66a9c5b4-6c77-46a8-aa78-bbff91908acd\">\n",
              "    <div class=\"colab-df-container\">\n",
              "      <div>\n",
              "<style scoped>\n",
              "    .dataframe tbody tr th:only-of-type {\n",
              "        vertical-align: middle;\n",
              "    }\n",
              "\n",
              "    .dataframe tbody tr th {\n",
              "        vertical-align: top;\n",
              "    }\n",
              "\n",
              "    .dataframe thead th {\n",
              "        text-align: right;\n",
              "    }\n",
              "</style>\n",
              "<table border=\"1\" class=\"dataframe\">\n",
              "  <thead>\n",
              "    <tr style=\"text-align: right;\">\n",
              "      <th></th>\n",
              "      <th>classifier</th>\n",
              "      <th>cross_val_score</th>\n",
              "      <th>accuracy</th>\n",
              "      <th>time_window</th>\n",
              "      <th>hiperparameters</th>\n",
              "    </tr>\n",
              "  </thead>\n",
              "  <tbody>\n",
              "    <tr>\n",
              "      <th>0</th>\n",
              "      <td>Logistic</td>\n",
              "      <td>[0.77584763 0.78013813 0.79549974 0.79016222 0...</td>\n",
              "      <td>0.785985</td>\n",
              "      <td>300</td>\n",
              "      <td>0.000912</td>\n",
              "    </tr>\n",
              "    <tr>\n",
              "      <th>1</th>\n",
              "      <td>SVC</td>\n",
              "      <td>[0.78903307 0.8094391  0.80083726 0.80177917 0...</td>\n",
              "      <td>0.803064</td>\n",
              "      <td>300</td>\n",
              "      <td>0.000912</td>\n",
              "    </tr>\n",
              "    <tr>\n",
              "      <th>2</th>\n",
              "      <td>SVC</td>\n",
              "      <td>[0.80933445 0.7922771  0.8043956  0.7892203  0...</td>\n",
              "      <td>0.800825</td>\n",
              "      <td>300</td>\n",
              "      <td>0.000912</td>\n",
              "    </tr>\n",
              "    <tr>\n",
              "      <th>3</th>\n",
              "      <td>LDA</td>\n",
              "      <td>[0.83256593 0.83444956 0.83851387 0.83464155 0...</td>\n",
              "      <td>0.832911</td>\n",
              "      <td>300</td>\n",
              "      <td>NaN</td>\n",
              "    </tr>\n",
              "    <tr>\n",
              "      <th>4</th>\n",
              "      <td>QDA</td>\n",
              "      <td>[0.84344914 0.84187945 0.84814233 0.84615385 0...</td>\n",
              "      <td>0.705611</td>\n",
              "      <td>300</td>\n",
              "      <td>NaN</td>\n",
              "    </tr>\n",
              "    <tr>\n",
              "      <th>5</th>\n",
              "      <td>Decision Tree</td>\n",
              "      <td>[0.93438677 0.92727082 0.92747253 0.93783359 0...</td>\n",
              "      <td>0.944032</td>\n",
              "      <td>300</td>\n",
              "      <td>0.006738</td>\n",
              "    </tr>\n",
              "    <tr>\n",
              "      <th>6</th>\n",
              "      <td>Decision Tree</td>\n",
              "      <td>[0.9746756  0.97268732 0.97080063 0.9755102  0...</td>\n",
              "      <td>0.977939</td>\n",
              "      <td>300</td>\n",
              "      <td>0.000912</td>\n",
              "    </tr>\n",
              "  </tbody>\n",
              "</table>\n",
              "</div>\n",
              "      <button class=\"colab-df-convert\" onclick=\"convertToInteractive('df-66a9c5b4-6c77-46a8-aa78-bbff91908acd')\"\n",
              "              title=\"Convert this dataframe to an interactive table.\"\n",
              "              style=\"display:none;\">\n",
              "        \n",
              "  <svg xmlns=\"http://www.w3.org/2000/svg\" height=\"24px\"viewBox=\"0 0 24 24\"\n",
              "       width=\"24px\">\n",
              "    <path d=\"M0 0h24v24H0V0z\" fill=\"none\"/>\n",
              "    <path d=\"M18.56 5.44l.94 2.06.94-2.06 2.06-.94-2.06-.94-.94-2.06-.94 2.06-2.06.94zm-11 1L8.5 8.5l.94-2.06 2.06-.94-2.06-.94L8.5 2.5l-.94 2.06-2.06.94zm10 10l.94 2.06.94-2.06 2.06-.94-2.06-.94-.94-2.06-.94 2.06-2.06.94z\"/><path d=\"M17.41 7.96l-1.37-1.37c-.4-.4-.92-.59-1.43-.59-.52 0-1.04.2-1.43.59L10.3 9.45l-7.72 7.72c-.78.78-.78 2.05 0 2.83L4 21.41c.39.39.9.59 1.41.59.51 0 1.02-.2 1.41-.59l7.78-7.78 2.81-2.81c.8-.78.8-2.07 0-2.86zM5.41 20L4 18.59l7.72-7.72 1.47 1.35L5.41 20z\"/>\n",
              "  </svg>\n",
              "      </button>\n",
              "      \n",
              "  <style>\n",
              "    .colab-df-container {\n",
              "      display:flex;\n",
              "      flex-wrap:wrap;\n",
              "      gap: 12px;\n",
              "    }\n",
              "\n",
              "    .colab-df-convert {\n",
              "      background-color: #E8F0FE;\n",
              "      border: none;\n",
              "      border-radius: 50%;\n",
              "      cursor: pointer;\n",
              "      display: none;\n",
              "      fill: #1967D2;\n",
              "      height: 32px;\n",
              "      padding: 0 0 0 0;\n",
              "      width: 32px;\n",
              "    }\n",
              "\n",
              "    .colab-df-convert:hover {\n",
              "      background-color: #E2EBFA;\n",
              "      box-shadow: 0px 1px 2px rgba(60, 64, 67, 0.3), 0px 1px 3px 1px rgba(60, 64, 67, 0.15);\n",
              "      fill: #174EA6;\n",
              "    }\n",
              "\n",
              "    [theme=dark] .colab-df-convert {\n",
              "      background-color: #3B4455;\n",
              "      fill: #D2E3FC;\n",
              "    }\n",
              "\n",
              "    [theme=dark] .colab-df-convert:hover {\n",
              "      background-color: #434B5C;\n",
              "      box-shadow: 0px 1px 3px 1px rgba(0, 0, 0, 0.15);\n",
              "      filter: drop-shadow(0px 1px 2px rgba(0, 0, 0, 0.3));\n",
              "      fill: #FFFFFF;\n",
              "    }\n",
              "  </style>\n",
              "\n",
              "      <script>\n",
              "        const buttonEl =\n",
              "          document.querySelector('#df-66a9c5b4-6c77-46a8-aa78-bbff91908acd button.colab-df-convert');\n",
              "        buttonEl.style.display =\n",
              "          google.colab.kernel.accessAllowed ? 'block' : 'none';\n",
              "\n",
              "        async function convertToInteractive(key) {\n",
              "          const element = document.querySelector('#df-66a9c5b4-6c77-46a8-aa78-bbff91908acd');\n",
              "          const dataTable =\n",
              "            await google.colab.kernel.invokeFunction('convertToInteractive',\n",
              "                                                     [key], {});\n",
              "          if (!dataTable) return;\n",
              "\n",
              "          const docLinkHtml = 'Like what you see? Visit the ' +\n",
              "            '<a target=\"_blank\" href=https://colab.research.google.com/notebooks/data_table.ipynb>data table notebook</a>'\n",
              "            + ' to learn more about interactive tables.';\n",
              "          element.innerHTML = '';\n",
              "          dataTable['output_type'] = 'display_data';\n",
              "          await google.colab.output.renderOutput(dataTable, element);\n",
              "          const docLink = document.createElement('div');\n",
              "          docLink.innerHTML = docLinkHtml;\n",
              "          element.appendChild(docLink);\n",
              "        }\n",
              "      </script>\n",
              "    </div>\n",
              "  </div>\n",
              "  "
            ],
            "text/plain": [
              "      classifier  ... hiperparameters\n",
              "0       Logistic  ...        0.000912\n",
              "1            SVC  ...        0.000912\n",
              "2            SVC  ...        0.000912\n",
              "3            LDA  ...             NaN\n",
              "4            QDA  ...             NaN\n",
              "5  Decision Tree  ...        0.006738\n",
              "6  Decision Tree  ...        0.000912\n",
              "\n",
              "[7 rows x 5 columns]"
            ]
          },
          "metadata": {}
        }
      ]
    },
    {
      "cell_type": "code",
      "source": [
        "display(results_new_mm)"
      ],
      "metadata": {
        "colab": {
          "base_uri": "https://localhost:8080/",
          "height": 269
        },
        "id": "08wjtwSNtLYd",
        "outputId": "e648f8c4-a7ba-4a05-d7c0-a5976ce54c20"
      },
      "execution_count": 130,
      "outputs": [
        {
          "output_type": "display_data",
          "data": {
            "text/html": [
              "\n",
              "  <div id=\"df-46ed82e6-f324-41fc-a3b0-4bccdfb358b3\">\n",
              "    <div class=\"colab-df-container\">\n",
              "      <div>\n",
              "<style scoped>\n",
              "    .dataframe tbody tr th:only-of-type {\n",
              "        vertical-align: middle;\n",
              "    }\n",
              "\n",
              "    .dataframe tbody tr th {\n",
              "        vertical-align: top;\n",
              "    }\n",
              "\n",
              "    .dataframe thead th {\n",
              "        text-align: right;\n",
              "    }\n",
              "</style>\n",
              "<table border=\"1\" class=\"dataframe\">\n",
              "  <thead>\n",
              "    <tr style=\"text-align: right;\">\n",
              "      <th></th>\n",
              "      <th>classifier</th>\n",
              "      <th>cross_val_score</th>\n",
              "      <th>accuracy</th>\n",
              "      <th>time_window</th>\n",
              "      <th>hiperparameters</th>\n",
              "    </tr>\n",
              "  </thead>\n",
              "  <tbody>\n",
              "    <tr>\n",
              "      <th>0</th>\n",
              "      <td>Logistic</td>\n",
              "      <td>[0.77584763 0.78013813 0.79549974 0.79016222 0...</td>\n",
              "      <td>0.785985</td>\n",
              "      <td>300</td>\n",
              "      <td>0.000912</td>\n",
              "    </tr>\n",
              "    <tr>\n",
              "      <th>1</th>\n",
              "      <td>SVC</td>\n",
              "      <td>[0.78903307 0.8094391  0.80083726 0.80177917 0...</td>\n",
              "      <td>0.803064</td>\n",
              "      <td>300</td>\n",
              "      <td>0.000912</td>\n",
              "    </tr>\n",
              "    <tr>\n",
              "      <th>2</th>\n",
              "      <td>SVC</td>\n",
              "      <td>[0.80933445 0.7922771  0.8043956  0.7892203  0...</td>\n",
              "      <td>0.800825</td>\n",
              "      <td>300</td>\n",
              "      <td>0.000912</td>\n",
              "    </tr>\n",
              "    <tr>\n",
              "      <th>3</th>\n",
              "      <td>LDA</td>\n",
              "      <td>[0.83256593 0.83444956 0.83851387 0.83464155 0...</td>\n",
              "      <td>0.832911</td>\n",
              "      <td>300</td>\n",
              "      <td>NaN</td>\n",
              "    </tr>\n",
              "    <tr>\n",
              "      <th>4</th>\n",
              "      <td>QDA</td>\n",
              "      <td>[0.84344914 0.84187945 0.84814233 0.84615385 0...</td>\n",
              "      <td>0.705611</td>\n",
              "      <td>300</td>\n",
              "      <td>NaN</td>\n",
              "    </tr>\n",
              "    <tr>\n",
              "      <th>5</th>\n",
              "      <td>Decision Tree</td>\n",
              "      <td>[0.93438677 0.92727082 0.92747253 0.93783359 0...</td>\n",
              "      <td>0.944032</td>\n",
              "      <td>300</td>\n",
              "      <td>0.006738</td>\n",
              "    </tr>\n",
              "    <tr>\n",
              "      <th>6</th>\n",
              "      <td>Decision Tree</td>\n",
              "      <td>[0.9746756  0.97268732 0.97080063 0.9755102  0...</td>\n",
              "      <td>0.977939</td>\n",
              "      <td>300</td>\n",
              "      <td>0.000912</td>\n",
              "    </tr>\n",
              "  </tbody>\n",
              "</table>\n",
              "</div>\n",
              "      <button class=\"colab-df-convert\" onclick=\"convertToInteractive('df-46ed82e6-f324-41fc-a3b0-4bccdfb358b3')\"\n",
              "              title=\"Convert this dataframe to an interactive table.\"\n",
              "              style=\"display:none;\">\n",
              "        \n",
              "  <svg xmlns=\"http://www.w3.org/2000/svg\" height=\"24px\"viewBox=\"0 0 24 24\"\n",
              "       width=\"24px\">\n",
              "    <path d=\"M0 0h24v24H0V0z\" fill=\"none\"/>\n",
              "    <path d=\"M18.56 5.44l.94 2.06.94-2.06 2.06-.94-2.06-.94-.94-2.06-.94 2.06-2.06.94zm-11 1L8.5 8.5l.94-2.06 2.06-.94-2.06-.94L8.5 2.5l-.94 2.06-2.06.94zm10 10l.94 2.06.94-2.06 2.06-.94-2.06-.94-.94-2.06-.94 2.06-2.06.94z\"/><path d=\"M17.41 7.96l-1.37-1.37c-.4-.4-.92-.59-1.43-.59-.52 0-1.04.2-1.43.59L10.3 9.45l-7.72 7.72c-.78.78-.78 2.05 0 2.83L4 21.41c.39.39.9.59 1.41.59.51 0 1.02-.2 1.41-.59l7.78-7.78 2.81-2.81c.8-.78.8-2.07 0-2.86zM5.41 20L4 18.59l7.72-7.72 1.47 1.35L5.41 20z\"/>\n",
              "  </svg>\n",
              "      </button>\n",
              "      \n",
              "  <style>\n",
              "    .colab-df-container {\n",
              "      display:flex;\n",
              "      flex-wrap:wrap;\n",
              "      gap: 12px;\n",
              "    }\n",
              "\n",
              "    .colab-df-convert {\n",
              "      background-color: #E8F0FE;\n",
              "      border: none;\n",
              "      border-radius: 50%;\n",
              "      cursor: pointer;\n",
              "      display: none;\n",
              "      fill: #1967D2;\n",
              "      height: 32px;\n",
              "      padding: 0 0 0 0;\n",
              "      width: 32px;\n",
              "    }\n",
              "\n",
              "    .colab-df-convert:hover {\n",
              "      background-color: #E2EBFA;\n",
              "      box-shadow: 0px 1px 2px rgba(60, 64, 67, 0.3), 0px 1px 3px 1px rgba(60, 64, 67, 0.15);\n",
              "      fill: #174EA6;\n",
              "    }\n",
              "\n",
              "    [theme=dark] .colab-df-convert {\n",
              "      background-color: #3B4455;\n",
              "      fill: #D2E3FC;\n",
              "    }\n",
              "\n",
              "    [theme=dark] .colab-df-convert:hover {\n",
              "      background-color: #434B5C;\n",
              "      box-shadow: 0px 1px 3px 1px rgba(0, 0, 0, 0.15);\n",
              "      filter: drop-shadow(0px 1px 2px rgba(0, 0, 0, 0.3));\n",
              "      fill: #FFFFFF;\n",
              "    }\n",
              "  </style>\n",
              "\n",
              "      <script>\n",
              "        const buttonEl =\n",
              "          document.querySelector('#df-46ed82e6-f324-41fc-a3b0-4bccdfb358b3 button.colab-df-convert');\n",
              "        buttonEl.style.display =\n",
              "          google.colab.kernel.accessAllowed ? 'block' : 'none';\n",
              "\n",
              "        async function convertToInteractive(key) {\n",
              "          const element = document.querySelector('#df-46ed82e6-f324-41fc-a3b0-4bccdfb358b3');\n",
              "          const dataTable =\n",
              "            await google.colab.kernel.invokeFunction('convertToInteractive',\n",
              "                                                     [key], {});\n",
              "          if (!dataTable) return;\n",
              "\n",
              "          const docLinkHtml = 'Like what you see? Visit the ' +\n",
              "            '<a target=\"_blank\" href=https://colab.research.google.com/notebooks/data_table.ipynb>data table notebook</a>'\n",
              "            + ' to learn more about interactive tables.';\n",
              "          element.innerHTML = '';\n",
              "          dataTable['output_type'] = 'display_data';\n",
              "          await google.colab.output.renderOutput(dataTable, element);\n",
              "          const docLink = document.createElement('div');\n",
              "          docLink.innerHTML = docLinkHtml;\n",
              "          element.appendChild(docLink);\n",
              "        }\n",
              "      </script>\n",
              "    </div>\n",
              "  </div>\n",
              "  "
            ],
            "text/plain": [
              "      classifier  ... hiperparameters\n",
              "0       Logistic  ...        0.000912\n",
              "1            SVC  ...        0.000912\n",
              "2            SVC  ...        0.000912\n",
              "3            LDA  ...             NaN\n",
              "4            QDA  ...             NaN\n",
              "5  Decision Tree  ...        0.006738\n",
              "6  Decision Tree  ...        0.000912\n",
              "\n",
              "[7 rows x 5 columns]"
            ]
          },
          "metadata": {}
        }
      ]
    },
    {
      "cell_type": "markdown",
      "metadata": {
        "id": "KAKLtiKpk2II"
      },
      "source": [
        "## Random Forest"
      ]
    },
    {
      "cell_type": "markdown",
      "metadata": {
        "id": "HDYavpWs940V"
      },
      "source": [
        "### Grid search"
      ]
    },
    {
      "cell_type": "code",
      "execution_count": null,
      "metadata": {
        "id": "6yjPjhG5k2IJ"
      },
      "outputs": [],
      "source": [
        "cv = 5\n",
        "# za n_estimators dodani su 75 i 125\n",
        "# za max_depth dodani su 1, 3 i 8\n",
        "# za max_features dodani su 7 i 10\n",
        "\n",
        "param_grid = [{'n_estimators': [50,75, 100, 125, 150, 175], 'max_depth': [1,3,5, 7, 8, 10, None], 'max_features': [5,7, int(math.sqrt(n_of_features)),10, 15]}]\n",
        "\n",
        "model = RandomForestClassifier()\n",
        "\n",
        "clf = GridSearchCV(model, param_grid, cv=5, scoring='f1_macro')\n",
        "clf.fit(X_train, y_train)\n",
        "model_gs = clf.best_estimator_\n",
        "\n",
        "print(clf.best_params_)\n",
        "print(clf.best_score_)"
      ]
    },
    {
      "cell_type": "code",
      "execution_count": null,
      "metadata": {
        "id": "OvtsZVD7k2IJ"
      },
      "outputs": [],
      "source": [
        "y_pred = model_gs.predict(X_test)\n",
        "\n",
        "f1 = f1_score(y_test, y_pred, average='macro')\n",
        "acc = accuracy_score(y_test, y_pred)\n",
        "print(f\"Accuracy: {acc}\")\n",
        "print(f\"F1: {f1}\")\n",
        "\n",
        "df = {'classifier': 'Random Forest', 'f1': f1, 'accuracy': acc, 'time_window': 300, 'hiperparameters': f\"Max depth: {clf.best_params_['max_depth']}, max features: {clf.best_params_['max_features']}, num trees: {clf.best_params_['n_estimators']}\"}\n",
        "\n",
        "results = results.append(df, ignore_index=True)\n",
        "\n"
      ]
    },
    {
      "cell_type": "code",
      "execution_count": null,
      "metadata": {
        "id": "7HldHWwRf0oo"
      },
      "outputs": [],
      "source": [
        "cv=cross_val_score(model, X_test, y_test)\n",
        "print(f\"Cross value score: {cv}\")\n",
        "\n",
        "df_new={'classifier': 'Random Forest', 'cross_val_score': cv, 'accuracy': acc, 'time_window': 300, 'hiperparameters': f\"Max depth: {clf.best_params_['max_depth']}, max features: {clf.best_params_['max_features']}, num trees: {clf.best_params_['n_estimators']}\"}\n",
        "results_new=results_new.append(d_new, ignore_index=True)"
      ]
    },
    {
      "cell_type": "markdown",
      "metadata": {
        "id": "qMZIQYNh-Asj"
      },
      "source": [
        "### Randomized search"
      ]
    },
    {
      "cell_type": "code",
      "execution_count": null,
      "metadata": {
        "id": "L0o37aL6-EGb"
      },
      "outputs": [],
      "source": [
        "cv = 5\n",
        "# za n_estimators dodani su 75 i 125\n",
        "# za max_depth dodani su 1, 3 i 8\n",
        "# za max_features dodani su 7 i 10\n",
        "\n",
        "param_grid = [{'n_estimators': [50,75, 100, 125, 150, 175], 'max_depth': [1,3,5, 7, 8, 10, None], 'max_features': [5,7, int(math.sqrt(n_of_features)),10, 15]}]\n",
        "\n",
        "\n",
        "model = RandomForestClassifier()\n",
        "\n",
        "clf = RandomizedSearchCV(model, param_grid, cv=5, scoring='f1_macro')\n",
        "clf.fit(X_train, y_train)\n",
        "model_rs = clf.best_estimator_\n",
        "\n",
        "print(clf.best_params_)\n",
        "print(clf.best_score_)"
      ]
    },
    {
      "cell_type": "code",
      "execution_count": null,
      "metadata": {
        "id": "Rza3jXZc-EGc"
      },
      "outputs": [],
      "source": [
        "y_pred = model_rs.predict(X_test)\n",
        "\n",
        "f1 = f1_score(y_test, y_pred, average='macro')\n",
        "acc = accuracy_score(y_test, y_pred)\n",
        "print(f\"Accuracy: {acc}\")\n",
        "print(f\"F1: {f1}\")\n",
        "\n",
        "df = {'classifier': 'Random Forest', 'f1': f1, 'accuracy': acc, 'time_window': 300, 'hiperparameters': f\"Max depth: {clf.best_params_['max_depth']}, max features: {clf.best_params_['max_features']}, num trees: {clf.best_params_['n_estimators']}\"}\n",
        "\n",
        "results = results.append(df, ignore_index=True)\n",
        "\n"
      ]
    },
    {
      "cell_type": "code",
      "execution_count": null,
      "metadata": {
        "id": "PQR0k8nfgDAs"
      },
      "outputs": [],
      "source": [
        "cv=cross_val_score(model, X_test, y_test)\n",
        "print(f\"Cross value score: {cv}\")\n",
        "\n",
        "df_new={'classifier': 'Random Forest', 'cross_val_score': cv, 'accuracy': acc, 'time_window': 300, 'hiperparameters': f\"Max depth: {clf.best_params_['max_depth']}, max features: {clf.best_params_['max_features']}, num trees: {clf.best_params_['n_estimators']}\"}\n",
        "results_new=results_new.append(d_new, ignore_index=True)"
      ]
    },
    {
      "cell_type": "markdown",
      "metadata": {
        "id": "BFhqVl3gk5aX"
      },
      "source": [
        "## AdaBoost"
      ]
    },
    {
      "cell_type": "markdown",
      "metadata": {
        "id": "fTUzrfpR-Jdz"
      },
      "source": [
        "### Grid search"
      ]
    },
    {
      "cell_type": "code",
      "execution_count": null,
      "metadata": {
        "id": "73wteEr5k5aY"
      },
      "outputs": [],
      "source": [
        "cv = 5\n",
        "# za n_estimators dodani su 150 i 475\n",
        "# za max_depth dodani su 7 i 10\n",
        "# za learning_rate dodani su 0.05 i 0.5\n",
        "\n",
        "param_grid = [{'n_estimators': [100,150, 250, 400, 475, 550], 'max_depth': [1, 3, 5,7,10], 'learning_rate': [0.01, 0.05, 0.1, 0.5, 1]}]\n",
        "\n",
        "model = AdaBoostClassifier()\n",
        "\n",
        "clf = GridSearchCV(model, param_grid, cv=5, scoring='f1_macro')\n",
        "clf.fit(X_train, y_train)\n",
        "model_gs = clf.best_estimator_\n",
        "\n",
        "print(clf.best_params_)\n",
        "print(clf.best_score_)"
      ]
    },
    {
      "cell_type": "code",
      "execution_count": null,
      "metadata": {
        "id": "uUQK1ueNk5aY"
      },
      "outputs": [],
      "source": [
        "y_pred = model_gs.predict(X_test)\n",
        "\n",
        "f1 = f1_score(y_test, y_pred, average='macro')\n",
        "acc = accuracy_score(y_test, y_pred)\n",
        "print(f\"Accuracy: {acc}\")\n",
        "print(f\"F1: {f1}\")\n",
        "\n",
        "df2 = {'classifier': 'AdaBoost', 'f1': f1, 'accuracy': acc, 'time_window': 300, 'hiperparameters': f\"Max depth: {clf.best_params_['max_depth']}, num trees: {clf.best_params_['n_estimators']}, learning rate: {clf.best_params_['learning_rate']}\"}\n",
        "\n",
        "results = results.append(df2, ignore_index=True)"
      ]
    },
    {
      "cell_type": "code",
      "execution_count": null,
      "metadata": {
        "id": "UT8nrsFBgVwN"
      },
      "outputs": [],
      "source": [
        "cv=cross_val_score(model, X_test, y_test)\n",
        "print(f\"Cross value score: {cv}\")\n",
        "\n",
        "df_new2={'classifier': 'AdaBoost', 'cross_val_score': cv, 'accuracy': acc, 'time_window': 300, 'hiperparameters': f\"Max depth: {clf.best_params_['max_depth']}, num trees: {clf.best_params_['n_estimators']}, learning rate: {clf.best_params_['learning_rate']}\"}\n",
        "results_new=results_new.append(d_new2, ignore_index=True)"
      ]
    },
    {
      "cell_type": "markdown",
      "metadata": {
        "id": "qcxfwAii-NM7"
      },
      "source": [
        "### Randomized search"
      ]
    },
    {
      "cell_type": "code",
      "execution_count": null,
      "metadata": {
        "id": "zAIhClK4-Ov7"
      },
      "outputs": [],
      "source": [
        "cv = 5\n",
        "\n",
        "# za n_estimators dodani su 150 i 475\n",
        "# za max_depth dodani su 7 i 10\n",
        "# za learning_rate dodani su 0.05 i 0.5\n",
        "\n",
        "param_grid = [{'n_estimators': [100,150, 250, 400, 475, 550], 'max_depth': [1, 3, 5,7,10], 'learning_rate': [0.01, 0.05, 0.1, 0.5, 1]}]\n",
        "\n",
        "model = AdaBoostClassifier()\n",
        "\n",
        "clf = RandomizedSearchCV(model, param_grid, cv=5, scoring='f1_macro')\n",
        "clf.fit(X_train, y_train)\n",
        "model_rs = clf.best_estimator_\n",
        "\n",
        "print(clf.best_params_)\n",
        "print(clf.best_score_)"
      ]
    },
    {
      "cell_type": "code",
      "execution_count": null,
      "metadata": {
        "id": "rZpUgPnX-Ov9"
      },
      "outputs": [],
      "source": [
        "y_pred = model_rs.predict(X_test)\n",
        "\n",
        "f1 = f1_score(y_test, y_pred, average='macro')\n",
        "acc = accuracy_score(y_test, y_pred)\n",
        "print(f\"Accuracy: {acc}\")\n",
        "print(f\"F1: {f1}\")\n",
        "\n",
        "df = {'classifier': 'AdaBoost', 'f1': f1, 'accuracy': acc, 'time_window': 300, 'hiperparameters': f\"Max depth: {clf.best_params_['max_depth']}, num trees: {clf.best_params_['n_estimators']}, learning rate: {clf.best_params_['learning_rate']}\"}\n",
        "\n",
        "results = results.append(df, ignore_index=True)"
      ]
    },
    {
      "cell_type": "code",
      "execution_count": null,
      "metadata": {
        "id": "RpmCA0cggkF4"
      },
      "outputs": [],
      "source": [
        "cv=cross_val_score(model, X_test, y_test)\n",
        "print(f\"Cross value score: {cv}\")\n",
        "\n",
        "df_new={'classifier': 'AdaBoost', 'cross_val_score': cv, 'accuracy': acc, 'time_window': 300, 'hiperparameters': f\"Max depth: {clf.best_params_['max_depth']}, num trees: {clf.best_params_['n_estimators']}, learning rate: {clf.best_params_['learning_rate']}\"}\n",
        "results_new=results_new.append(df_new, ignore_index=True)"
      ]
    },
    {
      "cell_type": "markdown",
      "metadata": {
        "id": "0kyG0UZhTbBA"
      },
      "source": [
        "Vrsta istraživanja provedena u članku prema:\n",
        "  - svrsi: Primijenjeno istraživanje - istraživanje nepoželjnih događaja u radu naftnih bušotina u svrhu izrade modela koji može predvidjeti koji nepoželjan događaj se događa u danom trenutku na osnovu podataka očitanih sa senzora\n",
        "  - izvoru informacija: Sekundarno istraživanje - korišten je ranije sastavljen skup podataka od strane drugih/e osoba/e\n",
        "  - vremenu provedbe: Longitudinalno istraživanje - promatraju se vrijednosti dobivene od senzora u određenom vremenskom razdoblju\n",
        "  - načinu prikupljanja: Dokumentarno istraživanje - sustavno su pregledane postojeće informacije i postojeći podaci o temi\n",
        "  - vrsti korištenih podataka: Kvantitativno istraživanje - prikupljeni podaci su direktno očitani sa senzora pa tako skup podataka sadrži isključivo numeričke vrijednosti\n",
        "  - stupnju manipulacije varijablama: Promatračko istraživanje - u članku su samo korišteni podaci koji su već postojali, ako gledamo same podatke, mogli bi reći da ima i elemenata kvazi-eksperimentalnog istraživanja jer su dodani mnogi simulirani podaci\n",
        "  - dubini: elementi Objašnjavačkog i Korelacijskog istraživanja - cilj je definirati odnos između senzorskih varijabli i nepoželjnih događaja, ali i uspostavljanje uzročno-posljedičnih veza i pružanje dodatnih informacija o temi koju članak obrađuje\n",
        "  - vrsti zaključka: Deduktivno istraživanje - samom izradom modela za klasifikaciju uvode se poveznice i zaključci o odnosu između ulaznih varijabli i događaja koji se predviđa\n",
        "\n",
        "Način na koji su podaci za članak prikupljeni najviše nalikuje operacijskom istraživanju jer se promatraju događaji koji se stvarno događaju u radu naftnih bušotina.\n",
        "\n",
        "Podaci su prikupljeni na etičan način. Nisam pronašao da je navedeno sa kojih je naftnih bušotina obavljeno prikupljanje podataka. To je dobro jer bi se u suprotnom možda moglo iskoristiti znanja iz članka za namjerno prouzročiti probleme da danoj naftnoj bušotini.\n"
      ]
    }
  ],
  "metadata": {
    "colab": {
      "collapsed_sections": [],
      "name": "uzop_projekt_rezultati.ipynb",
      "provenance": []
    },
    "kernelspec": {
      "display_name": "Python 3",
      "language": "python",
      "name": "python3"
    },
    "language_info": {
      "codemirror_mode": {
        "name": "ipython",
        "version": 3
      },
      "file_extension": ".py",
      "mimetype": "text/x-python",
      "name": "python",
      "nbconvert_exporter": "python",
      "pygments_lexer": "ipython3",
      "version": "3.8.8"
    },
    "toc": {
      "base_numbering": 1,
      "nav_menu": {},
      "number_sections": false,
      "sideBar": true,
      "skip_h1_title": false,
      "title_cell": "Sumário",
      "title_sidebar": "Sumário",
      "toc_cell": false,
      "toc_position": {
        "height": "calc(100% - 180px)",
        "left": "10px",
        "top": "150px",
        "width": "165px"
      },
      "toc_section_display": true,
      "toc_window_display": false
    }
  },
  "nbformat": 4,
  "nbformat_minor": 0
}