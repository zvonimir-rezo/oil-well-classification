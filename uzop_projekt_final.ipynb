{
  "cells": [
    {
      "cell_type": "code",
      "execution_count": 1,
      "metadata": {
        "colab": {
          "base_uri": "https://localhost:8080/"
        },
        "id": "3OrcGLUXuEcN",
        "outputId": "2e7cd6fa-e577-4e51-c3b1-6f36950156c6"
      },
      "outputs": [
        {
          "output_type": "stream",
          "name": "stdout",
          "text": [
            "Mounted at /content/drive\n"
          ]
        }
      ],
      "source": [
        "from google.colab import drive\n",
        "drive.mount('/content/drive')"
      ]
    },
    {
      "cell_type": "code",
      "execution_count": 5,
      "metadata": {
        "colab": {
          "base_uri": "https://localhost:8080/"
        },
        "id": "gesuy4xSvIm0",
        "outputId": "85da9d47-99e9-4128-e357-e2eff91807a9"
      },
      "outputs": [
        {
          "output_type": "stream",
          "name": "stdout",
          "text": [
            "/content/drive/MyDrive/data\n"
          ]
        }
      ],
      "source": [
        "%cd drive/MyDrive/data/"
      ]
    },
    {
      "cell_type": "code",
      "execution_count": null,
      "metadata": {
        "id": "ey1Fku0FnXMQ"
      },
      "outputs": [],
      "source": [
        "!pip install tsfresh"
      ]
    },
    {
      "cell_type": "code",
      "execution_count": 1,
      "metadata": {
        "id": "l5qqowT8oHMk",
        "variables": {
          "import datetime;import locale;locale.setlocale(locale.LC_ALL, 'portuguese_brazil');datetime.date.today().strftime('%d de %B de %Y')": "05 de agosto de 2018"
        }
      },
      "outputs": [],
      "source": [
        "import numpy as np\n",
        "import pandas as pd\n",
        "import matplotlib.pyplot as plt\n",
        "import seaborn as sb\n",
        "import os\n",
        "import random\n",
        "import math\n",
        "from tsfresh.feature_extraction import extract_features, ComprehensiveFCParameters\n",
        "from tsfresh import select_features\n",
        "from tsfresh.utilities.dataframe_functions import impute\n",
        "\n",
        "from sklearn import preprocessing\n",
        "from sklearn.linear_model import LogisticRegression, SGDClassifier\n",
        "from sklearn.svm import SVC\n",
        "from sklearn.discriminant_analysis import LinearDiscriminantAnalysis, QuadraticDiscriminantAnalysis\n",
        "from sklearn.tree import DecisionTreeClassifier\n",
        "from sklearn.ensemble import RandomForestClassifier, AdaBoostClassifier\n",
        "from sklearn.model_selection import GridSearchCV, train_test_split, RandomizedSearchCV, cross_val_score\n",
        "from sklearn.metrics import accuracy_score, f1_score, make_scorer, confusion_matrix\n",
        "from sklearn.discriminant_analysis  import LinearDiscriminantAnalysis, QuadraticDiscriminantAnalysis"
      ]
    },
    {
      "cell_type": "code",
      "execution_count": 2,
      "metadata": {
        "id": "iLaXSRg3oHMl"
      },
      "outputs": [],
      "source": [
        "\n",
        "event_names = {0: 'Normal',\n",
        "                1: 'Abrupt Increase of BSW',\n",
        "                2: 'Spurious Closure of DHSV',\n",
        "                3: 'Severe Slugging',\n",
        "                4: 'Flow Instability',\n",
        "                5: 'Rapid Productivity Loss',\n",
        "                6: 'Quick Restriction in PCK',\n",
        "                7: 'Hydrate in Production Line'\n",
        "               }\n",
        "\n",
        "fc_parameters = {\n",
        "    \"mean\": None,\n",
        "    \"median\": None,\n",
        "    \"variance\": None,\n",
        "    \"skewness\": None,\n",
        "    \"kurtosis\": None,\n",
        "    \"fft_aggregated\": [{'aggtype': 'centroid'}, {'aggtype': 'variance'}, {'aggtype': 'skew'}, {'aggtype': 'kurtosis'}],\n",
        "    \"maximum\": None,\n",
        "    \"minimum\": None,\n",
        "    \"quantile\": [{'q': 0.1}, {'q': 0.2}, {'q': 0.3}, {'q': 0.4}, {'q': 0.6}, {'q': 0.7}, {'q': 0.8}, {'q': 0.9}],\n",
        "    \"variation_coefficient\": None,\n",
        "    \"mean_change\": None,\n",
        "    \"mean_second_derivative_central\": None,\n",
        "    \"friedrich_coefficients\": [{'coeff': 1, 'm': 1, 'r': 30}, {'coeff': 1, 'm': 3, 'r': 30}],\n",
        "}\n",
        "\n",
        "standard_scaler = preprocessing.StandardScaler()\n",
        "minmax_scaler = preprocessing.MinMaxScaler()\n"
      ]
    },
    {
      "cell_type": "markdown",
      "metadata": {
        "id": "id9vzkV2oHMq"
      },
      "source": [
        "Delete rows without a class"
      ]
    },
    {
      "cell_type": "code",
      "execution_count": null,
      "metadata": {
        "id": "elJDtBn3pas-"
      },
      "outputs": [],
      "source": [
        "for f in range(0, 9):\n",
        "  path_dir = str(f)\n",
        "  os.mkdir(path_dir + path_dir)\n",
        "  for file in os.listdir(path_dir):\n",
        "    df = pd.read_csv(path_dir + \"/\" + file)\n",
        "    df = df[df['class'].notna()]\n",
        "    df.to_csv(path_dir + path_dir + \"/\" + file, index=False)"
      ]
    },
    {
      "cell_type": "markdown",
      "metadata": {
        "id": "YjHE7fNbXp7H"
      },
      "source": [
        "### Downsampling"
      ]
    },
    {
      "cell_type": "markdown",
      "metadata": {
        "id": "o2AwGyIzDeuf"
      },
      "source": [
        "10 sec"
      ]
    },
    {
      "cell_type": "code",
      "execution_count": null,
      "metadata": {
        "id": "orcskpJRXpRA"
      },
      "outputs": [],
      "source": [
        "for f in range(0, 9):\n",
        "  str_f = str(f)\n",
        "  path_dir = str_f + str_f\n",
        "  os.mkdir(f\"downsampled/{str_f}\")\n",
        "  for file in os.listdir(path_dir):\n",
        "    df = pd.read_csv(path_dir + \"/\" + file)\n",
        "    df['timestamp'] = pd.to_datetime(df['timestamp'])\n",
        "    df = df.resample('10S', on='timestamp').mean()\n",
        "    df.to_csv(f\"downsampled/{str_f}/{file}\", index=False)"
      ]
    },
    {
      "cell_type": "markdown",
      "metadata": {
        "id": "zEFy-s6wDg6v"
      },
      "source": [
        "20 sec\\\n",
        "Pošto sam ja već u prvom dijelu radio 10s downsamplanje, možemo sad na 20"
      ]
    },
    {
      "cell_type": "code",
      "execution_count": null,
      "metadata": {
        "id": "fsoxt9cMDg6w"
      },
      "outputs": [],
      "source": [
        "for f in range(0, 9):\n",
        "  str_f = str(f)\n",
        "  path_dir = str_f + str_f\n",
        "  os.mkdir(f\"downsampled20/{str_f}\")\n",
        "  for file in os.listdir(path_dir):\n",
        "    df = pd.read_csv(path_dir + \"/\" + file)\n",
        "    df['timestamp'] = pd.to_datetime(df['timestamp'])\n",
        "    df = df.resample('20S', on='timestamp').mean()\n",
        "    df.to_csv(f\"downsampled20/{str_f}/{file}\", index=False)"
      ]
    },
    {
      "cell_type": "markdown",
      "metadata": {
        "id": "XZO4RwsTXfUy"
      },
      "source": [
        "### Time window division"
      ]
    },
    {
      "cell_type": "code",
      "execution_count": null,
      "metadata": {
        "id": "d6QYY-MgoHMm"
      },
      "outputs": [],
      "source": [
        "os.mkdir(\"divided300\")\n",
        "\n",
        "### hiperparameter\n",
        "time_window_size = 30\n",
        "\n",
        "for f in range(0, 9):\n",
        "  if f == 7:\n",
        "    continue\n",
        "  path_dir = str(f)\n",
        "  os.mkdir(f\"divided300/{f}\")\n",
        "  for file in os.listdir(f\"downsampled/{f}\"):\n",
        "    if file.startswith('DRAWN'):\n",
        "      continue\n",
        "    df = pd.read_csv(f\"downsampled/{path_dir}/{file}\")\n",
        "    df.drop(columns=['P-JUS-CKGL', 'T-JUS-CKGL', 'QGL'], inplace=True)\n",
        "    df['id'] = 0\n",
        "    row_count = len(df.index)\n",
        "    ts_count = 1\n",
        "    i = 0\n",
        "    while i < row_count:\n",
        "      if i + time_window_size < row_count:\n",
        "        if df['class'].iloc[i] != df['class'].iloc[i+time_window_size]:\n",
        "          tmp = df.loc[i:(i+time_window_size)]\n",
        "          maxi = tmp[['class']].value_counts().index[0]\n",
        "          tmp.loc[df['class'] == maxi, 'id'] = ts_count\n",
        "          df.loc[i:(i+time_window_size), :] = tmp[:]\n",
        "        else:\n",
        "          df.loc[i:(i+time_window_size), 'id'] = ts_count\n",
        "      elif row_count - i >= time_window_size / 2:\n",
        "        df.loc[i:(row_count-1), 'id'] = ts_count\n",
        "      else:\n",
        "        break\n",
        "      i += time_window_size\n",
        "      ts_count += 1\n",
        "\n",
        "    df.to_csv(f\"divided300/{path_dir}/{file}\", index=False)\n"
      ]
    },
    {
      "cell_type": "code",
      "execution_count": null,
      "metadata": {
        "id": "7V5pu9KeOllE"
      },
      "outputs": [],
      "source": [
        "os.mkdir(\"divided600\")\n",
        "\n",
        "### hiperparameter\n",
        "time_window_size = 60\n",
        "\n",
        "for f in range(0, 9):\n",
        "  if f == 7:\n",
        "    continue\n",
        "  path_dir = str(f)\n",
        "  os.mkdir(f\"divided600/{f}\")\n",
        "  for file in os.listdir(f\"downsampled/{f}\"):\n",
        "    if file.startswith('DRAWN'):\n",
        "      continue\n",
        "    df = pd.read_csv(f\"downsampled/{path_dir}/{file}\")\n",
        "    df.drop(columns=['P-JUS-CKGL', 'T-JUS-CKGL', 'QGL'], inplace=True)\n",
        "    df['id'] = 0\n",
        "    row_count = len(df.index)\n",
        "    ts_count = 1\n",
        "    i = 0\n",
        "    while i < row_count:\n",
        "      if i + time_window_size < row_count:\n",
        "        if df['class'].iloc[i] != df['class'].iloc[i+time_window_size]:\n",
        "          tmp = df.loc[i:(i+time_window_size)]\n",
        "          maxi = tmp[['class']].value_counts().index[0]\n",
        "          tmp.loc[df['class'] == maxi, 'id'] = ts_count\n",
        "          df.loc[i:(i+time_window_size), :] = tmp[:]\n",
        "        else:\n",
        "          df.loc[i:(i+time_window_size), 'id'] = ts_count\n",
        "      elif row_count - i >= time_window_size / 2:\n",
        "        df.loc[i:(row_count-1), 'id'] = ts_count\n",
        "      else:\n",
        "        break\n",
        "      i += time_window_size\n",
        "      ts_count += 1\n",
        "\n",
        "    df.to_csv(f\"divided600/{path_dir}/{file}\", index=False)"
      ]
    },
    {
      "cell_type": "code",
      "execution_count": null,
      "metadata": {
        "id": "fIzBYDDnO9UV"
      },
      "outputs": [],
      "source": [
        "os.mkdir(\"divided900\")\n",
        "\n",
        "### hiperparameter\n",
        "time_window_size = 90\n",
        "\n",
        "for f in range(0, 9):\n",
        "  if f == 7:\n",
        "    continue\n",
        "  path_dir = str(f)\n",
        "  os.mkdir(f\"divided900/{f}\")\n",
        "  for file in os.listdir(f\"downsampled/{f}\"):\n",
        "    if file.startswith('DRAWN'):\n",
        "      continue\n",
        "    df = pd.read_csv(f\"downsampled/{path_dir}/{file}\")\n",
        "    df.drop(columns=['P-JUS-CKGL', 'T-JUS-CKGL', 'QGL'], inplace=True)\n",
        "    df['id'] = 0\n",
        "    row_count = len(df.index)\n",
        "    ts_count = 1\n",
        "    i = 0\n",
        "    while i < row_count:\n",
        "      if i + time_window_size < row_count:\n",
        "        if df['class'].iloc[i] != df['class'].iloc[i+time_window_size]:\n",
        "          tmp = df.loc[i:(i+time_window_size)]\n",
        "          maxi = tmp[['class']].value_counts().index[0]\n",
        "          tmp.loc[df['class'] == maxi, 'id'] = ts_count\n",
        "          df.loc[i:(i+time_window_size), :] = tmp[:]\n",
        "        else:\n",
        "          df.loc[i:(i+time_window_size), 'id'] = ts_count\n",
        "      elif row_count - i >= time_window_size / 2:\n",
        "        df.loc[i:(row_count-1), 'id'] = ts_count\n",
        "      else:\n",
        "        break\n",
        "      i += time_window_size\n",
        "      ts_count += 1\n",
        "\n",
        "    df.to_csv(f\"divided900/{path_dir}/{file}\", index=False)"
      ]
    },
    {
      "cell_type": "markdown",
      "metadata": {
        "id": "2q7xokOL66Sl"
      },
      "source": [
        "delete rows with id 0"
      ]
    },
    {
      "cell_type": "code",
      "execution_count": null,
      "metadata": {
        "id": "lUHxALNZ65w9"
      },
      "outputs": [],
      "source": [
        "l = [30, 60, 90]\n",
        "\n",
        "for s in l:\n",
        "  os.mkdir(f\"final{s}0\")\n",
        "\n",
        "  for f in range(0, 9):\n",
        "    if f == 7:\n",
        "      continue\n",
        "    path_dir = str(f)\n",
        "    os.mkdir(f\"final{s}0/{path_dir}\")\n",
        "    for file in os.listdir(f\"divided{s}0/{path_dir}\"):\n",
        "        df = pd.read_csv(f\"divided{s}0/{path_dir}/{file}\")\n",
        "        df = df[df.id != 0]\n",
        "        df.to_csv(f\"final{s}0/{path_dir}/{file}\", index=False)"
      ]
    },
    {
      "cell_type": "markdown",
      "metadata": {
        "id": "RzpF0oz-9Ip2"
      },
      "source": [
        "### Feature extraction"
      ]
    },
    {
      "cell_type": "code",
      "execution_count": null,
      "metadata": {
        "id": "wXHq_099XczX"
      },
      "outputs": [],
      "source": [
        "l = [30, 60, 90]\n",
        "\n",
        "\n",
        "for s in l:\n",
        "  os.mkdir(f\"features{s}0\")\n",
        "\n",
        "  for f in range(0, 9):\n",
        "    if f == 7:\n",
        "      continue\n",
        "    path_dir = str(f)\n",
        "    os.mkdir(f\"features{s}0/{path_dir}\")\n",
        "    for file in os.listdir(f\"final{s}0/{path_dir}\"):\n",
        "        df = pd.read_csv(f\"final{s}0/{path_dir}/{file}\")\n",
        "        try:\n",
        "          df = impute(df)\n",
        "          new_df = extract_features(df, column_id=\"id\", default_fc_parameters=fc_parameters, disable_progressbar=True)\n",
        "          new_df.to_csv(f\"features{s}0/{path_dir}/{file}\", index=False)\n",
        "        except ZeroDivisionError:\n",
        "          print(file)"
      ]
    },
    {
      "cell_type": "markdown",
      "metadata": {
        "id": "bIMPRP-CQZeq"
      },
      "source": [
        "### Feature extraction finalization\n",
        "** everything from now on was done only for 300 seconds time window due to lack of time to execute complex functions, but the procedure is completely same for 600 and 900 seconds time windows"
      ]
    },
    {
      "cell_type": "code",
      "execution_count": null,
      "metadata": {
        "colab": {
          "base_uri": "https://localhost:8080/",
          "height": 273
        },
        "id": "DkL4SV6foHMm",
        "outputId": "56f68b7c-938a-49bb-9453-08c2cd187fcd"
      },
      "outputs": [
        {
          "data": {
            "text/html": [
              "<div>\n",
              "<style scoped>\n",
              "    .dataframe tbody tr th:only-of-type {\n",
              "        vertical-align: middle;\n",
              "    }\n",
              "\n",
              "    .dataframe tbody tr th {\n",
              "        vertical-align: top;\n",
              "    }\n",
              "\n",
              "    .dataframe thead th {\n",
              "        text-align: right;\n",
              "    }\n",
              "</style>\n",
              "<table border=\"1\" class=\"dataframe\">\n",
              "  <thead>\n",
              "    <tr style=\"text-align: right;\">\n",
              "      <th></th>\n",
              "      <th>P-PDG__mean</th>\n",
              "      <th>P-PDG__median</th>\n",
              "      <th>P-PDG__variance</th>\n",
              "      <th>P-PDG__skewness</th>\n",
              "      <th>P-PDG__kurtosis</th>\n",
              "      <th>P-PDG__fft_aggregated__aggtype_\"centroid\"</th>\n",
              "      <th>P-PDG__fft_aggregated__aggtype_\"variance\"</th>\n",
              "      <th>P-PDG__fft_aggregated__aggtype_\"skew\"</th>\n",
              "      <th>P-PDG__fft_aggregated__aggtype_\"kurtosis\"</th>\n",
              "      <th>P-PDG__maximum</th>\n",
              "      <th>P-PDG__minimum</th>\n",
              "      <th>P-PDG__quantile__q_0.1</th>\n",
              "      <th>P-PDG__quantile__q_0.2</th>\n",
              "      <th>P-PDG__quantile__q_0.3</th>\n",
              "      <th>P-PDG__quantile__q_0.4</th>\n",
              "      <th>P-PDG__quantile__q_0.6</th>\n",
              "      <th>P-PDG__quantile__q_0.7</th>\n",
              "      <th>P-PDG__quantile__q_0.8</th>\n",
              "      <th>P-PDG__quantile__q_0.9</th>\n",
              "      <th>P-PDG__variation_coefficient</th>\n",
              "      <th>P-PDG__mean_change</th>\n",
              "      <th>P-PDG__mean_second_derivative_central</th>\n",
              "      <th>P-PDG__friedrich_coefficients__coeff_1__m_1__r_30</th>\n",
              "      <th>P-PDG__friedrich_coefficients__coeff_1__m_3__r_30</th>\n",
              "      <th>P-TPT__mean</th>\n",
              "      <th>P-TPT__median</th>\n",
              "      <th>P-TPT__variance</th>\n",
              "      <th>P-TPT__skewness</th>\n",
              "      <th>P-TPT__kurtosis</th>\n",
              "      <th>P-TPT__fft_aggregated__aggtype_\"centroid\"</th>\n",
              "      <th>P-TPT__fft_aggregated__aggtype_\"variance\"</th>\n",
              "      <th>P-TPT__fft_aggregated__aggtype_\"skew\"</th>\n",
              "      <th>P-TPT__fft_aggregated__aggtype_\"kurtosis\"</th>\n",
              "      <th>P-TPT__maximum</th>\n",
              "      <th>P-TPT__minimum</th>\n",
              "      <th>P-TPT__quantile__q_0.1</th>\n",
              "      <th>P-TPT__quantile__q_0.2</th>\n",
              "      <th>P-TPT__quantile__q_0.3</th>\n",
              "      <th>P-TPT__quantile__q_0.4</th>\n",
              "      <th>P-TPT__quantile__q_0.6</th>\n",
              "      <th>...</th>\n",
              "      <th>P-MON-CKP__minimum</th>\n",
              "      <th>P-MON-CKP__quantile__q_0.1</th>\n",
              "      <th>P-MON-CKP__quantile__q_0.2</th>\n",
              "      <th>P-MON-CKP__quantile__q_0.3</th>\n",
              "      <th>P-MON-CKP__quantile__q_0.4</th>\n",
              "      <th>P-MON-CKP__quantile__q_0.6</th>\n",
              "      <th>P-MON-CKP__quantile__q_0.7</th>\n",
              "      <th>P-MON-CKP__quantile__q_0.8</th>\n",
              "      <th>P-MON-CKP__quantile__q_0.9</th>\n",
              "      <th>P-MON-CKP__variation_coefficient</th>\n",
              "      <th>P-MON-CKP__mean_change</th>\n",
              "      <th>P-MON-CKP__mean_second_derivative_central</th>\n",
              "      <th>P-MON-CKP__friedrich_coefficients__coeff_1__m_1__r_30</th>\n",
              "      <th>P-MON-CKP__friedrich_coefficients__coeff_1__m_3__r_30</th>\n",
              "      <th>T-JUS-CKP__mean</th>\n",
              "      <th>T-JUS-CKP__median</th>\n",
              "      <th>T-JUS-CKP__variance</th>\n",
              "      <th>T-JUS-CKP__skewness</th>\n",
              "      <th>T-JUS-CKP__kurtosis</th>\n",
              "      <th>T-JUS-CKP__fft_aggregated__aggtype_\"centroid\"</th>\n",
              "      <th>T-JUS-CKP__fft_aggregated__aggtype_\"variance\"</th>\n",
              "      <th>T-JUS-CKP__fft_aggregated__aggtype_\"skew\"</th>\n",
              "      <th>T-JUS-CKP__fft_aggregated__aggtype_\"kurtosis\"</th>\n",
              "      <th>T-JUS-CKP__maximum</th>\n",
              "      <th>T-JUS-CKP__minimum</th>\n",
              "      <th>T-JUS-CKP__quantile__q_0.1</th>\n",
              "      <th>T-JUS-CKP__quantile__q_0.2</th>\n",
              "      <th>T-JUS-CKP__quantile__q_0.3</th>\n",
              "      <th>T-JUS-CKP__quantile__q_0.4</th>\n",
              "      <th>T-JUS-CKP__quantile__q_0.6</th>\n",
              "      <th>T-JUS-CKP__quantile__q_0.7</th>\n",
              "      <th>T-JUS-CKP__quantile__q_0.8</th>\n",
              "      <th>T-JUS-CKP__quantile__q_0.9</th>\n",
              "      <th>T-JUS-CKP__variation_coefficient</th>\n",
              "      <th>T-JUS-CKP__mean_change</th>\n",
              "      <th>T-JUS-CKP__mean_second_derivative_central</th>\n",
              "      <th>T-JUS-CKP__friedrich_coefficients__coeff_1__m_1__r_30</th>\n",
              "      <th>T-JUS-CKP__friedrich_coefficients__coeff_1__m_3__r_30</th>\n",
              "      <th>table_class</th>\n",
              "      <th>class</th>\n",
              "    </tr>\n",
              "  </thead>\n",
              "  <tbody>\n",
              "    <tr>\n",
              "      <th>291</th>\n",
              "      <td>26905750.0</td>\n",
              "      <td>26905750.0</td>\n",
              "      <td>0.0</td>\n",
              "      <td>0.0</td>\n",
              "      <td>0.0</td>\n",
              "      <td>0.000000e+00</td>\n",
              "      <td>0.000000e+00</td>\n",
              "      <td>NaN</td>\n",
              "      <td>NaN</td>\n",
              "      <td>26905750.0</td>\n",
              "      <td>26905750.0</td>\n",
              "      <td>26905750.0</td>\n",
              "      <td>26905750.0</td>\n",
              "      <td>26905750.0</td>\n",
              "      <td>26905750.0</td>\n",
              "      <td>26905750.0</td>\n",
              "      <td>26905750.0</td>\n",
              "      <td>26905750.0</td>\n",
              "      <td>26905750.0</td>\n",
              "      <td>0.0</td>\n",
              "      <td>0.0</td>\n",
              "      <td>0.0</td>\n",
              "      <td>NaN</td>\n",
              "      <td>NaN</td>\n",
              "      <td>15709760.0</td>\n",
              "      <td>15709760.0</td>\n",
              "      <td>0.0</td>\n",
              "      <td>0.0</td>\n",
              "      <td>0.0</td>\n",
              "      <td>0.000000e+00</td>\n",
              "      <td>0.000000e+00</td>\n",
              "      <td>NaN</td>\n",
              "      <td>NaN</td>\n",
              "      <td>15709760.0</td>\n",
              "      <td>15709760.0</td>\n",
              "      <td>15709760.0</td>\n",
              "      <td>15709760.0</td>\n",
              "      <td>15709760.0</td>\n",
              "      <td>15709760.0</td>\n",
              "      <td>15709760.0</td>\n",
              "      <td>...</td>\n",
              "      <td>1151445.0</td>\n",
              "      <td>1151445.0</td>\n",
              "      <td>1151445.0</td>\n",
              "      <td>1151445.0</td>\n",
              "      <td>1151445.0</td>\n",
              "      <td>1151445.0</td>\n",
              "      <td>1151445.0</td>\n",
              "      <td>1151445.0</td>\n",
              "      <td>1151445.0</td>\n",
              "      <td>0.0</td>\n",
              "      <td>0.0</td>\n",
              "      <td>0.0</td>\n",
              "      <td>NaN</td>\n",
              "      <td>NaN</td>\n",
              "      <td>84.858910</td>\n",
              "      <td>84.85891</td>\n",
              "      <td>8.077936e-28</td>\n",
              "      <td>0.0</td>\n",
              "      <td>0.0</td>\n",
              "      <td>1.764215e-16</td>\n",
              "      <td>1.411911e-15</td>\n",
              "      <td>NaN</td>\n",
              "      <td>NaN</td>\n",
              "      <td>84.85891</td>\n",
              "      <td>84.858910</td>\n",
              "      <td>84.85891</td>\n",
              "      <td>84.85891</td>\n",
              "      <td>84.85891</td>\n",
              "      <td>84.85891</td>\n",
              "      <td>84.85891</td>\n",
              "      <td>84.85891</td>\n",
              "      <td>84.85891</td>\n",
              "      <td>84.85891</td>\n",
              "      <td>3.349290e-16</td>\n",
              "      <td>0.000000e+00</td>\n",
              "      <td>0.000000e+00</td>\n",
              "      <td>NaN</td>\n",
              "      <td>NaN</td>\n",
              "      <td>1.0</td>\n",
              "      <td>1</td>\n",
              "    </tr>\n",
              "    <tr>\n",
              "      <th>292</th>\n",
              "      <td>26905750.0</td>\n",
              "      <td>26905750.0</td>\n",
              "      <td>0.0</td>\n",
              "      <td>0.0</td>\n",
              "      <td>0.0</td>\n",
              "      <td>0.000000e+00</td>\n",
              "      <td>0.000000e+00</td>\n",
              "      <td>NaN</td>\n",
              "      <td>NaN</td>\n",
              "      <td>26905750.0</td>\n",
              "      <td>26905750.0</td>\n",
              "      <td>26905750.0</td>\n",
              "      <td>26905750.0</td>\n",
              "      <td>26905750.0</td>\n",
              "      <td>26905750.0</td>\n",
              "      <td>26905750.0</td>\n",
              "      <td>26905750.0</td>\n",
              "      <td>26905750.0</td>\n",
              "      <td>26905750.0</td>\n",
              "      <td>0.0</td>\n",
              "      <td>0.0</td>\n",
              "      <td>0.0</td>\n",
              "      <td>NaN</td>\n",
              "      <td>NaN</td>\n",
              "      <td>15709760.0</td>\n",
              "      <td>15709760.0</td>\n",
              "      <td>0.0</td>\n",
              "      <td>0.0</td>\n",
              "      <td>0.0</td>\n",
              "      <td>0.000000e+00</td>\n",
              "      <td>0.000000e+00</td>\n",
              "      <td>NaN</td>\n",
              "      <td>NaN</td>\n",
              "      <td>15709760.0</td>\n",
              "      <td>15709760.0</td>\n",
              "      <td>15709760.0</td>\n",
              "      <td>15709760.0</td>\n",
              "      <td>15709760.0</td>\n",
              "      <td>15709760.0</td>\n",
              "      <td>15709760.0</td>\n",
              "      <td>...</td>\n",
              "      <td>1151445.0</td>\n",
              "      <td>1151445.0</td>\n",
              "      <td>1151445.0</td>\n",
              "      <td>1151445.0</td>\n",
              "      <td>1151445.0</td>\n",
              "      <td>1151445.0</td>\n",
              "      <td>1151445.0</td>\n",
              "      <td>1151445.0</td>\n",
              "      <td>1151445.0</td>\n",
              "      <td>0.0</td>\n",
              "      <td>0.0</td>\n",
              "      <td>0.0</td>\n",
              "      <td>NaN</td>\n",
              "      <td>NaN</td>\n",
              "      <td>84.858917</td>\n",
              "      <td>84.85892</td>\n",
              "      <td>1.941000e-11</td>\n",
              "      <td>0.0</td>\n",
              "      <td>0.0</td>\n",
              "      <td>3.998487e-07</td>\n",
              "      <td>3.188985e-06</td>\n",
              "      <td>NaN</td>\n",
              "      <td>NaN</td>\n",
              "      <td>84.85892</td>\n",
              "      <td>84.858910</td>\n",
              "      <td>84.85891</td>\n",
              "      <td>84.85891</td>\n",
              "      <td>84.85892</td>\n",
              "      <td>84.85892</td>\n",
              "      <td>84.85892</td>\n",
              "      <td>84.85892</td>\n",
              "      <td>84.85892</td>\n",
              "      <td>84.85892</td>\n",
              "      <td>5.191768e-08</td>\n",
              "      <td>3.448276e-07</td>\n",
              "      <td>0.000000e+00</td>\n",
              "      <td>NaN</td>\n",
              "      <td>NaN</td>\n",
              "      <td>1.0</td>\n",
              "      <td>1</td>\n",
              "    </tr>\n",
              "    <tr>\n",
              "      <th>293</th>\n",
              "      <td>26905750.0</td>\n",
              "      <td>26905750.0</td>\n",
              "      <td>0.0</td>\n",
              "      <td>0.0</td>\n",
              "      <td>0.0</td>\n",
              "      <td>0.000000e+00</td>\n",
              "      <td>0.000000e+00</td>\n",
              "      <td>NaN</td>\n",
              "      <td>NaN</td>\n",
              "      <td>26905750.0</td>\n",
              "      <td>26905750.0</td>\n",
              "      <td>26905750.0</td>\n",
              "      <td>26905750.0</td>\n",
              "      <td>26905750.0</td>\n",
              "      <td>26905750.0</td>\n",
              "      <td>26905750.0</td>\n",
              "      <td>26905750.0</td>\n",
              "      <td>26905750.0</td>\n",
              "      <td>26905750.0</td>\n",
              "      <td>0.0</td>\n",
              "      <td>0.0</td>\n",
              "      <td>0.0</td>\n",
              "      <td>NaN</td>\n",
              "      <td>NaN</td>\n",
              "      <td>15709760.0</td>\n",
              "      <td>15709760.0</td>\n",
              "      <td>0.0</td>\n",
              "      <td>0.0</td>\n",
              "      <td>0.0</td>\n",
              "      <td>0.000000e+00</td>\n",
              "      <td>0.000000e+00</td>\n",
              "      <td>NaN</td>\n",
              "      <td>NaN</td>\n",
              "      <td>15709760.0</td>\n",
              "      <td>15709760.0</td>\n",
              "      <td>15709760.0</td>\n",
              "      <td>15709760.0</td>\n",
              "      <td>15709760.0</td>\n",
              "      <td>15709760.0</td>\n",
              "      <td>15709760.0</td>\n",
              "      <td>...</td>\n",
              "      <td>1151445.0</td>\n",
              "      <td>1151445.0</td>\n",
              "      <td>1151445.0</td>\n",
              "      <td>1151445.0</td>\n",
              "      <td>1151445.0</td>\n",
              "      <td>1151445.0</td>\n",
              "      <td>1151445.0</td>\n",
              "      <td>1151445.0</td>\n",
              "      <td>1151445.0</td>\n",
              "      <td>0.0</td>\n",
              "      <td>0.0</td>\n",
              "      <td>0.0</td>\n",
              "      <td>NaN</td>\n",
              "      <td>NaN</td>\n",
              "      <td>84.858920</td>\n",
              "      <td>84.85892</td>\n",
              "      <td>8.077936e-28</td>\n",
              "      <td>0.0</td>\n",
              "      <td>0.0</td>\n",
              "      <td>3.528430e-16</td>\n",
              "      <td>2.823822e-15</td>\n",
              "      <td>NaN</td>\n",
              "      <td>NaN</td>\n",
              "      <td>84.85892</td>\n",
              "      <td>84.858920</td>\n",
              "      <td>84.85892</td>\n",
              "      <td>84.85892</td>\n",
              "      <td>84.85892</td>\n",
              "      <td>84.85892</td>\n",
              "      <td>84.85892</td>\n",
              "      <td>84.85892</td>\n",
              "      <td>84.85892</td>\n",
              "      <td>84.85892</td>\n",
              "      <td>3.349290e-16</td>\n",
              "      <td>0.000000e+00</td>\n",
              "      <td>0.000000e+00</td>\n",
              "      <td>NaN</td>\n",
              "      <td>NaN</td>\n",
              "      <td>1.0</td>\n",
              "      <td>1</td>\n",
              "    </tr>\n",
              "    <tr>\n",
              "      <th>294</th>\n",
              "      <td>26905750.0</td>\n",
              "      <td>26905750.0</td>\n",
              "      <td>0.0</td>\n",
              "      <td>0.0</td>\n",
              "      <td>0.0</td>\n",
              "      <td>0.000000e+00</td>\n",
              "      <td>0.000000e+00</td>\n",
              "      <td>NaN</td>\n",
              "      <td>NaN</td>\n",
              "      <td>26905750.0</td>\n",
              "      <td>26905750.0</td>\n",
              "      <td>26905750.0</td>\n",
              "      <td>26905750.0</td>\n",
              "      <td>26905750.0</td>\n",
              "      <td>26905750.0</td>\n",
              "      <td>26905750.0</td>\n",
              "      <td>26905750.0</td>\n",
              "      <td>26905750.0</td>\n",
              "      <td>26905750.0</td>\n",
              "      <td>0.0</td>\n",
              "      <td>0.0</td>\n",
              "      <td>0.0</td>\n",
              "      <td>NaN</td>\n",
              "      <td>NaN</td>\n",
              "      <td>15709760.0</td>\n",
              "      <td>15709760.0</td>\n",
              "      <td>0.0</td>\n",
              "      <td>0.0</td>\n",
              "      <td>0.0</td>\n",
              "      <td>0.000000e+00</td>\n",
              "      <td>0.000000e+00</td>\n",
              "      <td>NaN</td>\n",
              "      <td>NaN</td>\n",
              "      <td>15709760.0</td>\n",
              "      <td>15709760.0</td>\n",
              "      <td>15709760.0</td>\n",
              "      <td>15709760.0</td>\n",
              "      <td>15709760.0</td>\n",
              "      <td>15709760.0</td>\n",
              "      <td>15709760.0</td>\n",
              "      <td>...</td>\n",
              "      <td>1151445.0</td>\n",
              "      <td>1151445.0</td>\n",
              "      <td>1151445.0</td>\n",
              "      <td>1151445.0</td>\n",
              "      <td>1151445.0</td>\n",
              "      <td>1151445.0</td>\n",
              "      <td>1151445.0</td>\n",
              "      <td>1151445.0</td>\n",
              "      <td>1151445.0</td>\n",
              "      <td>0.0</td>\n",
              "      <td>0.0</td>\n",
              "      <td>0.0</td>\n",
              "      <td>NaN</td>\n",
              "      <td>NaN</td>\n",
              "      <td>84.858930</td>\n",
              "      <td>84.85893</td>\n",
              "      <td>2.610000e-12</td>\n",
              "      <td>0.0</td>\n",
              "      <td>0.0</td>\n",
              "      <td>4.242335e-07</td>\n",
              "      <td>4.383746e-06</td>\n",
              "      <td>NaN</td>\n",
              "      <td>NaN</td>\n",
              "      <td>84.85893</td>\n",
              "      <td>84.858921</td>\n",
              "      <td>84.85893</td>\n",
              "      <td>84.85893</td>\n",
              "      <td>84.85893</td>\n",
              "      <td>84.85893</td>\n",
              "      <td>84.85893</td>\n",
              "      <td>84.85893</td>\n",
              "      <td>84.85893</td>\n",
              "      <td>84.85893</td>\n",
              "      <td>1.903806e-08</td>\n",
              "      <td>3.103448e-07</td>\n",
              "      <td>-1.607143e-07</td>\n",
              "      <td>NaN</td>\n",
              "      <td>NaN</td>\n",
              "      <td>1.0</td>\n",
              "      <td>1</td>\n",
              "    </tr>\n",
              "    <tr>\n",
              "      <th>295</th>\n",
              "      <td>26905750.0</td>\n",
              "      <td>26905750.0</td>\n",
              "      <td>0.0</td>\n",
              "      <td>0.0</td>\n",
              "      <td>0.0</td>\n",
              "      <td>1.451007e-15</td>\n",
              "      <td>1.396462e-14</td>\n",
              "      <td>NaN</td>\n",
              "      <td>NaN</td>\n",
              "      <td>26905750.0</td>\n",
              "      <td>26905750.0</td>\n",
              "      <td>26905750.0</td>\n",
              "      <td>26905750.0</td>\n",
              "      <td>26905750.0</td>\n",
              "      <td>26905750.0</td>\n",
              "      <td>26905750.0</td>\n",
              "      <td>26905750.0</td>\n",
              "      <td>26905750.0</td>\n",
              "      <td>26905750.0</td>\n",
              "      <td>0.0</td>\n",
              "      <td>0.0</td>\n",
              "      <td>0.0</td>\n",
              "      <td>NaN</td>\n",
              "      <td>NaN</td>\n",
              "      <td>15709760.0</td>\n",
              "      <td>15709760.0</td>\n",
              "      <td>0.0</td>\n",
              "      <td>0.0</td>\n",
              "      <td>0.0</td>\n",
              "      <td>8.787279e-16</td>\n",
              "      <td>8.197317e-15</td>\n",
              "      <td>NaN</td>\n",
              "      <td>NaN</td>\n",
              "      <td>15709760.0</td>\n",
              "      <td>15709760.0</td>\n",
              "      <td>15709760.0</td>\n",
              "      <td>15709760.0</td>\n",
              "      <td>15709760.0</td>\n",
              "      <td>15709760.0</td>\n",
              "      <td>15709760.0</td>\n",
              "      <td>...</td>\n",
              "      <td>1151445.0</td>\n",
              "      <td>1151445.0</td>\n",
              "      <td>1151445.0</td>\n",
              "      <td>1151445.0</td>\n",
              "      <td>1151445.0</td>\n",
              "      <td>1151445.0</td>\n",
              "      <td>1151445.0</td>\n",
              "      <td>1151445.0</td>\n",
              "      <td>1151445.0</td>\n",
              "      <td>0.0</td>\n",
              "      <td>0.0</td>\n",
              "      <td>0.0</td>\n",
              "      <td>NaN</td>\n",
              "      <td>NaN</td>\n",
              "      <td>84.858931</td>\n",
              "      <td>84.85893</td>\n",
              "      <td>6.035380e-12</td>\n",
              "      <td>0.0</td>\n",
              "      <td>0.0</td>\n",
              "      <td>4.224114e-07</td>\n",
              "      <td>3.421964e-06</td>\n",
              "      <td>NaN</td>\n",
              "      <td>NaN</td>\n",
              "      <td>84.85894</td>\n",
              "      <td>84.858930</td>\n",
              "      <td>84.85893</td>\n",
              "      <td>84.85893</td>\n",
              "      <td>84.85893</td>\n",
              "      <td>84.85893</td>\n",
              "      <td>84.85893</td>\n",
              "      <td>84.85893</td>\n",
              "      <td>84.85893</td>\n",
              "      <td>84.85893</td>\n",
              "      <td>2.895041e-08</td>\n",
              "      <td>3.333333e-07</td>\n",
              "      <td>4.900295e-16</td>\n",
              "      <td>NaN</td>\n",
              "      <td>NaN</td>\n",
              "      <td>1.0</td>\n",
              "      <td>1</td>\n",
              "    </tr>\n",
              "  </tbody>\n",
              "</table>\n",
              "<p>5 rows × 122 columns</p>\n",
              "</div>"
            ],
            "text/plain": [
              "     P-PDG__mean  P-PDG__median  ...  table_class  class\n",
              "291   26905750.0     26905750.0  ...          1.0      1\n",
              "292   26905750.0     26905750.0  ...          1.0      1\n",
              "293   26905750.0     26905750.0  ...          1.0      1\n",
              "294   26905750.0     26905750.0  ...          1.0      1\n",
              "295   26905750.0     26905750.0  ...          1.0      1\n",
              "\n",
              "[5 rows x 122 columns]"
            ]
          },
          "execution_count": 10,
          "metadata": {},
          "output_type": "execute_result"
        }
      ],
      "source": [
        "l = [300]\n",
        "\n",
        "for s in l:\n",
        "  os.mkdir(f\"final_features{s}\")\n",
        "\n",
        "  for f in range(0, 9):\n",
        "    if f == 7:\n",
        "      continue\n",
        "    path_dir = str(f)\n",
        "    os.mkdir(f\"final_features{s}/{path_dir}\")\n",
        "    for file in os.listdir(f\"features{s}/{path_dir}\"):\n",
        "        df = pd.read_csv(f\"features{s}/{path_dir}/{file}\")\n",
        "        df = df.rename(columns={'class__mean': 'table_class'})\n",
        "        cols = [c for c in df.columns if not c.lower().startswith('class')]\n",
        "        df=df[cols]\n",
        "        df['class'] = f\n",
        "        df.to_csv(f\"final_features{s}/{path_dir}/{file}\", index=False)\n",
        "\n",
        "# random file just to make sure it looks right\n",
        "df = pd.read_csv(\"final_features300/1/SIMULATED_00009.csv\")\n",
        "df.tail()"
      ]
    },
    {
      "cell_type": "markdown",
      "metadata": {
        "id": "ayMh5qUVgjNe"
      },
      "source": [
        "All time windows put into one file (dataframe)"
      ]
    },
    {
      "cell_type": "code",
      "execution_count": null,
      "metadata": {
        "colab": {
          "base_uri": "https://localhost:8080/"
        },
        "id": "VCtOi7VB60nT",
        "outputId": "4f11ae42-3f89-4ab8-8857-f7802180a2c8"
      },
      "outputs": [
        {
          "name": "stdout",
          "output_type": "stream",
          "text": [
            "159256\n"
          ]
        }
      ],
      "source": [
        "os.mkdir(\"one_csv300\")\n",
        "\n",
        "df = pd.DataFrame()\n",
        "for f in range(0, 9):\n",
        "  if f == 7:\n",
        "    continue\n",
        "  path_dir = str(f)\n",
        "  for file in os.listdir(f\"final_features300/{path_dir}\"):\n",
        "      tmp_df = pd.read_csv(f\"final_features300/{path_dir}/{file}\")\n",
        "      df = df.append(tmp_df)\n",
        "df.to_csv(\"one_csv300/all.csv\", index=False)\n",
        "\n",
        "print(len(df.index))"
      ]
    },
    {
      "cell_type": "markdown",
      "metadata": {
        "id": "L9Ca8yhORRfg"
      },
      "source": [
        "Remove features with more than 10% NaN values and correct left over NaN values"
      ]
    },
    {
      "cell_type": "code",
      "execution_count": null,
      "metadata": {
        "id": "GLShH52qI-b3"
      },
      "outputs": [],
      "source": [
        "ndf = pd.read_csv(\"one_csv300/all.csv\")\n",
        "\n",
        "limitPer = len(ndf.index) * .90\n",
        "df = ndf.dropna(thresh=limitPer, axis=1)\n",
        "\n",
        "df = impute(df)\n",
        "\n",
        "\n",
        "y_col = df.loc[:,'class']\n",
        "y = y_col.values\n",
        "\n",
        "X = df.drop(columns=['class', 'table_class'])\n",
        "\n",
        "X_train, X_test, y_train, y_test = train_test_split(X, y, test_size=0.3, random_state=42)\n",
        "\n",
        "# Needed for later\n",
        "n_of_features = len(X_train.columns)"
      ]
    },
    {
      "cell_type": "markdown",
      "metadata": {
        "id": "m2HeqEf3jqCe"
      },
      "source": [
        "### Feature selection"
      ]
    },
    {
      "cell_type": "markdown",
      "metadata": {
        "id": "CLkkiPIBCnfK"
      },
      "source": [
        "Trenutno se podaci dobiveni iz ovog ni ne koriste dalje u radu jer je skoro isto kao i dataset u kojem se izbace stupci sa >= 90% NaN vrijednosti. Možemo probati pokrenuti select_features na datasetu prije izbacivanja stupaca pa usporediti rezultate.\n",
        "---todo---"
      ]
    },
    {
      "cell_type": "code",
      "execution_count": null,
      "metadata": {
        "colab": {
          "base_uri": "https://localhost:8080/",
          "height": 273
        },
        "id": "bF9kqjBOjJwe",
        "outputId": "f1c9df82-d94c-49e1-a150-b759f753c746"
      },
      "outputs": [
        {
          "data": {
            "text/html": [
              "<div>\n",
              "<style scoped>\n",
              "    .dataframe tbody tr th:only-of-type {\n",
              "        vertical-align: middle;\n",
              "    }\n",
              "\n",
              "    .dataframe tbody tr th {\n",
              "        vertical-align: top;\n",
              "    }\n",
              "\n",
              "    .dataframe thead th {\n",
              "        text-align: right;\n",
              "    }\n",
              "</style>\n",
              "<table border=\"1\" class=\"dataframe\">\n",
              "  <thead>\n",
              "    <tr style=\"text-align: right;\">\n",
              "      <th></th>\n",
              "      <th>P-PDG__mean</th>\n",
              "      <th>P-TPT__quantile__q_0.8</th>\n",
              "      <th>P-MON-CKP__quantile__q_0.4</th>\n",
              "      <th>T-JUS-CKP__quantile__q_0.7</th>\n",
              "      <th>T-JUS-CKP__quantile__q_0.6</th>\n",
              "      <th>T-JUS-CKP__quantile__q_0.4</th>\n",
              "      <th>T-JUS-CKP__quantile__q_0.3</th>\n",
              "      <th>T-JUS-CKP__quantile__q_0.2</th>\n",
              "      <th>T-JUS-CKP__quantile__q_0.1</th>\n",
              "      <th>T-JUS-CKP__minimum</th>\n",
              "      <th>T-JUS-CKP__maximum</th>\n",
              "      <th>T-JUS-CKP__fft_aggregated__aggtype_\"centroid\"</th>\n",
              "      <th>T-JUS-CKP__kurtosis</th>\n",
              "      <th>P-TPT__quantile__q_0.7</th>\n",
              "      <th>T-JUS-CKP__median</th>\n",
              "      <th>P-MON-CKP__variation_coefficient</th>\n",
              "      <th>P-MON-CKP__quantile__q_0.9</th>\n",
              "      <th>P-MON-CKP__mean</th>\n",
              "      <th>P-MON-CKP__median</th>\n",
              "      <th>P-MON-CKP__variance</th>\n",
              "      <th>P-MON-CKP__quantile__q_0.8</th>\n",
              "      <th>P-MON-CKP__fft_aggregated__aggtype_\"centroid\"</th>\n",
              "      <th>P-MON-CKP__fft_aggregated__aggtype_\"variance\"</th>\n",
              "      <th>P-MON-CKP__maximum</th>\n",
              "      <th>P-MON-CKP__quantile__q_0.7</th>\n",
              "      <th>P-MON-CKP__quantile__q_0.2</th>\n",
              "      <th>P-MON-CKP__quantile__q_0.3</th>\n",
              "      <th>T-JUS-CKP__mean</th>\n",
              "      <th>P-TPT__quantile__q_0.6</th>\n",
              "      <th>P-TPT__quantile__q_0.9</th>\n",
              "      <th>T-JUS-CKP__quantile__q_0.9</th>\n",
              "      <th>P-PDG__quantile__q_0.9</th>\n",
              "      <th>P-PDG__quantile__q_0.8</th>\n",
              "      <th>P-PDG__quantile__q_0.7</th>\n",
              "      <th>P-PDG__quantile__q_0.6</th>\n",
              "      <th>P-PDG__quantile__q_0.4</th>\n",
              "      <th>P-PDG__quantile__q_0.3</th>\n",
              "      <th>P-PDG__mean_change</th>\n",
              "      <th>P-PDG__quantile__q_0.2</th>\n",
              "      <th>P-PDG__minimum</th>\n",
              "      <th>...</th>\n",
              "      <th>P-TPT__quantile__q_0.3</th>\n",
              "      <th>P-TPT__quantile__q_0.2</th>\n",
              "      <th>P-TPT__quantile__q_0.1</th>\n",
              "      <th>T-JUS-CKP__mean_change</th>\n",
              "      <th>P-TPT__minimum</th>\n",
              "      <th>P-MON-CKP__quantile__q_0.1</th>\n",
              "      <th>T-TPT__variance</th>\n",
              "      <th>T-JUS-CKP__fft_aggregated__aggtype_\"variance\"</th>\n",
              "      <th>P-TPT__fft_aggregated__aggtype_\"variance\"</th>\n",
              "      <th>T-TPT__minimum</th>\n",
              "      <th>T-TPT__quantile__q_0.1</th>\n",
              "      <th>P-TPT__fft_aggregated__aggtype_\"centroid\"</th>\n",
              "      <th>T-TPT__quantile__q_0.2</th>\n",
              "      <th>P-TPT__variance</th>\n",
              "      <th>T-TPT__quantile__q_0.3</th>\n",
              "      <th>T-TPT__quantile__q_0.4</th>\n",
              "      <th>T-TPT__mean</th>\n",
              "      <th>T-TPT__median</th>\n",
              "      <th>T-TPT__quantile__q_0.6</th>\n",
              "      <th>T-TPT__quantile__q_0.7</th>\n",
              "      <th>T-TPT__quantile__q_0.8</th>\n",
              "      <th>T-TPT__quantile__q_0.9</th>\n",
              "      <th>T-TPT__maximum</th>\n",
              "      <th>T-TPT__kurtosis</th>\n",
              "      <th>P-MON-CKP__minimum</th>\n",
              "      <th>P-TPT__variation_coefficient</th>\n",
              "      <th>P-TPT__mean_change</th>\n",
              "      <th>T-JUS-CKP__variance</th>\n",
              "      <th>P-PDG__mean_second_derivative_central</th>\n",
              "      <th>P-PDG__skewness</th>\n",
              "      <th>P-MON-CKP__skewness</th>\n",
              "      <th>T-TPT__mean_change</th>\n",
              "      <th>P-TPT__mean_second_derivative_central</th>\n",
              "      <th>T-JUS-CKP__mean_second_derivative_central</th>\n",
              "      <th>P-TPT__skewness</th>\n",
              "      <th>P-MON-CKP__mean_change</th>\n",
              "      <th>P-MON-CKP__mean_second_derivative_central</th>\n",
              "      <th>T-TPT__mean_second_derivative_central</th>\n",
              "      <th>T-JUS-CKP__skewness</th>\n",
              "      <th>T-TPT__skewness</th>\n",
              "    </tr>\n",
              "  </thead>\n",
              "  <tbody>\n",
              "    <tr>\n",
              "      <th>17406</th>\n",
              "      <td>0.000000e+00</td>\n",
              "      <td>8450720.76</td>\n",
              "      <td>1486365.00</td>\n",
              "      <td>76.595661</td>\n",
              "      <td>76.425254</td>\n",
              "      <td>76.032046</td>\n",
              "      <td>75.983854</td>\n",
              "      <td>75.965904</td>\n",
              "      <td>75.754311</td>\n",
              "      <td>75.418893</td>\n",
              "      <td>77.037954</td>\n",
              "      <td>0.038310</td>\n",
              "      <td>-1.061431</td>\n",
              "      <td>8449157.23</td>\n",
              "      <td>76.212441</td>\n",
              "      <td>0.167693</td>\n",
              "      <td>1910759.08</td>\n",
              "      <td>1.559960e+06</td>\n",
              "      <td>1510773.55</td>\n",
              "      <td>6.843130e+10</td>\n",
              "      <td>1789322.60</td>\n",
              "      <td>1.223463</td>\n",
              "      <td>8.004750</td>\n",
              "      <td>2070159.8</td>\n",
              "      <td>1723183.35</td>\n",
              "      <td>1386606.38</td>\n",
              "      <td>1441544.30</td>\n",
              "      <td>76.298379</td>\n",
              "      <td>8447593.62</td>\n",
              "      <td>8452284.52</td>\n",
              "      <td>76.946960</td>\n",
              "      <td>0.0</td>\n",
              "      <td>0.0</td>\n",
              "      <td>0.0</td>\n",
              "      <td>0.0</td>\n",
              "      <td>0.0</td>\n",
              "      <td>0.0</td>\n",
              "      <td>0.000000</td>\n",
              "      <td>0.0</td>\n",
              "      <td>0.0</td>\n",
              "      <td>...</td>\n",
              "      <td>8442902.87</td>\n",
              "      <td>8441339.32</td>\n",
              "      <td>8440058.10</td>\n",
              "      <td>-0.033675</td>\n",
              "      <td>8438883.4</td>\n",
              "      <td>1186896.34</td>\n",
              "      <td>1.817536e-27</td>\n",
              "      <td>0.288286</td>\n",
              "      <td>0.038795</td>\n",
              "      <td>117.418700</td>\n",
              "      <td>117.418700</td>\n",
              "      <td>0.004713</td>\n",
              "      <td>117.418700</td>\n",
              "      <td>2.085221e+07</td>\n",
              "      <td>117.418700</td>\n",
              "      <td>117.418700</td>\n",
              "      <td>117.418700</td>\n",
              "      <td>117.418700</td>\n",
              "      <td>117.418700</td>\n",
              "      <td>117.418700</td>\n",
              "      <td>117.418700</td>\n",
              "      <td>117.418700</td>\n",
              "      <td>117.41870</td>\n",
              "      <td>0.000000</td>\n",
              "      <td>1044483.6</td>\n",
              "      <td>0.000541</td>\n",
              "      <td>-474.641379</td>\n",
              "      <td>0.210461</td>\n",
              "      <td>0.000000</td>\n",
              "      <td>0.000000</td>\n",
              "      <td>-0.140843</td>\n",
              "      <td>0.000000</td>\n",
              "      <td>31.060714</td>\n",
              "      <td>0.002811</td>\n",
              "      <td>0.060054</td>\n",
              "      <td>21021.503448</td>\n",
              "      <td>4851.892857</td>\n",
              "      <td>0.000000</td>\n",
              "      <td>0.081218</td>\n",
              "      <td>0.000000</td>\n",
              "    </tr>\n",
              "    <tr>\n",
              "      <th>61303</th>\n",
              "      <td>2.533910e+07</td>\n",
              "      <td>14705776.60</td>\n",
              "      <td>1150536.60</td>\n",
              "      <td>84.550734</td>\n",
              "      <td>84.547923</td>\n",
              "      <td>84.542914</td>\n",
              "      <td>84.540731</td>\n",
              "      <td>84.538770</td>\n",
              "      <td>84.537020</td>\n",
              "      <td>84.535475</td>\n",
              "      <td>84.560172</td>\n",
              "      <td>0.000856</td>\n",
              "      <td>-1.138874</td>\n",
              "      <td>14701653.10</td>\n",
              "      <td>84.545312</td>\n",
              "      <td>0.001249</td>\n",
              "      <td>1153101.82</td>\n",
              "      <td>1.151106e+06</td>\n",
              "      <td>1151014.30</td>\n",
              "      <td>2.067932e+06</td>\n",
              "      <td>1152560.08</td>\n",
              "      <td>0.012105</td>\n",
              "      <td>0.103935</td>\n",
              "      <td>1153654.0</td>\n",
              "      <td>1152029.27</td>\n",
              "      <td>1149654.60</td>\n",
              "      <td>1150082.62</td>\n",
              "      <td>84.546224</td>\n",
              "      <td>14697374.60</td>\n",
              "      <td>14709713.30</td>\n",
              "      <td>84.556885</td>\n",
              "      <td>25345148.2</td>\n",
              "      <td>25343620.8</td>\n",
              "      <td>25342109.4</td>\n",
              "      <td>25340606.2</td>\n",
              "      <td>25337602.0</td>\n",
              "      <td>25336090.1</td>\n",
              "      <td>-524.896552</td>\n",
              "      <td>25334567.4</td>\n",
              "      <td>25331479.0</td>\n",
              "      <td>...</td>\n",
              "      <td>14683989.60</td>\n",
              "      <td>14679488.20</td>\n",
              "      <td>14675056.80</td>\n",
              "      <td>0.000852</td>\n",
              "      <td>14670751.0</td>\n",
              "      <td>1149254.58</td>\n",
              "      <td>1.535651e-07</td>\n",
              "      <td>0.007356</td>\n",
              "      <td>0.072890</td>\n",
              "      <td>97.998103</td>\n",
              "      <td>97.998465</td>\n",
              "      <td>0.008491</td>\n",
              "      <td>97.998771</td>\n",
              "      <td>1.672978e+08</td>\n",
              "      <td>97.999017</td>\n",
              "      <td>97.999202</td>\n",
              "      <td>97.999100</td>\n",
              "      <td>97.999328</td>\n",
              "      <td>97.999359</td>\n",
              "      <td>97.999376</td>\n",
              "      <td>97.999395</td>\n",
              "      <td>97.999413</td>\n",
              "      <td>97.99942</td>\n",
              "      <td>0.393255</td>\n",
              "      <td>1148884.0</td>\n",
              "      <td>0.000880</td>\n",
              "      <td>1472.172414</td>\n",
              "      <td>0.000056</td>\n",
              "      <td>0.053571</td>\n",
              "      <td>-0.003655</td>\n",
              "      <td>0.156876</td>\n",
              "      <td>0.000044</td>\n",
              "      <td>-3.625000</td>\n",
              "      <td>0.000011</td>\n",
              "      <td>-0.060737</td>\n",
              "      <td>164.482759</td>\n",
              "      <td>1.200000</td>\n",
              "      <td>-0.000002</td>\n",
              "      <td>0.299220</td>\n",
              "      <td>-1.258982</td>\n",
              "    </tr>\n",
              "    <tr>\n",
              "      <th>71781</th>\n",
              "      <td>1.724138e+07</td>\n",
              "      <td>9988361.10</td>\n",
              "      <td>4072994.58</td>\n",
              "      <td>82.518932</td>\n",
              "      <td>82.302582</td>\n",
              "      <td>81.939266</td>\n",
              "      <td>81.762797</td>\n",
              "      <td>81.586157</td>\n",
              "      <td>81.411432</td>\n",
              "      <td>81.239859</td>\n",
              "      <td>83.343335</td>\n",
              "      <td>0.073964</td>\n",
              "      <td>-1.007254</td>\n",
              "      <td>9982512.19</td>\n",
              "      <td>82.116802</td>\n",
              "      <td>0.000782</td>\n",
              "      <td>4077904.21</td>\n",
              "      <td>4.073798e+06</td>\n",
              "      <td>4074002.35</td>\n",
              "      <td>1.014293e+07</td>\n",
              "      <td>4076943.78</td>\n",
              "      <td>0.007839</td>\n",
              "      <td>0.067556</td>\n",
              "      <td>4078831.8</td>\n",
              "      <td>4075961.32</td>\n",
              "      <td>4070678.20</td>\n",
              "      <td>4071891.91</td>\n",
              "      <td>82.177172</td>\n",
              "      <td>9973937.68</td>\n",
              "      <td>9993623.39</td>\n",
              "      <td>83.044790</td>\n",
              "      <td>17261308.1</td>\n",
              "      <td>17259036.6</td>\n",
              "      <td>17255662.2</td>\n",
              "      <td>17252306.4</td>\n",
              "      <td>17242415.0</td>\n",
              "      <td>17236238.3</td>\n",
              "      <td>-1792.310345</td>\n",
              "      <td>17230240.2</td>\n",
              "      <td>17175492.0</td>\n",
              "      <td>...</td>\n",
              "      <td>9940018.52</td>\n",
              "      <td>9920555.98</td>\n",
              "      <td>9899295.16</td>\n",
              "      <td>0.072534</td>\n",
              "      <td>9876270.9</td>\n",
              "      <td>4069352.15</td>\n",
              "      <td>2.715386e-02</td>\n",
              "      <td>0.632980</td>\n",
              "      <td>0.193219</td>\n",
              "      <td>116.217450</td>\n",
              "      <td>116.226286</td>\n",
              "      <td>0.023704</td>\n",
              "      <td>116.244514</td>\n",
              "      <td>1.286890e+09</td>\n",
              "      <td>116.275134</td>\n",
              "      <td>116.295926</td>\n",
              "      <td>116.375962</td>\n",
              "      <td>116.325650</td>\n",
              "      <td>116.347688</td>\n",
              "      <td>116.378496</td>\n",
              "      <td>116.470724</td>\n",
              "      <td>116.642135</td>\n",
              "      <td>116.82944</td>\n",
              "      <td>1.266330</td>\n",
              "      <td>4067920.1</td>\n",
              "      <td>0.003604</td>\n",
              "      <td>2721.796552</td>\n",
              "      <td>0.370414</td>\n",
              "      <td>-311.053571</td>\n",
              "      <td>-1.537458</td>\n",
              "      <td>-0.182713</td>\n",
              "      <td>0.015277</td>\n",
              "      <td>-300.267857</td>\n",
              "      <td>0.000826</td>\n",
              "      <td>-0.763057</td>\n",
              "      <td>376.265517</td>\n",
              "      <td>-3.394643</td>\n",
              "      <td>0.001412</td>\n",
              "      <td>0.278001</td>\n",
              "      <td>1.448639</td>\n",
              "    </tr>\n",
              "    <tr>\n",
              "      <th>67014</th>\n",
              "      <td>1.766002e+07</td>\n",
              "      <td>10251243.40</td>\n",
              "      <td>4080986.50</td>\n",
              "      <td>81.150253</td>\n",
              "      <td>81.125552</td>\n",
              "      <td>81.073011</td>\n",
              "      <td>81.044834</td>\n",
              "      <td>81.015071</td>\n",
              "      <td>80.984992</td>\n",
              "      <td>80.954754</td>\n",
              "      <td>81.214122</td>\n",
              "      <td>0.009350</td>\n",
              "      <td>-1.194009</td>\n",
              "      <td>10248694.30</td>\n",
              "      <td>81.099835</td>\n",
              "      <td>0.000107</td>\n",
              "      <td>4081510.19</td>\n",
              "      <td>4.081030e+06</td>\n",
              "      <td>4081140.70</td>\n",
              "      <td>1.891861e+05</td>\n",
              "      <td>4081440.60</td>\n",
              "      <td>0.001052</td>\n",
              "      <td>0.009049</td>\n",
              "      <td>4081565.7</td>\n",
              "      <td>4081356.87</td>\n",
              "      <td>4080617.10</td>\n",
              "      <td>4080821.04</td>\n",
              "      <td>81.094266</td>\n",
              "      <td>10246671.40</td>\n",
              "      <td>10256388.90</td>\n",
              "      <td>81.194083</td>\n",
              "      <td>17671779.2</td>\n",
              "      <td>17670667.2</td>\n",
              "      <td>17666907.6</td>\n",
              "      <td>17662427.0</td>\n",
              "      <td>17658451.4</td>\n",
              "      <td>17653156.0</td>\n",
              "      <td>1059.827586</td>\n",
              "      <td>17648790.4</td>\n",
              "      <td>17644691.0</td>\n",
              "      <td>...</td>\n",
              "      <td>10234971.50</td>\n",
              "      <td>10231461.80</td>\n",
              "      <td>10226157.40</td>\n",
              "      <td>-0.008944</td>\n",
              "      <td>10223049.0</td>\n",
              "      <td>4080369.99</td>\n",
              "      <td>5.573198e-02</td>\n",
              "      <td>0.080323</td>\n",
              "      <td>0.090252</td>\n",
              "      <td>103.259190</td>\n",
              "      <td>103.355824</td>\n",
              "      <td>0.010615</td>\n",
              "      <td>103.393666</td>\n",
              "      <td>1.211413e+08</td>\n",
              "      <td>103.446261</td>\n",
              "      <td>103.600796</td>\n",
              "      <td>103.647993</td>\n",
              "      <td>103.647065</td>\n",
              "      <td>103.684092</td>\n",
              "      <td>103.805407</td>\n",
              "      <td>103.914134</td>\n",
              "      <td>103.975050</td>\n",
              "      <td>104.01567</td>\n",
              "      <td>-1.329784</td>\n",
              "      <td>4080105.7</td>\n",
              "      <td>0.001075</td>\n",
              "      <td>-1287.689655</td>\n",
              "      <td>0.006110</td>\n",
              "      <td>-8.535714</td>\n",
              "      <td>-0.024401</td>\n",
              "      <td>-0.639470</td>\n",
              "      <td>-0.024668</td>\n",
              "      <td>-3.839286</td>\n",
              "      <td>-0.000064</td>\n",
              "      <td>-0.023856</td>\n",
              "      <td>-50.344828</td>\n",
              "      <td>-1.355357</td>\n",
              "      <td>-0.000084</td>\n",
              "      <td>-0.179430</td>\n",
              "      <td>0.084830</td>\n",
              "    </tr>\n",
              "    <tr>\n",
              "      <th>73322</th>\n",
              "      <td>1.847968e+07</td>\n",
              "      <td>10001744.60</td>\n",
              "      <td>4077883.82</td>\n",
              "      <td>97.684939</td>\n",
              "      <td>97.597925</td>\n",
              "      <td>97.396415</td>\n",
              "      <td>97.278988</td>\n",
              "      <td>97.148772</td>\n",
              "      <td>97.004600</td>\n",
              "      <td>96.845966</td>\n",
              "      <td>97.910424</td>\n",
              "      <td>0.031835</td>\n",
              "      <td>-1.030780</td>\n",
              "      <td>10000837.70</td>\n",
              "      <td>97.502190</td>\n",
              "      <td>0.000076</td>\n",
              "      <td>4078086.49</td>\n",
              "      <td>4.077836e+06</td>\n",
              "      <td>4077946.40</td>\n",
              "      <td>9.648904e+04</td>\n",
              "      <td>4078071.20</td>\n",
              "      <td>0.000686</td>\n",
              "      <td>0.005829</td>\n",
              "      <td>4078097.4</td>\n",
              "      <td>4078040.03</td>\n",
              "      <td>4077726.16</td>\n",
              "      <td>4077812.21</td>\n",
              "      <td>97.457734</td>\n",
              "      <td>9999693.08</td>\n",
              "      <td>10002279.00</td>\n",
              "      <td>97.839616</td>\n",
              "      <td>18516198.7</td>\n",
              "      <td>18509485.6</td>\n",
              "      <td>18501157.2</td>\n",
              "      <td>18492061.4</td>\n",
              "      <td>18472498.2</td>\n",
              "      <td>18462134.7</td>\n",
              "      <td>-3343.344828</td>\n",
              "      <td>18451235.8</td>\n",
              "      <td>18423912.0</td>\n",
              "      <td>...</td>\n",
              "      <td>9992980.62</td>\n",
              "      <td>9989450.94</td>\n",
              "      <td>9985934.39</td>\n",
              "      <td>0.036705</td>\n",
              "      <td>9977843.9</td>\n",
              "      <td>4077398.23</td>\n",
              "      <td>7.515302e-05</td>\n",
              "      <td>0.273443</td>\n",
              "      <td>0.022000</td>\n",
              "      <td>121.070830</td>\n",
              "      <td>121.078345</td>\n",
              "      <td>0.003094</td>\n",
              "      <td>121.080602</td>\n",
              "      <td>4.719754e+07</td>\n",
              "      <td>121.084227</td>\n",
              "      <td>121.087466</td>\n",
              "      <td>121.089632</td>\n",
              "      <td>121.090925</td>\n",
              "      <td>121.094378</td>\n",
              "      <td>121.096708</td>\n",
              "      <td>121.098470</td>\n",
              "      <td>121.099713</td>\n",
              "      <td>121.10075</td>\n",
              "      <td>-1.050281</td>\n",
              "      <td>4076859.8</td>\n",
              "      <td>0.000687</td>\n",
              "      <td>285.986207</td>\n",
              "      <td>0.098587</td>\n",
              "      <td>-74.928571</td>\n",
              "      <td>-0.288209</td>\n",
              "      <td>-1.785421</td>\n",
              "      <td>0.000248</td>\n",
              "      <td>-118.869643</td>\n",
              "      <td>-0.000578</td>\n",
              "      <td>-1.016200</td>\n",
              "      <td>30.358621</td>\n",
              "      <td>-4.521429</td>\n",
              "      <td>-0.000083</td>\n",
              "      <td>-0.362267</td>\n",
              "      <td>-0.403930</td>\n",
              "    </tr>\n",
              "  </tbody>\n",
              "</table>\n",
              "<p>5 rows × 94 columns</p>\n",
              "</div>"
            ],
            "text/plain": [
              "        P-PDG__mean  ...  T-TPT__skewness\n",
              "17406  0.000000e+00  ...         0.000000\n",
              "61303  2.533910e+07  ...        -1.258982\n",
              "71781  1.724138e+07  ...         1.448639\n",
              "67014  1.766002e+07  ...         0.084830\n",
              "73322  1.847968e+07  ...        -0.403930\n",
              "\n",
              "[5 rows x 94 columns]"
            ]
          },
          "execution_count": 29,
          "metadata": {},
          "output_type": "execute_result"
        }
      ],
      "source": [
        "X_selected = select_features(X_train, y_train)\n",
        "X_selected_train = X_selected\n",
        "\n",
        "X_selected_test = X_test[list(X_selected_train.columns)]\n",
        "\n",
        "X_selected_train.head()"
      ]
    },
    {
      "cell_type": "markdown",
      "metadata": {
        "id": "sgOXMbk_ke4z"
      },
      "source": [
        "### Scaling"
      ]
    },
    {
      "cell_type": "markdown",
      "metadata": {
        "id": "UHQpWZaZCO6r"
      },
      "source": [
        "todo"
      ]
    },
    {
      "cell_type": "markdown",
      "metadata": {
        "id": "3MPPCHtzBFZt"
      },
      "source": [
        "MinMax scaler"
      ]
    },
    {
      "cell_type": "code",
      "execution_count": null,
      "metadata": {
        "id": "1KK6GIUEBISb"
      },
      "outputs": [],
      "source": [
        "# Normalizes the samples\n",
        "\n",
        "scaled_features_minmax = scaler.fit_transform(X_train.values)\n",
        "X_train = pd.DataFrame(scaled_features_minmax, index=X_train.index, columns=X_train.columns)\n",
        "\n",
        "scaled_features_minmax = scaler.transform(X_test)\n",
        "X_test = pd.DataFrame(scaled_features_minmax, index=X_test.index, columns=X_test.columns)"
      ]
    },
    {
      "cell_type": "code",
      "execution_count": null,
      "metadata": {
        "id": "hKWZzRPfBISc"
      },
      "outputs": [],
      "source": [
        "# Same for feature selection data\n",
        "\n",
        "scaled_features_minmax = scaler.fit_transform(X_selected_train.values)\n",
        "X_selected_train = pd.DataFrame(scaled_features_minmax, index=X_selected_train.index, columns=X_selected_train.columns)\n",
        "\n",
        "scaled_features_minmax = scaler.transform(X_selected_test)\n",
        "X_selected_test = pd.DataFrame(scaled_features_minmax, index=X_selected_test.index, columns=X_selected_test.columns)"
      ]
    },
    {
      "cell_type": "markdown",
      "metadata": {
        "id": "N53OT2MvBD20"
      },
      "source": [
        "Standard scaler"
      ]
    },
    {
      "cell_type": "code",
      "execution_count": 51,
      "metadata": {
        "id": "-Eat27PPDtBD",
        "colab": {
          "base_uri": "https://localhost:8080/"
        },
        "outputId": "997a1bbf-5c76-4f80-ad41-c98e3211d573"
      },
      "outputs": [
        {
          "output_type": "stream",
          "name": "stderr",
          "text": [
            "/usr/local/lib/python3.7/dist-packages/sklearn/base.py:444: UserWarning: X has feature names, but StandardScaler was fitted without feature names\n",
            "  f\"X has feature names, but {self.__class__.__name__} was fitted without\"\n"
          ]
        }
      ],
      "source": [
        "# Normalizes the samples\n",
        "\n",
        "scaled_features_std = standard_scaler.fit_transform(X_train.values)\n",
        "X_train = pd.DataFrame(scaled_features_std, index=X_train.index, columns=X_train.columns)\n",
        "\n",
        "scaled_features_std = standard_scaler.transform(X_test)\n",
        "X_test = pd.DataFrame(scaled_features_std, index=X_test.index, columns=X_test.columns)"
      ]
    },
    {
      "cell_type": "code",
      "execution_count": null,
      "metadata": {
        "id": "ukjxGr0-PKcZ"
      },
      "outputs": [],
      "source": [
        "# Same for feature selection data\n",
        "\n",
        "scaled_features_std = minmax_scaler.fit_transform(X_selected_train.values)\n",
        "X_selected_train = pd.DataFrame(scaled_features_std, index=X_selected_train.index, columns=X_selected_train.columns)\n",
        "\n",
        "scaled_features_std = minmax_scaler.transform(X_selected_test)\n",
        "X_selected_test = pd.DataFrame(scaled_features_std, index=X_selected_test.index, columns=X_selected_test.columns)"
      ]
    },
    {
      "cell_type": "markdown",
      "metadata": {
        "id": "w5VmtoWqgTfr"
      },
      "source": [
        "# Classification"
      ]
    },
    {
      "cell_type": "markdown",
      "metadata": {
        "id": "1YdU4Zcc6GUt"
      },
      "source": [
        "Results dataframe, used for storing final results"
      ]
    },
    {
      "cell_type": "code",
      "execution_count": 52,
      "metadata": {
        "id": "Hq0Z2Q_8Df-O"
      },
      "outputs": [],
      "source": [
        "results = pd.DataFrame(columns=['classifier', 'f1', 'accuracy', 'time_window', 'hiperparameters'])"
      ]
    },
    {
      "cell_type": "markdown",
      "metadata": {
        "id": "Tvg1pdlFbLLM"
      },
      "source": [
        "Results_new dataframe has cross_val_score instead f1\n"
      ]
    },
    {
      "cell_type": "code",
      "execution_count": 53,
      "metadata": {
        "id": "XsFq9Zxba-9D"
      },
      "outputs": [],
      "source": [
        "results_new = pd.DataFrame(columns=['classifier', 'cross_val_score', 'accuracy', 'time_window', 'hiperparameters'])"
      ]
    },
    {
      "cell_type": "markdown",
      "metadata": {
        "id": "s4JHzZGrHES8"
      },
      "source": [
        "Results_bag and results_rnd dataframes have Bagging meta-estimator(ensemble method) results, first for grid search, second for randomized search."
      ]
    },
    {
      "cell_type": "code",
      "execution_count": 54,
      "metadata": {
        "id": "-xa9Icz3HES8"
      },
      "outputs": [],
      "source": [
        "from sklearn.ensemble import BaggingClassifier"
      ]
    },
    {
      "cell_type": "code",
      "execution_count": 55,
      "metadata": {
        "id": "o3Bu4AYvHES9"
      },
      "outputs": [],
      "source": [
        "results_bag = pd.DataFrame(columns=['classifier', 'cross_val_score', 'accuracy', 'time_window', 'hiperparameters'])"
      ]
    },
    {
      "cell_type": "code",
      "execution_count": 56,
      "metadata": {
        "id": "-Tpan-9QHES9"
      },
      "outputs": [],
      "source": [
        "results_rnd = pd.DataFrame(columns=['classifier', 'cross_val_score', 'accuracy', 'time_window', 'hiperparameters'])"
      ]
    },
    {
      "cell_type": "markdown",
      "metadata": {
        "id": "1Rbm9SURkhLm"
      },
      "source": [
        "## Logistic regression"
      ]
    },
    {
      "cell_type": "markdown",
      "metadata": {
        "id": "m2TAXgBd7lgp"
      },
      "source": [
        "### Grid search"
      ]
    },
    {
      "cell_type": "code",
      "execution_count": 61,
      "metadata": {
        "colab": {
          "base_uri": "https://localhost:8080/"
        },
        "id": "YlOwYSAWVvUt",
        "outputId": "2f917d56-ae6c-424f-f637-865b767f507c"
      },
      "outputs": [
        {
          "output_type": "stream",
          "name": "stdout",
          "text": [
            "{'alpha': 0.0009118819655545162}\n",
            "0.7894783168291002\n"
          ]
        }
      ],
      "source": [
        "cv = 5\n",
        "\n",
        "param_grid = [{'alpha': list(math.exp(i) for i in range(-7, 0))}]\n",
        "\n",
        "model = SGDClassifier(loss='log')\n",
        "clf = GridSearchCV(model, param_grid, cv=cv, scoring='f1_macro')\n",
        "clf.fit(X_train, y_train)\n",
        "model_gs = clf.best_estimator_\n",
        "\n",
        "print(clf.best_params_)\n",
        "print(clf.best_score_)\n"
      ]
    },
    {
      "cell_type": "markdown",
      "metadata": {
        "id": "69PM9QbZHES9"
      },
      "source": [
        "#### f1_score"
      ]
    },
    {
      "cell_type": "code",
      "execution_count": 62,
      "metadata": {
        "colab": {
          "base_uri": "https://localhost:8080/"
        },
        "id": "UFukNfVggpDh",
        "outputId": "f741d247-34e4-4d8a-ce53-b0436506c54b"
      },
      "outputs": [
        {
          "output_type": "stream",
          "name": "stdout",
          "text": [
            "Accuracy: 0.8607907570588358\n",
            "F1: 0.8000392594768329\n"
          ]
        }
      ],
      "source": [
        "y_pred = model_gs.predict(X_test)\n",
        "\n",
        "f1 = f1_score(y_test, y_pred, average='macro')\n",
        "acc = accuracy_score(y_test, y_pred)\n",
        "print(f\"Accuracy: {acc}\")\n",
        "print(f\"F1: {f1}\")\n",
        "\n",
        "df = {'classifier': 'Logistic', 'f1': f1, 'accuracy': acc, 'time_window': 300, 'hiperparameters': clf.best_params_['alpha']}\n",
        "\n",
        "results = results.append(df, ignore_index=True)\n",
        "\n"
      ]
    },
    {
      "cell_type": "markdown",
      "metadata": {
        "id": "JiMz5cMwHES-"
      },
      "source": [
        "#### cross_val_score"
      ]
    },
    {
      "cell_type": "code",
      "execution_count": 63,
      "metadata": {
        "id": "Be_glWxueTVD",
        "colab": {
          "base_uri": "https://localhost:8080/"
        },
        "outputId": "5c14ef09-cb36-429f-c884-bc4022d86de5"
      },
      "outputs": [
        {
          "output_type": "stream",
          "name": "stdout",
          "text": [
            "Cross value score: [0.8557974  0.85893679 0.86310832 0.85818943 0.85986395]\n"
          ]
        }
      ],
      "source": [
        "cv=cross_val_score(model_gs, X_test, y_test)\n",
        "print(f\"Cross value score: {cv}\")\n",
        "\n",
        "df_new={'classifier': 'Logistic', 'cross_val_score': cv, 'accuracy': acc, 'time_window': 300, 'hiperparameters': clf.best_params_['alpha']}\n",
        "results_new=results_new.append(df_new, ignore_index=True)"
      ]
    },
    {
      "cell_type": "markdown",
      "metadata": {
        "id": "4KS5I5nt7nPo"
      },
      "source": [
        "### Randomized search"
      ]
    },
    {
      "cell_type": "code",
      "execution_count": null,
      "metadata": {
        "id": "9Uu6vNAd7Vgh"
      },
      "outputs": [],
      "source": [
        "\n",
        "model = SGDClassifier(loss='log')\n",
        "clf = RandomizedSearchCV(model, param_grid, cv=cv, scoring='f1_macro')\n",
        "\n",
        "s = clf.fit(X_train, y_train)\n",
        "model_rs = clf.best_estimator_\n",
        "\n",
        "print(clf.best_params_)\n",
        "print(clf.best_score_)"
      ]
    },
    {
      "cell_type": "markdown",
      "metadata": {
        "id": "uu7WcntIHES_"
      },
      "source": [
        "#### f1_score"
      ]
    },
    {
      "cell_type": "code",
      "execution_count": null,
      "metadata": {
        "id": "UKHPiTe48IuO"
      },
      "outputs": [],
      "source": [
        "y_pred = model_rs.predict(X_test)\n",
        "\n",
        "f1 = f1_score(y_test, y_pred, average='macro')\n",
        "acc = accuracy_score(y_test, y_pred)\n",
        "print(f\"Accuracy: {acc}\")\n",
        "print(f\"F1: {f1}\")\n",
        "\n",
        "df = {'classifier': 'Logistic', 'f1': f1, 'accuracy': acc, 'time_window': 300, 'hiperparameters': clf.best_params_['alpha']}\n",
        "\n",
        "results = results.append(df, ignore_index=True)\n",
        "\n"
      ]
    },
    {
      "cell_type": "markdown",
      "metadata": {
        "id": "BG6yDRk1HES_"
      },
      "source": [
        "#### cross_val_score"
      ]
    },
    {
      "cell_type": "code",
      "execution_count": null,
      "metadata": {
        "id": "haQbQhiuelwv"
      },
      "outputs": [],
      "source": [
        "cv=cross_val_score(model_rs, X_test, y_test)\n",
        "print(f\"Cross value score: {cv}\")\n",
        "\n",
        "df_new={'classifier': 'Logistic', 'cross_val_score': cv, 'accuracy': acc, 'time_window': 300, 'hiperparameters': clf.best_params_['alpha']}\n",
        "results_new=results_new.append(df_new, ignore_index=True)"
      ]
    },
    {
      "cell_type": "markdown",
      "metadata": {
        "id": "bkOzKWGXHES-"
      },
      "source": [
        "## Bagging Classifier:"
      ]
    },
    {
      "cell_type": "markdown",
      "source": [
        "### Grid search"
      ],
      "metadata": {
        "id": "6PNpmWyCpExq"
      }
    },
    {
      "cell_type": "code",
      "execution_count": 68,
      "metadata": {
        "colab": {
          "base_uri": "https://localhost:8080/"
        },
        "id": "OHF0lavlHES-",
        "outputId": "5c18d7a9-efa0-41c1-92d0-ec30a86c431f"
      },
      "outputs": [
        {
          "output_type": "stream",
          "name": "stdout",
          "text": [
            "{'n_estimators': 10}\n",
            "0.7929380078449347\n"
          ]
        }
      ],
      "source": [
        "cv = 5\n",
        "\n",
        "param_grid = [{'n_estimators': list(i for i in range(10, 13))}]\n",
        "\n",
        "model = SGDClassifier(loss='log')\n",
        "bagging = BaggingClassifier(model, max_samples=0.5, max_features=0.5)\n",
        "clf = GridSearchCV(bagging, param_grid, cv=cv, scoring='f1_macro')\n",
        "clf.fit(X_train, y_train)\n",
        "model_gs = clf.best_estimator_\n",
        "\n",
        "print(clf.best_params_)\n",
        "print(clf.best_score_)"
      ]
    },
    {
      "cell_type": "code",
      "execution_count": 69,
      "metadata": {
        "colab": {
          "base_uri": "https://localhost:8080/"
        },
        "outputId": "ff13d4ff-57ff-48b8-e38d-4840cb2348fb",
        "id": "ZWZ8DCQLHES-"
      },
      "outputs": [
        {
          "output_type": "stream",
          "name": "stdout",
          "text": [
            "Accuracy: 0.8584674634238232\n"
          ]
        }
      ],
      "source": [
        "y_pred = model_gs.predict(X_test)\n",
        "acc = accuracy_score(y_test, y_pred)\n",
        "print(f\"Accuracy: {acc}\")\n"
      ]
    },
    {
      "cell_type": "code",
      "execution_count": 71,
      "metadata": {
        "colab": {
          "base_uri": "https://localhost:8080/"
        },
        "id": "O0AW-OybHES-",
        "outputId": "600f756d-3800-4de9-f756-5b51adabccae"
      },
      "outputs": [
        {
          "output_type": "stream",
          "name": "stdout",
          "text": [
            "Cross value score: [0.8546463  0.85632064 0.85536368 0.85913134 0.85965463]\n"
          ]
        }
      ],
      "source": [
        "cv=cross_val_score(model_gs, X_test, y_test)\n",
        "print(f\"Cross value score: {cv}\")\n",
        "\n",
        "df_bag={'classifier': 'Logistic', 'cross_val_score': cv, 'accuracy': acc, 'time_window': 300, 'hiperparameters': clf.best_params_['n_estimators']}\n",
        "results_bag=results_bag.append(df_bag, ignore_index=True)"
      ]
    },
    {
      "cell_type": "markdown",
      "metadata": {
        "id": "QMiTQ6XuHES_"
      },
      "source": [
        "### Bagging classifier"
      ]
    },
    {
      "cell_type": "code",
      "execution_count": 72,
      "metadata": {
        "colab": {
          "base_uri": "https://localhost:8080/"
        },
        "id": "8Bycg5TFHETA",
        "outputId": "93ef9be5-fd66-44b3-80da-88a1cdd24125"
      },
      "outputs": [
        {
          "output_type": "stream",
          "name": "stderr",
          "text": [
            "/usr/local/lib/python3.7/dist-packages/sklearn/model_selection/_search.py:296: UserWarning: The total space of parameters 3 is smaller than n_iter=10. Running 3 iterations. For exhaustive searches, use GridSearchCV.\n",
            "  UserWarning,\n"
          ]
        },
        {
          "output_type": "stream",
          "name": "stdout",
          "text": [
            "{'n_estimators': 12}\n",
            "0.7930968701125332\n"
          ]
        }
      ],
      "source": [
        "cv = 5\n",
        "\n",
        "param_grid = [{'n_estimators': list(i for i in range(10, 13))}]\n",
        "\n",
        "model = SGDClassifier(loss='log')\n",
        "bagging = BaggingClassifier(model, max_samples=0.5, max_features=0.5)\n",
        "clf = RandomizedSearchCV(bagging, param_grid, cv=\n",
        "                         cv, scoring='f1_macro')\n",
        "clf.fit(X_train, y_train)\n",
        "model_rs = clf.best_estimator_\n",
        "\n",
        "print(clf.best_params_)\n",
        "print(clf.best_score_)"
      ]
    },
    {
      "cell_type": "code",
      "execution_count": 73,
      "metadata": {
        "colab": {
          "base_uri": "https://localhost:8080/"
        },
        "id": "2BMyavwmHETA",
        "outputId": "c9d45c5e-4808-4fd5-b815-640efc287bd8"
      },
      "outputs": [
        {
          "output_type": "stream",
          "name": "stdout",
          "text": [
            "Accuracy: 0.856793017560751\n"
          ]
        }
      ],
      "source": [
        "y_pred = model_rs.predict(X_test)\n",
        "acc = accuracy_score(y_test, y_pred)\n",
        "print(f\"Accuracy: {acc}\")"
      ]
    },
    {
      "cell_type": "code",
      "execution_count": 76,
      "metadata": {
        "id": "7D_cEhWqHETA"
      },
      "outputs": [],
      "source": [
        "cv=cross_val_score(model_rs, X_test, y_test)\n",
        "print(f\"Cross value score: {cv}\")\n",
        "\n",
        "df_rnd={'classifier': 'Logistic', 'cross_val_score': cv, 'accuracy': acc, 'time_window': 300, 'hiperparameters': clf.best_params_['n_estimators']}\n",
        "results_rnd=results_rnd.append(df_rnd, ignore_index=True)"
      ]
    },
    {
      "cell_type": "markdown",
      "metadata": {
        "id": "GA14VZAbkpMM"
      },
      "source": [
        "## SVC"
      ]
    },
    {
      "cell_type": "markdown",
      "metadata": {
        "id": "BQXUgjVU8l43"
      },
      "source": [
        "### Grid search"
      ]
    },
    {
      "cell_type": "code",
      "execution_count": 77,
      "metadata": {
        "colab": {
          "base_uri": "https://localhost:8080/"
        },
        "id": "IopJtj5Iu2YE",
        "outputId": "9ed0f290-87dc-4cc6-be29-5cb26c83b11b"
      },
      "outputs": [
        {
          "output_type": "stream",
          "name": "stdout",
          "text": [
            "{'alpha': 0.0009118819655545162}\n",
            "0.7810882037562749\n"
          ]
        }
      ],
      "source": [
        "cv = 5\n",
        "\n",
        "param_grid = [{'alpha': list(math.exp(i) for i in range(-7, 0))}]\n",
        "\n",
        "model = SGDClassifier(loss='hinge')\n",
        "\n",
        "clf = GridSearchCV(model, param_grid, cv=cv, scoring='f1_macro')\n",
        "clf.fit(X_train, y_train)\n",
        "model_gs = clf.best_estimator_\n",
        "\n",
        "print(clf.best_params_)\n",
        "print(clf.best_score_)\n",
        "\n"
      ]
    },
    {
      "cell_type": "markdown",
      "metadata": {
        "id": "CChr-coLHETA"
      },
      "source": [
        "#### f1_score"
      ]
    },
    {
      "cell_type": "code",
      "execution_count": 78,
      "metadata": {
        "colab": {
          "base_uri": "https://localhost:8080/"
        },
        "id": "1GGM3SQwE-3z",
        "outputId": "66768bfb-2b43-4198-8474-b25c1b95222f"
      },
      "outputs": [
        {
          "output_type": "stream",
          "name": "stdout",
          "text": [
            "Accuracy: 0.8463695920631266\n",
            "F1: 0.7877550096924238\n"
          ]
        }
      ],
      "source": [
        "y_pred = model_gs.predict(X_test)\n",
        "\n",
        "f1 = f1_score(y_test, y_pred, average='macro')\n",
        "acc = accuracy_score(y_test, y_pred)\n",
        "print(f\"Accuracy: {acc}\")\n",
        "print(f\"F1: {f1}\")\n",
        "\n",
        "df = {'classifier': 'SVC', 'f1': f1, 'accuracy': acc, 'time_window': 300, 'hiperparameters': clf.best_params_['alpha']}\n",
        "\n",
        "results = results.append(df, ignore_index=True)\n",
        "\n"
      ]
    },
    {
      "cell_type": "markdown",
      "metadata": {
        "id": "UeNUKCTsHETB"
      },
      "source": [
        "#### cross_val_score"
      ]
    },
    {
      "cell_type": "code",
      "execution_count": 79,
      "metadata": {
        "id": "JyVG7CVifBtS",
        "colab": {
          "base_uri": "https://localhost:8080/"
        },
        "outputId": "a67c7b68-6019-48b6-b73c-32f635e71ecb"
      },
      "outputs": [
        {
          "output_type": "stream",
          "name": "stdout",
          "text": [
            "Cross value score: [0.8474257  0.84658853 0.85107274 0.85159602 0.85180534]\n"
          ]
        }
      ],
      "source": [
        "cv=cross_val_score(model_gs, X_test, y_test)\n",
        "print(f\"Cross value score: {cv}\")\n",
        "\n",
        "df_new={'classifier': 'SVC', 'cross_val_score': cv, 'accuracy': acc, 'time_window': 300, 'hiperparameters': clf.best_params_['alpha']}\n",
        "results_new=results_new.append(df_new, ignore_index=True)"
      ]
    },
    {
      "cell_type": "markdown",
      "metadata": {
        "id": "xUcdCelfHETB"
      },
      "source": [
        "#### Bagging"
      ]
    },
    {
      "cell_type": "code",
      "execution_count": 81,
      "metadata": {
        "colab": {
          "base_uri": "https://localhost:8080/"
        },
        "outputId": "2b80fb01-58cf-46f5-cd4f-9bc9bd2801de",
        "id": "NgmCusruHETB"
      },
      "outputs": [
        {
          "output_type": "stream",
          "name": "stdout",
          "text": [
            "{'n_estimators': 11}\n",
            "0.7919518408376802\n"
          ]
        }
      ],
      "source": [
        "cv = 5\n",
        "\n",
        "param_grid = [{'n_estimators': list(i for i in range(10, 13))}]\n",
        "\n",
        "model = SGDClassifier(loss='hinge')\n",
        "bagging = BaggingClassifier(model, max_samples=0.5, max_features=0.5)\n",
        "clf = GridSearchCV(bagging, param_grid, cv=cv, scoring='f1_macro')\n",
        "\n",
        "clf.fit(X_train, y_train)\n",
        "model_gs = clf.best_estimator_\n",
        "\n",
        "print(clf.best_params_)\n",
        "print(clf.best_score_)\n"
      ]
    },
    {
      "cell_type": "code",
      "execution_count": 82,
      "metadata": {
        "colab": {
          "base_uri": "https://localhost:8080/"
        },
        "id": "bwn9NIQgHETB",
        "outputId": "6ab45ed0-c5fe-4c68-b00e-7543edeaf515"
      },
      "outputs": [
        {
          "output_type": "stream",
          "name": "stdout",
          "text": [
            "Accuracy: 0.8424555748581953\n"
          ]
        }
      ],
      "source": [
        "y_pred = model_gs.predict(X_test)\n",
        "acc = accuracy_score(y_test, y_pred)\n",
        "print(f\"Accuracy: {acc}\")"
      ]
    },
    {
      "cell_type": "code",
      "execution_count": 84,
      "metadata": {
        "colab": {
          "base_uri": "https://localhost:8080/"
        },
        "id": "-F2myMEaHETB",
        "outputId": "bad3d8a8-29e8-425d-f63e-05076cd45e8c"
      },
      "outputs": [
        {
          "output_type": "stream",
          "name": "stdout",
          "text": [
            "Cross value score: [0.84711176 0.85558811 0.84992151 0.84960754 0.85693354]\n"
          ]
        }
      ],
      "source": [
        "cv=cross_val_score(model_gs, X_test, y_test)\n",
        "print(f\"Cross value score: {cv}\")\n",
        "\n",
        "df_bag={'classifier': 'SVC', 'cross_val_score': cv, 'accuracy': acc, 'time_window': 300, 'hiperparameters': clf.best_params_['n_estimators']}\n",
        "results_bag=results_bag.append(df_bag, ignore_index=True)"
      ]
    },
    {
      "cell_type": "markdown",
      "metadata": {
        "id": "kCk9s-qs8oTG"
      },
      "source": [
        "### Randomized search"
      ]
    },
    {
      "cell_type": "code",
      "execution_count": 85,
      "metadata": {
        "id": "Q8ZEGyuj8qMG",
        "colab": {
          "base_uri": "https://localhost:8080/"
        },
        "outputId": "89641d05-b5dc-49ae-eea2-c29cd455202a"
      },
      "outputs": [
        {
          "output_type": "stream",
          "name": "stderr",
          "text": [
            "/usr/local/lib/python3.7/dist-packages/sklearn/model_selection/_search.py:296: UserWarning: The total space of parameters 7 is smaller than n_iter=10. Running 7 iterations. For exhaustive searches, use GridSearchCV.\n",
            "  UserWarning,\n"
          ]
        },
        {
          "output_type": "stream",
          "name": "stdout",
          "text": [
            "{'alpha': 0.0009118819655545162}\n",
            "0.780437180063927\n"
          ]
        }
      ],
      "source": [
        "cv = 5\n",
        "\n",
        "param_grid = [{'alpha': list(math.exp(i) for i in range(-7, 0))}]\n",
        "\n",
        "model = SGDClassifier(loss='hinge')\n",
        "\n",
        "clf = RandomizedSearchCV(model, param_grid, cv=cv, scoring='f1_macro')\n",
        "clf.fit(X_train, y_train)\n",
        "model_rs = clf.best_estimator_\n",
        "\n",
        "print(clf.best_params_)\n",
        "print(clf.best_score_)\n",
        "\n"
      ]
    },
    {
      "cell_type": "markdown",
      "metadata": {
        "id": "NuohglOvHETC"
      },
      "source": [
        "#### f1_score"
      ]
    },
    {
      "cell_type": "code",
      "execution_count": 86,
      "metadata": {
        "id": "J6KA4Htp8qMI",
        "colab": {
          "base_uri": "https://localhost:8080/"
        },
        "outputId": "ed7b9199-b8cb-4aea-faa8-45c54c3c7c46"
      },
      "outputs": [
        {
          "output_type": "stream",
          "name": "stdout",
          "text": [
            "Accuracy: 0.8461184251836658\n",
            "F1: 0.7827091191651983\n"
          ]
        }
      ],
      "source": [
        "y_pred = model_rs.predict(X_test)\n",
        "\n",
        "f1 = f1_score(y_test, y_pred, average='macro')\n",
        "acc = accuracy_score(y_test, y_pred)\n",
        "print(f\"Accuracy: {acc}\")\n",
        "print(f\"F1: {f1}\")\n",
        "\n",
        "df = {'classifier': 'SVC', 'f1': f1, 'accuracy': acc, 'time_window': 300, 'hiperparameters': clf.best_params_['alpha']}\n",
        "\n",
        "results= results.append(df, ignore_index=True)\n",
        "\n"
      ]
    },
    {
      "cell_type": "markdown",
      "metadata": {
        "id": "QyUUSteIHETC"
      },
      "source": [
        "#### cross_val_score"
      ]
    },
    {
      "cell_type": "code",
      "execution_count": 87,
      "metadata": {
        "id": "P0S5zIdYfP18",
        "colab": {
          "base_uri": "https://localhost:8080/"
        },
        "outputId": "5bf8d495-31fa-4ab7-be0e-fae9da1c5366"
      },
      "outputs": [
        {
          "output_type": "stream",
          "name": "stdout",
          "text": [
            "Cross value score: [0.84962327 0.854437   0.84866562 0.85201465 0.85222397]\n"
          ]
        }
      ],
      "source": [
        "cv=cross_val_score(model_rs, X_test, y_test)\n",
        "print(f\"Cross value score: {cv}\")\n",
        "\n",
        "df_new={'classifier': 'SVC', 'cross_val_score': cv, 'accuracy': acc, 'time_window': 300, 'hiperparameters': clf.best_params_['alpha']}\n",
        "results_new=results_new.append(df_new, ignore_index=True)"
      ]
    },
    {
      "cell_type": "markdown",
      "metadata": {
        "id": "j-PdvI_AHETC"
      },
      "source": [
        "#### Bagging"
      ]
    },
    {
      "cell_type": "code",
      "execution_count": 88,
      "metadata": {
        "colab": {
          "base_uri": "https://localhost:8080/"
        },
        "outputId": "236061ed-cbf7-437b-fdbe-eebdd26c22d6",
        "id": "qEg_70jKHETC"
      },
      "outputs": [
        {
          "output_type": "stream",
          "name": "stderr",
          "text": [
            "/usr/local/lib/python3.7/dist-packages/sklearn/model_selection/_search.py:296: UserWarning: The total space of parameters 3 is smaller than n_iter=10. Running 3 iterations. For exhaustive searches, use GridSearchCV.\n",
            "  UserWarning,\n"
          ]
        },
        {
          "output_type": "stream",
          "name": "stdout",
          "text": [
            "{'n_estimators': 12}\n",
            "0.7879811868736637\n"
          ]
        }
      ],
      "source": [
        "cv = 5\n",
        "\n",
        "param_grid = [{'n_estimators': list(i for i in range(10, 13))}]\n",
        "\n",
        "model = SGDClassifier(loss='hinge')\n",
        "bagging = BaggingClassifier(model, max_samples=0.5, max_features=0.5)\n",
        "clf = RandomizedSearchCV(bagging, param_grid, cv=cv, scoring='f1_macro')\n",
        "\n",
        "clf.fit(X_train, y_train)\n",
        "model_rs = clf.best_estimator_\n",
        "\n",
        "print(clf.best_params_)\n",
        "print(clf.best_score_)\n"
      ]
    },
    {
      "cell_type": "code",
      "execution_count": 89,
      "metadata": {
        "colab": {
          "base_uri": "https://localhost:8080/"
        },
        "id": "PYkHF4oOHETD",
        "outputId": "3bd3a0cf-4c04-48ea-c183-4aeb98825997"
      },
      "outputs": [
        {
          "output_type": "stream",
          "name": "stdout",
          "text": [
            "Accuracy: 0.8474370513008351\n"
          ]
        }
      ],
      "source": [
        "y_pred = model_rs.predict(X_test)\n",
        "acc = accuracy_score(y_test, y_pred)\n",
        "print(f\"Accuracy: {acc}\")"
      ]
    },
    {
      "cell_type": "code",
      "execution_count": 90,
      "metadata": {
        "colab": {
          "base_uri": "https://localhost:8080/"
        },
        "id": "WhiXNpY1HETD",
        "outputId": "24cd616c-fa87-451b-9d73-99ec19f40314"
      },
      "outputs": [
        {
          "output_type": "stream",
          "name": "stdout",
          "text": [
            "Cross value score: [0.84125157 0.86186689 0.85107274 0.84720042 0.85400314]\n"
          ]
        }
      ],
      "source": [
        "cv=cross_val_score(model_rs, X_test, y_test)\n",
        "print(f\"Cross value score: {cv}\")\n",
        "\n",
        "df_bag={'classifier': 'SVC', 'cross_val_score': cv, 'accuracy': acc, 'time_window': 300, 'hiperparameters': clf.best_params_['n_estimators']}\n",
        "results_rnd=results_rnd.append(df_rnd, ignore_index=True)"
      ]
    },
    {
      "cell_type": "markdown",
      "metadata": {
        "id": "tsrWCunMkthZ"
      },
      "source": [
        "## LDA and QDA"
      ]
    },
    {
      "cell_type": "markdown",
      "metadata": {
        "id": "JBKxea7hHN2r"
      },
      "source": [
        "### LDA"
      ]
    },
    {
      "cell_type": "code",
      "execution_count": 91,
      "metadata": {
        "colab": {
          "base_uri": "https://localhost:8080/"
        },
        "id": "zIz4sr8gGW6U",
        "outputId": "a0b851db-1efd-4650-c29c-d760aa5fb6e9"
      },
      "outputs": [
        {
          "output_type": "execute_result",
          "data": {
            "text/plain": [
              "LinearDiscriminantAnalysis()"
            ]
          },
          "metadata": {},
          "execution_count": 91
        }
      ],
      "source": [
        "model = LinearDiscriminantAnalysis()\n",
        "\n",
        "model.fit(X_train, y_train)\n"
      ]
    },
    {
      "cell_type": "markdown",
      "metadata": {
        "id": "XykTCrkZHETD"
      },
      "source": [
        "#### f1_score"
      ]
    },
    {
      "cell_type": "code",
      "execution_count": 92,
      "metadata": {
        "colab": {
          "base_uri": "https://localhost:8080/"
        },
        "id": "MobP6GbMFMDr",
        "outputId": "31f3a646-b4b2-4f7a-e716-468cfde740ad"
      },
      "outputs": [
        {
          "output_type": "stream",
          "name": "stdout",
          "text": [
            "Accuracy: 0.8329112334386839\n",
            "F1: 0.7380575155615389\n"
          ]
        }
      ],
      "source": [
        "y_pred = model.predict(X_test)\n",
        "\n",
        "f1 = f1_score(y_test, y_pred, average='macro')\n",
        "acc = accuracy_score(y_test, y_pred)\n",
        "print(f\"Accuracy: {acc}\")\n",
        "print(f\"F1: {f1}\")\n",
        "\n",
        "df = {'classifier': 'LDA', 'f1': f1, 'accuracy': acc, 'time_window': 300, 'hiperparameters': \"\"}\n",
        "\n",
        "results = results.append(df, ignore_index=True)\n",
        "\n"
      ]
    },
    {
      "cell_type": "markdown",
      "metadata": {
        "id": "XCNNfnTtHETE"
      },
      "source": [
        "#### cross_val_score"
      ]
    },
    {
      "cell_type": "code",
      "execution_count": 93,
      "metadata": {
        "id": "RlyjLlg3cvg0",
        "colab": {
          "base_uri": "https://localhost:8080/"
        },
        "outputId": "0788ccd8-0ee8-46ba-8579-3f630447b37c"
      },
      "outputs": [
        {
          "output_type": "stream",
          "name": "stdout",
          "text": [
            "Cross value score: [0.83256593 0.83444956 0.83851387 0.83464155 0.83872318]\n"
          ]
        }
      ],
      "source": [
        "cv=cross_val_score(model, X_test, y_test)\n",
        "print(f\"Cross value score: {cv}\")\n",
        "\n",
        "df_new={'classifier': 'LDA', 'cross_val_score': cv, 'accuracy': acc, 'time_window': 300, 'hiperparameters': \"\"}\n",
        "results_new=results_new.append(df_new, ignore_index=True)"
      ]
    },
    {
      "cell_type": "markdown",
      "metadata": {
        "id": "FtqAPWuxHRBn"
      },
      "source": [
        "### QDA"
      ]
    },
    {
      "cell_type": "code",
      "execution_count": null,
      "metadata": {
        "id": "Q3EKh2gQHRBn"
      },
      "outputs": [],
      "source": [
        "model = QuadraticDiscriminantAnalysis()\n",
        "\n",
        "model.fit(X_train, y_train)\n"
      ]
    },
    {
      "cell_type": "markdown",
      "metadata": {
        "id": "ZckP44_oHETE"
      },
      "source": [
        "#### f1_score"
      ]
    },
    {
      "cell_type": "code",
      "execution_count": 95,
      "metadata": {
        "colab": {
          "base_uri": "https://localhost:8080/"
        },
        "id": "QigVJdBTHRBn",
        "outputId": "2561e86c-f7e6-4dfc-fb74-8db6f68e90de"
      },
      "outputs": [
        {
          "output_type": "stream",
          "name": "stdout",
          "text": [
            "Accuracy: 0.6792180337819453\n",
            "F1: 0.603799639457796\n"
          ]
        }
      ],
      "source": [
        "y_pred = model.predict(X_test)\n",
        "\n",
        "f1 = f1_score(y_test, y_pred, average='macro')\n",
        "acc = accuracy_score(y_test, y_pred)\n",
        "print(f\"Accuracy: {acc}\")\n",
        "print(f\"F1: {f1}\")\n",
        "\n",
        "df = {'classifier': 'QDA', 'f1': f1, 'accuracy': acc, 'time_window': 300, 'hiperparameters': \"\"}\n",
        "\n",
        "results = results.append(df, ignore_index=True)\n",
        "\n"
      ]
    },
    {
      "cell_type": "markdown",
      "metadata": {
        "id": "KBeE_5GCHETE"
      },
      "source": [
        "#### cross_val_score"
      ]
    },
    {
      "cell_type": "code",
      "execution_count": null,
      "metadata": {
        "id": "DVwawEWHfXUz"
      },
      "outputs": [],
      "source": [
        "cv=cross_val_score(model, X_test, y_test)\n",
        "\n",
        "\n",
        "df_new={'classifier': 'QDA', 'cross_val_score': cv, 'accuracy': acc, 'time_window': 300, 'hiperparameters': \"\"}\n",
        "results_new=results_new.append(df_new, ignore_index=True)"
      ]
    },
    {
      "cell_type": "code",
      "source": [
        "print(f\"Cross value score: {cv}\")"
      ],
      "metadata": {
        "colab": {
          "base_uri": "https://localhost:8080/"
        },
        "id": "g_y0kAEtFbGm",
        "outputId": "a9ab5162-9d54-4eab-c91c-fe7a37ee03aa"
      },
      "execution_count": 98,
      "outputs": [
        {
          "output_type": "stream",
          "name": "stdout",
          "text": [
            "Cross value score: [0.75355797 0.75334868 0.74955521 0.79194139 0.69555207]\n"
          ]
        }
      ]
    },
    {
      "cell_type": "markdown",
      "metadata": {
        "id": "AqdxODnpkyax"
      },
      "source": [
        "## Decision Tree"
      ]
    },
    {
      "cell_type": "markdown",
      "metadata": {
        "id": "V4O4B_g29P9o"
      },
      "source": [
        "### Grid search"
      ]
    },
    {
      "cell_type": "code",
      "execution_count": null,
      "metadata": {
        "colab": {
          "base_uri": "https://localhost:8080/"
        },
        "id": "HL7RuzrVkyax",
        "outputId": "8a6df99a-7b39-4d25-e7b1-931302c13f25"
      },
      "outputs": [
        {
          "name": "stdout",
          "output_type": "stream",
          "text": [
            "{'ccp_alpha': 0.006737946999085467}\n",
            "0.9098035242911777\n"
          ]
        }
      ],
      "source": [
        "cv = 5\n",
        "\n",
        "param_grid = [{'ccp_alpha': list(math.exp(i) for i in range(-5, 0))}]\n",
        "\n",
        "model = DecisionTreeClassifier()\n",
        "\n",
        "clf = GridSearchCV(model, param_grid, cv=5, scoring='f1_macro')\n",
        "clf.fit(X_train, y_train)\n",
        "model_gs = clf.best_estimator_\n",
        "\n",
        "print(clf.best_params_)\n",
        "print(clf.best_score_)"
      ]
    },
    {
      "cell_type": "markdown",
      "metadata": {
        "id": "QaXclz4HHETF"
      },
      "source": [
        "#### f1_score"
      ]
    },
    {
      "cell_type": "code",
      "execution_count": null,
      "metadata": {
        "colab": {
          "base_uri": "https://localhost:8080/",
          "height": 995
        },
        "id": "VNc-yRfAFNvX",
        "outputId": "7caccfce-afde-4f74-c1f8-b92a313cb11f"
      },
      "outputs": [
        {
          "name": "stdout",
          "output_type": "stream",
          "text": [
            "Accuracy: 0.9462921489419596\n",
            "F1: 0.9190033407343818\n"
          ]
        },
        {
          "data": {
            "text/html": [
              "<div>\n",
              "<style scoped>\n",
              "    .dataframe tbody tr th:only-of-type {\n",
              "        vertical-align: middle;\n",
              "    }\n",
              "\n",
              "    .dataframe tbody tr th {\n",
              "        vertical-align: top;\n",
              "    }\n",
              "\n",
              "    .dataframe thead th {\n",
              "        text-align: right;\n",
              "    }\n",
              "</style>\n",
              "<table border=\"1\" class=\"dataframe\">\n",
              "  <thead>\n",
              "    <tr style=\"text-align: right;\">\n",
              "      <th></th>\n",
              "      <th>Class</th>\n",
              "      <th>Precision</th>\n",
              "      <th>Recall</th>\n",
              "      <th>F1-score</th>\n",
              "    </tr>\n",
              "  </thead>\n",
              "  <tbody>\n",
              "    <tr>\n",
              "      <th>0</th>\n",
              "      <td>Normal</td>\n",
              "      <td>0.863358</td>\n",
              "      <td>0.977227</td>\n",
              "      <td>0.916770</td>\n",
              "    </tr>\n",
              "    <tr>\n",
              "      <th>1</th>\n",
              "      <td>Abrupt Increase of BSW</td>\n",
              "      <td>0.978110</td>\n",
              "      <td>0.976647</td>\n",
              "      <td>0.977378</td>\n",
              "    </tr>\n",
              "    <tr>\n",
              "      <th>2</th>\n",
              "      <td>Spurious Closure of DHSV</td>\n",
              "      <td>0.996804</td>\n",
              "      <td>0.772947</td>\n",
              "      <td>0.870717</td>\n",
              "    </tr>\n",
              "    <tr>\n",
              "      <th>3</th>\n",
              "      <td>Severe Slugging</td>\n",
              "      <td>0.889151</td>\n",
              "      <td>0.825107</td>\n",
              "      <td>0.855932</td>\n",
              "    </tr>\n",
              "    <tr>\n",
              "      <th>4</th>\n",
              "      <td>Flow Instability</td>\n",
              "      <td>0.875118</td>\n",
              "      <td>0.943049</td>\n",
              "      <td>0.907814</td>\n",
              "    </tr>\n",
              "    <tr>\n",
              "      <th>5</th>\n",
              "      <td>Rapid Productivity Loss</td>\n",
              "      <td>0.864151</td>\n",
              "      <td>0.948424</td>\n",
              "      <td>0.904328</td>\n",
              "    </tr>\n",
              "    <tr>\n",
              "      <th>6</th>\n",
              "      <td>Quick Restriction in PCK</td>\n",
              "      <td>0.979322</td>\n",
              "      <td>0.989413</td>\n",
              "      <td>0.984342</td>\n",
              "    </tr>\n",
              "    <tr>\n",
              "      <th>7</th>\n",
              "      <td>Hydrate in Production Line</td>\n",
              "      <td>0.907411</td>\n",
              "      <td>0.889952</td>\n",
              "      <td>0.898597</td>\n",
              "    </tr>\n",
              "  </tbody>\n",
              "</table>\n",
              "</div>"
            ],
            "text/plain": [
              "                        Class  Precision    Recall  F1-score\n",
              "0                      Normal   0.863358  0.977227  0.916770\n",
              "1      Abrupt Increase of BSW   0.978110  0.976647  0.977378\n",
              "2    Spurious Closure of DHSV   0.996804  0.772947  0.870717\n",
              "3             Severe Slugging   0.889151  0.825107  0.855932\n",
              "4            Flow Instability   0.875118  0.943049  0.907814\n",
              "5     Rapid Productivity Loss   0.864151  0.948424  0.904328\n",
              "6    Quick Restriction in PCK   0.979322  0.989413  0.984342\n",
              "7  Hydrate in Production Line   0.907411  0.889952  0.898597"
            ]
          },
          "metadata": {},
          "output_type": "display_data"
        },
        {
          "data": {
            "text/plain": [
              "<matplotlib.axes._subplots.AxesSubplot at 0x7f280300e510>"
            ]
          },
          "execution_count": 33,
          "metadata": {},
          "output_type": "execute_result"
        },
        {
          "data": {
            "image/png": "[encoded data removed]",
            "text/plain": [
              "<Figure size 864x648 with 2 Axes>"
            ]
          },
          "metadata": {
            "needs_background": "light"
          },
          "output_type": "display_data"
        }
      ],
      "source": [
        "y_pred = model_gs.predict(X_test)\n",
        "\n",
        "f1 = f1_score(y_test, y_pred, average='macro')\n",
        "acc = accuracy_score(y_test, y_pred)\n",
        "print(f\"Accuracy: {acc}\")\n",
        "print(f\"F1: {f1}\")\n",
        "\n",
        "arr = confusion_matrix(y_test, y_pred)\n",
        "arr = arr.astype('float') / arr.sum(axis=1)[:, np.newaxis]\n",
        "\n",
        "precision = []\n",
        "recall = []\n",
        "f1_arr = []\n",
        "for i in range(8):\n",
        "  suma_prec = 0\n",
        "  suma_recall = 0\n",
        "  for j in range(8):\n",
        "    suma_prec += arr[j][i]\n",
        "    suma_recall += arr[i][j]\n",
        "  i_precision = arr[i][i] / suma_prec\n",
        "  i_recall = arr[i][i] / suma_recall\n",
        "  precision.append(i_precision)\n",
        "  recall.append(i_recall)\n",
        "  f1_arr.append((2 * i_precision * i_recall) / (i_precision + i_recall))\n",
        "\n",
        "\n",
        "df_metrics = pd.DataFrame()\n",
        "df_metrics['Class'] = [v for v in event_names.values()]\n",
        "df_metrics['Precision'] = precision\n",
        "df_metrics['Recall'] = recall\n",
        "df_metrics['F1-score'] = f1_arr\n",
        "\n",
        "display(df_metrics)\n",
        "\n",
        "df_cm = pd.DataFrame(arr, [name for name in event_names.values()], [name for name in event_names.values()])\n",
        "plt.figure(figsize=(12,9))\n",
        "sb.heatmap(df_cm, annot=True, annot_kws={\"size\": 12}, cmap=\"Blues\")\n",
        "\n",
        "df = {'classifier': 'Decision Tree', 'f1': f1, 'accuracy': acc, 'time_window': 300, 'hiperparameters': clf.best_params_['ccp_alpha']}\n",
        "\n",
        "results = results.append(df, ignore_index=True)\n",
        "\n"
      ]
    },
    {
      "cell_type": "markdown",
      "metadata": {
        "id": "uEyy0QQ-HETF"
      },
      "source": [
        "#### cross_val_score"
      ]
    },
    {
      "cell_type": "code",
      "execution_count": null,
      "metadata": {
        "id": "V2li84IVfe3N"
      },
      "outputs": [],
      "source": [
        "cv=cross_val_score(model_gs, X_test, y_test)\n",
        "print(f\"Cross value score: {cv}\")\n",
        "\n",
        "df_new={'classifier': 'Decision Tree', 'cross_val_score': cv, 'accuracy': acc, 'time_window': 300, 'hiperparameters': clf.best_params_['ccp_alpha']}\n",
        "results_new=results_new.append(df_new, ignore_index=True)"
      ]
    },
    {
      "cell_type": "markdown",
      "metadata": {
        "id": "gN0z1FueHETG"
      },
      "source": [
        "#### Bagging"
      ]
    },
    {
      "cell_type": "code",
      "execution_count": 101,
      "metadata": {
        "colab": {
          "base_uri": "https://localhost:8080/"
        },
        "outputId": "8da700cf-aed5-4aba-8dcc-7db8dfaf742d",
        "id": "8GFVvFXUHETG"
      },
      "outputs": [
        {
          "output_type": "stream",
          "name": "stdout",
          "text": [
            "{'n_estimators': 12}\n",
            "0.990667514529535\n"
          ]
        }
      ],
      "source": [
        "cv = 5\n",
        "\n",
        "param_grid = [{'n_estimators': list(i for i in range(10, 13))}]\n",
        "\n",
        "model = DecisionTreeClassifier()\n",
        "bagging = BaggingClassifier(model, max_samples=0.5, max_features=0.5)\n",
        "\n",
        "clf = GridSearchCV(bagging, param_grid, cv=5, scoring='f1_macro')\n",
        "clf.fit(X_train, y_train)\n",
        "model_gs = clf.best_estimator_\n",
        "\n",
        "print(clf.best_params_)\n",
        "print(clf.best_score_)\n"
      ]
    },
    {
      "cell_type": "code",
      "execution_count": 102,
      "metadata": {
        "id": "55HFTIdtHETG"
      },
      "outputs": [],
      "source": [
        "y_pred = model_gs.predict(X_test)\n",
        "acc = accuracy_score(y_test, y_pred)"
      ]
    },
    {
      "cell_type": "code",
      "execution_count": 104,
      "metadata": {
        "colab": {
          "base_uri": "https://localhost:8080/"
        },
        "id": "-sSXdz1FHETG",
        "outputId": "241f1116-4a2e-4897-8094-1243c52be5be"
      },
      "outputs": [
        {
          "output_type": "stream",
          "name": "stdout",
          "text": [
            "Cross value score: [0.99246547 0.99058183 0.99204605 0.99424385 0.99330194]\n"
          ]
        }
      ],
      "source": [
        "cv=cross_val_score(model_gs, X_test, y_test)\n",
        "print(f\"Cross value score: {cv}\")\n",
        "\n",
        "df_bag={'classifier': 'Decision Tree', 'cross_val_score': cv, 'accuracy': acc, 'time_window': 300, 'hiperparameters': clf.best_params_['n_estimators']}\n",
        "results_bag=results_bag.append(df_bag, ignore_index=True)"
      ]
    },
    {
      "cell_type": "markdown",
      "metadata": {
        "id": "2ch3f1zs9Ud9"
      },
      "source": [
        "### Randomized search"
      ]
    },
    {
      "cell_type": "code",
      "execution_count": 105,
      "metadata": {
        "id": "rFvSvZib9XCP",
        "colab": {
          "base_uri": "https://localhost:8080/"
        },
        "outputId": "ffc61e4f-9940-4f3e-db1c-bc1f70d6e79f"
      },
      "outputs": [
        {
          "output_type": "stream",
          "name": "stderr",
          "text": [
            "/usr/local/lib/python3.7/dist-packages/sklearn/model_selection/_search.py:296: UserWarning: The total space of parameters 7 is smaller than n_iter=10. Running 7 iterations. For exhaustive searches, use GridSearchCV.\n",
            "  UserWarning,\n"
          ]
        },
        {
          "output_type": "stream",
          "name": "stdout",
          "text": [
            "{'ccp_alpha': 0.0009118819655545162}\n",
            "0.9542434037584488\n"
          ]
        }
      ],
      "source": [
        "cv = 5\n",
        "\n",
        "param_grid = [{'ccp_alpha': list(math.exp(i) for i in range(-7, 0))}] \n",
        "model = DecisionTreeClassifier()\n",
        "\n",
        "clf = RandomizedSearchCV(model, param_grid, cv=5, scoring='f1_macro')\n",
        "clf.fit(X_train, y_train)\n",
        "model_rs = clf.best_estimator_\n",
        "\n",
        "print(clf.best_params_)\n",
        "print(clf.best_score_)"
      ]
    },
    {
      "cell_type": "markdown",
      "metadata": {
        "id": "Qre7zoUHHETG"
      },
      "source": [
        "#### f1_score"
      ]
    },
    {
      "cell_type": "code",
      "execution_count": 106,
      "metadata": {
        "id": "rc8T-QEw9XCR",
        "colab": {
          "base_uri": "https://localhost:8080/",
          "height": 978
        },
        "outputId": "dda1d127-f236-45f0-b026-d0a341df5356"
      },
      "outputs": [
        {
          "output_type": "stream",
          "name": "stdout",
          "text": [
            "Accuracy: 0.9756996044121649\n",
            "F1: 0.9566211367286297\n"
          ]
        },
        {
          "output_type": "display_data",
          "data": {
            "text/html": [
              "\n",
              "  <div id=\"df-3590e042-915d-4d2c-9330-8499088f45a1\">\n",
              "    <div class=\"colab-df-container\">\n",
              "      <div>\n",
              "<style scoped>\n",
              "    .dataframe tbody tr th:only-of-type {\n",
              "        vertical-align: middle;\n",
              "    }\n",
              "\n",
              "    .dataframe tbody tr th {\n",
              "        vertical-align: top;\n",
              "    }\n",
              "\n",
              "    .dataframe thead th {\n",
              "        text-align: right;\n",
              "    }\n",
              "</style>\n",
              "<table border=\"1\" class=\"dataframe\">\n",
              "  <thead>\n",
              "    <tr style=\"text-align: right;\">\n",
              "      <th></th>\n",
              "      <th>Class</th>\n",
              "      <th>Precision</th>\n",
              "      <th>Recall</th>\n",
              "      <th>F1-score</th>\n",
              "    </tr>\n",
              "  </thead>\n",
              "  <tbody>\n",
              "    <tr>\n",
              "      <th>0</th>\n",
              "      <td>Normal</td>\n",
              "      <td>0.870677</td>\n",
              "      <td>0.988765</td>\n",
              "      <td>0.925971</td>\n",
              "    </tr>\n",
              "    <tr>\n",
              "      <th>1</th>\n",
              "      <td>Abrupt Increase of BSW</td>\n",
              "      <td>0.951272</td>\n",
              "      <td>0.985583</td>\n",
              "      <td>0.968124</td>\n",
              "    </tr>\n",
              "    <tr>\n",
              "      <th>2</th>\n",
              "      <td>Spurious Closure of DHSV</td>\n",
              "      <td>0.996804</td>\n",
              "      <td>0.772947</td>\n",
              "      <td>0.870717</td>\n",
              "    </tr>\n",
              "    <tr>\n",
              "      <th>3</th>\n",
              "      <td>Severe Slugging</td>\n",
              "      <td>0.954643</td>\n",
              "      <td>0.952671</td>\n",
              "      <td>0.953656</td>\n",
              "    </tr>\n",
              "    <tr>\n",
              "      <th>4</th>\n",
              "      <td>Flow Instability</td>\n",
              "      <td>0.970025</td>\n",
              "      <td>0.929229</td>\n",
              "      <td>0.949189</td>\n",
              "    </tr>\n",
              "    <tr>\n",
              "      <th>5</th>\n",
              "      <td>Rapid Productivity Loss</td>\n",
              "      <td>0.932561</td>\n",
              "      <td>0.981516</td>\n",
              "      <td>0.956412</td>\n",
              "    </tr>\n",
              "    <tr>\n",
              "      <th>6</th>\n",
              "      <td>Quick Restriction in PCK</td>\n",
              "      <td>1.000000</td>\n",
              "      <td>0.989413</td>\n",
              "      <td>0.994678</td>\n",
              "    </tr>\n",
              "    <tr>\n",
              "      <th>7</th>\n",
              "      <td>Hydrate in Production Line</td>\n",
              "      <td>0.916454</td>\n",
              "      <td>0.966942</td>\n",
              "      <td>0.941021</td>\n",
              "    </tr>\n",
              "  </tbody>\n",
              "</table>\n",
              "</div>\n",
              "      <button class=\"colab-df-convert\" onclick=\"convertToInteractive('df-3590e042-915d-4d2c-9330-8499088f45a1')\"\n",
              "              title=\"Convert this dataframe to an interactive table.\"\n",
              "              style=\"display:none;\">\n",
              "        \n",
              "  <svg xmlns=\"http://www.w3.org/2000/svg\" height=\"24px\"viewBox=\"0 0 24 24\"\n",
              "       width=\"24px\">\n",
              "    <path d=\"M0 0h24v24H0V0z\" fill=\"none\"/>\n",
              "    <path d=\"M18.56 5.44l.94 2.06.94-2.06 2.06-.94-2.06-.94-.94-2.06-.94 2.06-2.06.94zm-11 1L8.5 8.5l.94-2.06 2.06-.94-2.06-.94L8.5 2.5l-.94 2.06-2.06.94zm10 10l.94 2.06.94-2.06 2.06-.94-2.06-.94-.94-2.06-.94 2.06-2.06.94z\"/><path d=\"M17.41 7.96l-1.37-1.37c-.4-.4-.92-.59-1.43-.59-.52 0-1.04.2-1.43.59L10.3 9.45l-7.72 7.72c-.78.78-.78 2.05 0 2.83L4 21.41c.39.39.9.59 1.41.59.51 0 1.02-.2 1.41-.59l7.78-7.78 2.81-2.81c.8-.78.8-2.07 0-2.86zM5.41 20L4 18.59l7.72-7.72 1.47 1.35L5.41 20z\"/>\n",
              "  </svg>\n",
              "      </button>\n",
              "      \n",
              "  <style>\n",
              "    .colab-df-container {\n",
              "      display:flex;\n",
              "      flex-wrap:wrap;\n",
              "      gap: 12px;\n",
              "    }\n",
              "\n",
              "    .colab-df-convert {\n",
              "      background-color: #E8F0FE;\n",
              "      border: none;\n",
              "      border-radius: 50%;\n",
              "      cursor: pointer;\n",
              "      display: none;\n",
              "      fill: #1967D2;\n",
              "      height: 32px;\n",
              "      padding: 0 0 0 0;\n",
              "      width: 32px;\n",
              "    }\n",
              "\n",
              "    .colab-df-convert:hover {\n",
              "      background-color: #E2EBFA;\n",
              "      box-shadow: 0px 1px 2px rgba(60, 64, 67, 0.3), 0px 1px 3px 1px rgba(60, 64, 67, 0.15);\n",
              "      fill: #174EA6;\n",
              "    }\n",
              "\n",
              "    [theme=dark] .colab-df-convert {\n",
              "      background-color: #3B4455;\n",
              "      fill: #D2E3FC;\n",
              "    }\n",
              "\n",
              "    [theme=dark] .colab-df-convert:hover {\n",
              "      background-color: #434B5C;\n",
              "      box-shadow: 0px 1px 3px 1px rgba(0, 0, 0, 0.15);\n",
              "      filter: drop-shadow(0px 1px 2px rgba(0, 0, 0, 0.3));\n",
              "      fill: #FFFFFF;\n",
              "    }\n",
              "  </style>\n",
              "\n",
              "      <script>\n",
              "        const buttonEl =\n",
              "          document.querySelector('#df-3590e042-915d-4d2c-9330-8499088f45a1 button.colab-df-convert');\n",
              "        buttonEl.style.display =\n",
              "          google.colab.kernel.accessAllowed ? 'block' : 'none';\n",
              "\n",
              "        async function convertToInteractive(key) {\n",
              "          const element = document.querySelector('#df-3590e042-915d-4d2c-9330-8499088f45a1');\n",
              "          const dataTable =\n",
              "            await google.colab.kernel.invokeFunction('convertToInteractive',\n",
              "                                                     [key], {});\n",
              "          if (!dataTable) return;\n",
              "\n",
              "          const docLinkHtml = 'Like what you see? Visit the ' +\n",
              "            '<a target=\"_blank\" href=https://colab.research.google.com/notebooks/data_table.ipynb>data table notebook</a>'\n",
              "            + ' to learn more about interactive tables.';\n",
              "          element.innerHTML = '';\n",
              "          dataTable['output_type'] = 'display_data';\n",
              "          await google.colab.output.renderOutput(dataTable, element);\n",
              "          const docLink = document.createElement('div');\n",
              "          docLink.innerHTML = docLinkHtml;\n",
              "          element.appendChild(docLink);\n",
              "        }\n",
              "      </script>\n",
              "    </div>\n",
              "  </div>\n",
              "  "
            ],
            "text/plain": [
              "                        Class  Precision    Recall  F1-score\n",
              "0                      Normal   0.870677  0.988765  0.925971\n",
              "1      Abrupt Increase of BSW   0.951272  0.985583  0.968124\n",
              "2    Spurious Closure of DHSV   0.996804  0.772947  0.870717\n",
              "3             Severe Slugging   0.954643  0.952671  0.953656\n",
              "4            Flow Instability   0.970025  0.929229  0.949189\n",
              "5     Rapid Productivity Loss   0.932561  0.981516  0.956412\n",
              "6    Quick Restriction in PCK   1.000000  0.989413  0.994678\n",
              "7  Hydrate in Production Line   0.916454  0.966942  0.941021"
            ]
          },
          "metadata": {}
        },
        {
          "output_type": "display_data",
          "data": {
            "image/png": "[encoded data removed]",
            "text/plain": [
              "<Figure size 864x648 with 2 Axes>"
            ]
          },
          "metadata": {
            "needs_background": "light"
          }
        }
      ],
      "source": [
        "y_pred = model_rs.predict(X_test)\n",
        "\n",
        "f1 = f1_score(y_test, y_pred, average='macro')\n",
        "acc = accuracy_score(y_test, y_pred)\n",
        "print(f\"Accuracy: {acc}\")\n",
        "print(f\"F1: {f1}\")\n",
        "\n",
        "arr = confusion_matrix(y_test, y_pred)\n",
        "arr = arr.astype('float') / arr.sum(axis=1)[:, np.newaxis]\n",
        "\n",
        "precision = []\n",
        "recall = []\n",
        "f1_arr = []\n",
        "for i in range(8):\n",
        "  suma_prec = 0\n",
        "  suma_recall = 0\n",
        "  for j in range(8):\n",
        "    suma_prec += arr[j][i]\n",
        "    suma_recall += arr[i][j]\n",
        "  i_precision = arr[i][i] / suma_prec\n",
        "  i_recall = arr[i][i] / suma_recall\n",
        "  precision.append(i_precision)\n",
        "  recall.append(i_recall)\n",
        "  f1_arr.append((2 * i_precision * i_recall) / (i_precision + i_recall))\n",
        "\n",
        "\n",
        "df_metrics = pd.DataFrame()\n",
        "df_metrics['Class'] = [v for v in event_names.values()]\n",
        "df_metrics['Precision'] = precision\n",
        "df_metrics['Recall'] = recall\n",
        "df_metrics['F1-score'] = f1_arr\n",
        "\n",
        "display(df_metrics)\n",
        "\n",
        "df_cm = pd.DataFrame(arr, [name for name in event_names.values()], [name for name in event_names.values()])\n",
        "plt.figure(figsize=(12,9))\n",
        "sb.heatmap(df_cm, annot=True, annot_kws={\"size\": 12}, cmap=\"Blues\")\n",
        "\n",
        "df2 = {'classifier': 'Decision Tree', 'f1': f1, 'accuracy': acc, 'time_window': 300, 'hiperparameters': clf.best_params_['ccp_alpha']}\n",
        "\n",
        "results = results.append(df2, ignore_index=True)\n",
        "\n"
      ]
    },
    {
      "cell_type": "markdown",
      "metadata": {
        "id": "Cyyf4Vs3HETH"
      },
      "source": [
        "#### cross_val_score"
      ]
    },
    {
      "cell_type": "code",
      "execution_count": 107,
      "metadata": {
        "id": "CMI6zco5fvpk",
        "colab": {
          "base_uri": "https://localhost:8080/"
        },
        "outputId": "ab8a754a-87d8-4c8b-de10-5c9e5276c7fa"
      },
      "outputs": [
        {
          "output_type": "stream",
          "name": "stdout",
          "text": [
            "Cross value score: [0.97258267 0.97300126 0.97414966 0.97519623 0.97655678]\n"
          ]
        }
      ],
      "source": [
        "cv=cross_val_score(model_rs, X_test, y_test)\n",
        "print(f\"Cross value score: {cv}\")\n",
        "\n",
        "df_new={'classifier': 'Decision Tree', 'cross_val_score': cv, 'accuracy': acc, 'time_window': 300, 'hiperparameters': clf.best_params_['ccp_alpha']}\n",
        "results_new=results_new.append(df_new, ignore_index=True)"
      ]
    },
    {
      "cell_type": "markdown",
      "metadata": {
        "id": "f8lKxY1CHETH"
      },
      "source": [
        "#### Bagging"
      ]
    },
    {
      "cell_type": "code",
      "execution_count": null,
      "metadata": {
        "id": "VadFTvx0HETH"
      },
      "outputs": [],
      "source": [
        "cv = 5\n",
        "\n",
        "param_grid = [{'n_estimators': list(i for i in range(10, 13))}]\n",
        "\n",
        "model = DecisionTreeClassifier()\n",
        "bagging = BaggingClassifier(model, max_samples=0.5, max_features=0.5)\n",
        "\n",
        "clf = RandomizedSearchCV(bagging, param_grid, cv=5, scoring='f1_macro')\n",
        "clf.fit(X_train, y_train)\n",
        "model_rs = clf.best_estimator_\n",
        "\n",
        "print(clf.best_params_)\n",
        "print(clf.best_score_)"
      ]
    },
    {
      "cell_type": "code",
      "execution_count": null,
      "metadata": {
        "id": "g_HpxcfOHETH"
      },
      "outputs": [],
      "source": [
        "y_pred = model_rs.predict(X_test)\n",
        "acc = accuracy_score(y_test, y_pred)"
      ]
    },
    {
      "cell_type": "code",
      "execution_count": null,
      "metadata": {
        "id": "NHD9wVDfHETH"
      },
      "outputs": [],
      "source": [
        "cv=cross_val_score(model_rs, X_test, y_test)\n",
        "print(f\"Cross value score: {cv}\")\n",
        "\n",
        "df_rnd={'classifier': 'Decision Tree', 'cross_val_score': cv, 'accuracy': acc, 'time_window': 300, 'hiperparameters': clf.best_params_['ccp_alpha']}\n",
        "results_rnd=results_rnd.append(df_rnd, ignore_index=True)"
      ]
    },
    {
      "cell_type": "markdown",
      "metadata": {
        "id": "KAKLtiKpk2II"
      },
      "source": [
        "## Random Forest"
      ]
    },
    {
      "cell_type": "markdown",
      "metadata": {
        "id": "HDYavpWs940V"
      },
      "source": [
        "### Grid search"
      ]
    },
    {
      "cell_type": "code",
      "execution_count": null,
      "metadata": {
        "id": "6yjPjhG5k2IJ"
      },
      "outputs": [],
      "source": [
        "cv = 5\n",
        "# za n_estimators dodani su 75 i 125\n",
        "# za max_depth dodani su 1, 3 i 8\n",
        "# za max_features dodani su 7 i 10\n",
        "\n",
        "param_grid = [{'n_estimators': [50,75, 100, 125, 150, 175], 'max_depth': [1,3,5, 7, 8, 10, None], 'max_features': [5,7, int(math.sqrt(n_of_features)),10, 15]}]\n",
        "\n",
        "model = RandomForestClassifier()\n",
        "\n",
        "clf = GridSearchCV(model, param_grid, cv=5, scoring='f1_macro')\n",
        "clf.fit(X_train, y_train)\n",
        "model_gs = clf.best_estimator_\n",
        "\n",
        "print(clf.best_params_)\n",
        "print(clf.best_score_)"
      ]
    },
    {
      "cell_type": "code",
      "execution_count": null,
      "metadata": {
        "id": "OvtsZVD7k2IJ"
      },
      "outputs": [],
      "source": [
        "y_pred = model_gs.predict(X_test)\n",
        "\n",
        "f1 = f1_score(y_test, y_pred, average='macro')\n",
        "acc = accuracy_score(y_test, y_pred)\n",
        "print(f\"Accuracy: {acc}\")\n",
        "print(f\"F1: {f1}\")\n",
        "\n",
        "df = {'classifier': 'Random Forest', 'f1': f1, 'accuracy': acc, 'time_window': 300, 'hiperparameters': f\"Max depth: {clf.best_params_['max_depth']}, max features: {clf.best_params_['max_features']}, num trees: {clf.best_params_['n_estimators']}\"}\n",
        "\n",
        "results = results.append(df, ignore_index=True)\n",
        "\n"
      ]
    },
    {
      "cell_type": "code",
      "execution_count": null,
      "metadata": {
        "id": "7HldHWwRf0oo"
      },
      "outputs": [],
      "source": [
        "cv=cross_val_score(model, X_test, y_test)\n",
        "print(f\"Cross value score: {cv}\")\n",
        "\n",
        "df_new={'classifier': 'Random Forest', 'cross_val_score': cv, 'accuracy': acc, 'time_window': 300, 'hiperparameters': f\"Max depth: {clf.best_params_['max_depth']}, max features: {clf.best_params_['max_features']}, num trees: {clf.best_params_['n_estimators']}\"}\n",
        "results_new=results_new.append(d_new, ignore_index=True)"
      ]
    },
    {
      "cell_type": "markdown",
      "metadata": {
        "id": "qMZIQYNh-Asj"
      },
      "source": [
        "### Randomized search"
      ]
    },
    {
      "cell_type": "code",
      "execution_count": null,
      "metadata": {
        "id": "L0o37aL6-EGb"
      },
      "outputs": [],
      "source": [
        "cv = 5\n",
        "# za n_estimators dodani su 75 i 125\n",
        "# za max_depth dodani su 1, 3 i 8\n",
        "# za max_features dodani su 7 i 10\n",
        "\n",
        "param_grid = [{'n_estimators': [50,75, 100, 125, 150, 175], 'max_depth': [1,3,5, 7, 8, 10, None], 'max_features': [5,7, int(math.sqrt(n_of_features)),10, 15]}]\n",
        "\n",
        "\n",
        "model = RandomForestClassifier()\n",
        "\n",
        "clf = RandomizedSearchCV(model, param_grid, cv=5, scoring='f1_macro')\n",
        "clf.fit(X_train, y_train)\n",
        "model_rs = clf.best_estimator_\n",
        "\n",
        "print(clf.best_params_)\n",
        "print(clf.best_score_)"
      ]
    },
    {
      "cell_type": "code",
      "execution_count": null,
      "metadata": {
        "id": "Rza3jXZc-EGc"
      },
      "outputs": [],
      "source": [
        "y_pred = model_rs.predict(X_test)\n",
        "\n",
        "f1 = f1_score(y_test, y_pred, average='macro')\n",
        "acc = accuracy_score(y_test, y_pred)\n",
        "print(f\"Accuracy: {acc}\")\n",
        "print(f\"F1: {f1}\")\n",
        "\n",
        "df = {'classifier': 'Random Forest', 'f1': f1, 'accuracy': acc, 'time_window': 300, 'hiperparameters': f\"Max depth: {clf.best_params_['max_depth']}, max features: {clf.best_params_['max_features']}, num trees: {clf.best_params_['n_estimators']}\"}\n",
        "\n",
        "results = results.append(df, ignore_index=True)\n",
        "\n"
      ]
    },
    {
      "cell_type": "code",
      "execution_count": null,
      "metadata": {
        "id": "PQR0k8nfgDAs"
      },
      "outputs": [],
      "source": [
        "cv=cross_val_score(model, X_test, y_test)\n",
        "print(f\"Cross value score: {cv}\")\n",
        "\n",
        "df_new={'classifier': 'Random Forest', 'cross_val_score': cv, 'accuracy': acc, 'time_window': 300, 'hiperparameters': f\"Max depth: {clf.best_params_['max_depth']}, max features: {clf.best_params_['max_features']}, num trees: {clf.best_params_['n_estimators']}\"}\n",
        "results_new=results_new.append(d_new, ignore_index=True)"
      ]
    },
    {
      "cell_type": "markdown",
      "metadata": {
        "id": "BFhqVl3gk5aX"
      },
      "source": [
        "## AdaBoost"
      ]
    },
    {
      "cell_type": "markdown",
      "metadata": {
        "id": "fTUzrfpR-Jdz"
      },
      "source": [
        "### Grid search"
      ]
    },
    {
      "cell_type": "code",
      "execution_count": null,
      "metadata": {
        "id": "73wteEr5k5aY"
      },
      "outputs": [],
      "source": [
        "cv = 5\n",
        "# za n_estimators dodani su 150 i 475\n",
        "# za max_depth dodani su 7 i 10\n",
        "# za learning_rate dodani su 0.05 i 0.5\n",
        "\n",
        "param_grid = [{'n_estimators': [100,150, 250, 400, 475, 550], 'max_depth': [1, 3, 5,7,10], 'learning_rate': [0.01, 0.05, 0.1, 0.5, 1]}]\n",
        "\n",
        "model = AdaBoostClassifier()\n",
        "\n",
        "clf = GridSearchCV(model, param_grid, cv=5, scoring='f1_macro')\n",
        "clf.fit(X_train, y_train)\n",
        "model_gs = clf.best_estimator_\n",
        "\n",
        "print(clf.best_params_)\n",
        "print(clf.best_score_)"
      ]
    },
    {
      "cell_type": "code",
      "execution_count": null,
      "metadata": {
        "id": "uUQK1ueNk5aY"
      },
      "outputs": [],
      "source": [
        "y_pred = model_gs.predict(X_test)\n",
        "\n",
        "f1 = f1_score(y_test, y_pred, average='macro')\n",
        "acc = accuracy_score(y_test, y_pred)\n",
        "print(f\"Accuracy: {acc}\")\n",
        "print(f\"F1: {f1}\")\n",
        "\n",
        "df2 = {'classifier': 'AdaBoost', 'f1': f1, 'accuracy': acc, 'time_window': 300, 'hiperparameters': f\"Max depth: {clf.best_params_['max_depth']}, num trees: {clf.best_params_['n_estimators']}, learning rate: {clf.best_params_['learning_rate']}\"}\n",
        "\n",
        "results = results.append(df2, ignore_index=True)"
      ]
    },
    {
      "cell_type": "code",
      "execution_count": null,
      "metadata": {
        "id": "UT8nrsFBgVwN"
      },
      "outputs": [],
      "source": [
        "cv=cross_val_score(model, X_test, y_test)\n",
        "print(f\"Cross value score: {cv}\")\n",
        "\n",
        "df_new2={'classifier': 'AdaBoost', 'cross_val_score': cv, 'accuracy': acc, 'time_window': 300, 'hiperparameters': f\"Max depth: {clf.best_params_['max_depth']}, num trees: {clf.best_params_['n_estimators']}, learning rate: {clf.best_params_['learning_rate']}\"}\n",
        "results_new=results_new.append(d_new2, ignore_index=True)"
      ]
    },
    {
      "cell_type": "markdown",
      "metadata": {
        "id": "qcxfwAii-NM7"
      },
      "source": [
        "### Randomized search"
      ]
    },
    {
      "cell_type": "code",
      "execution_count": null,
      "metadata": {
        "id": "zAIhClK4-Ov7"
      },
      "outputs": [],
      "source": [
        "cv = 5\n",
        "\n",
        "# za n_estimators dodani su 150 i 475\n",
        "# za max_depth dodani su 7 i 10\n",
        "# za learning_rate dodani su 0.05 i 0.5\n",
        "\n",
        "param_grid = [{'n_estimators': [100,150, 250, 400, 475, 550], 'max_depth': [1, 3, 5,7,10], 'learning_rate': [0.01, 0.05, 0.1, 0.5, 1]}]\n",
        "\n",
        "model = AdaBoostClassifier()\n",
        "\n",
        "clf = RandomizedSearchCV(model, param_grid, cv=5, scoring='f1_macro')\n",
        "clf.fit(X_train, y_train)\n",
        "model_rs = clf.best_estimator_\n",
        "\n",
        "print(clf.best_params_)\n",
        "print(clf.best_score_)"
      ]
    },
    {
      "cell_type": "code",
      "execution_count": null,
      "metadata": {
        "id": "rZpUgPnX-Ov9"
      },
      "outputs": [],
      "source": [
        "y_pred = model_rs.predict(X_test)\n",
        "\n",
        "f1 = f1_score(y_test, y_pred, average='macro')\n",
        "acc = accuracy_score(y_test, y_pred)\n",
        "print(f\"Accuracy: {acc}\")\n",
        "print(f\"F1: {f1}\")\n",
        "\n",
        "df = {'classifier': 'AdaBoost', 'f1': f1, 'accuracy': acc, 'time_window': 300, 'hiperparameters': f\"Max depth: {clf.best_params_['max_depth']}, num trees: {clf.best_params_['n_estimators']}, learning rate: {clf.best_params_['learning_rate']}\"}\n",
        "\n",
        "results = results.append(df, ignore_index=True)"
      ]
    },
    {
      "cell_type": "code",
      "execution_count": null,
      "metadata": {
        "id": "RpmCA0cggkF4"
      },
      "outputs": [],
      "source": [
        "cv=cross_val_score(model, X_test, y_test)\n",
        "print(f\"Cross value score: {cv}\")\n",
        "\n",
        "df_new={'classifier': 'AdaBoost', 'cross_val_score': cv, 'accuracy': acc, 'time_window': 300, 'hiperparameters': f\"Max depth: {clf.best_params_['max_depth']}, num trees: {clf.best_params_['n_estimators']}, learning rate: {clf.best_params_['learning_rate']}\"}\n",
        "results_new=results_new.append(df_new, ignore_index=True)"
      ]
    },
    {
      "cell_type": "markdown",
      "metadata": {
        "id": "0kyG0UZhTbBA"
      },
      "source": [
        "Vrsta istraživanja provedena u članku prema:\n",
        "  - svrsi: Primijenjeno istraživanje - istraživanje nepoželjnih događaja u radu naftnih bušotina u svrhu izrade modela koji može predvidjeti koji nepoželjan događaj se događa u danom trenutku na osnovu podataka očitanih sa senzora\n",
        "  - izvoru informacija: Sekundarno istraživanje - korišten je ranije sastavljen skup podataka od strane drugih/e osoba/e\n",
        "  - vremenu provedbe: Longitudinalno istraživanje - promatraju se vrijednosti dobivene od senzora u određenom vremenskom razdoblju\n",
        "  - načinu prikupljanja: Dokumentarno istraživanje - sustavno su pregledane postojeće informacije i postojeći podaci o temi\n",
        "  - vrsti korištenih podataka: Kvantitativno istraživanje - prikupljeni podaci su direktno očitani sa senzora pa tako skup podataka sadrži isključivo numeričke vrijednosti\n",
        "  - stupnju manipulacije varijablama: Promatračko istraživanje - u članku su samo korišteni podaci koji su već postojali, ako gledamo same podatke, mogli bi reći da ima i elemenata kvazi-eksperimentalnog istraživanja jer su dodani mnogi simulirani podaci\n",
        "  - dubini: elementi Objašnjavačkog i Korelacijskog istraživanja - cilj je definirati odnos između senzorskih varijabli i nepoželjnih događaja, ali i uspostavljanje uzročno-posljedičnih veza i pružanje dodatnih informacija o temi koju članak obrađuje\n",
        "  - vrsti zaključka: Deduktivno istraživanje - samom izradom modela za klasifikaciju uvode se poveznice i zaključci o odnosu između ulaznih varijabli i događaja koji se predviđa\n",
        "\n",
        "Način na koji su podaci za članak prikupljeni najviše nalikuje operacijskom istraživanju jer se promatraju događaji koji se stvarno događaju u radu naftnih bušotina.\n",
        "\n",
        "Podaci su prikupljeni na etičan način. Nisam pronašao da je navedeno sa kojih je naftnih bušotina obavljeno prikupljanje podataka. To je dobro jer bi se u suprotnom možda moglo iskoristiti znanja iz članka za namjerno prouzročiti probleme da danoj naftnoj bušotini.\n"
      ]
    }
  ],
  "metadata": {
    "colab": {
      "collapsed_sections": [],
      "name": "uzop_projekt_final.ipynb",
      "provenance": []
    },
    "kernelspec": {
      "display_name": "Python 3",
      "language": "python",
      "name": "python3"
    },
    "language_info": {
      "codemirror_mode": {
        "name": "ipython",
        "version": 3
      },
      "file_extension": ".py",
      "mimetype": "text/x-python",
      "name": "python",
      "nbconvert_exporter": "python",
      "pygments_lexer": "ipython3",
      "version": "3.8.8"
    },
    "toc": {
      "base_numbering": 1,
      "nav_menu": {},
      "number_sections": false,
      "sideBar": true,
      "skip_h1_title": false,
      "title_cell": "Sumário",
      "title_sidebar": "Sumário",
      "toc_cell": false,
      "toc_position": {
        "height": "calc(100% - 180px)",
        "left": "10px",
        "top": "150px",
        "width": "165px"
      },
      "toc_section_display": true,
      "toc_window_display": false
    }
  },
  "nbformat": 4,
  "nbformat_minor": 0
}